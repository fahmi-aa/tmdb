{
  "nbformat": 4,
  "nbformat_minor": 0,
  "metadata": {
    "colab": {
      "name": "tmdb.ipynb",
      "provenance": [],
      "collapsed_sections": [
        "zfMpK8C66hmx",
        "dihZSxw77vyy",
        "r8Q3ZlDaEIGR",
        "6Q78EKiR-t0g",
        "ufpVtE0j71HS"
      ]
    },
    "kernelspec": {
      "name": "python3",
      "display_name": "Python 3"
    },
    "language_info": {
      "name": "python"
    }
  },
  "cells": [
    {
      "cell_type": "markdown",
      "source": [
        "# Fahmi Abdulaziz - Qoala ETL Pipeline Assingment\n",
        "This is development notebook used for ETL development and prototyping."
      ],
      "metadata": {
        "id": "tI2p1V636MDO"
      }
    },
    {
      "cell_type": "markdown",
      "source": [
        "## Preparing Dependencies"
      ],
      "metadata": {
        "id": "zfMpK8C66hmx"
      }
    },
    {
      "cell_type": "code",
      "execution_count": 1,
      "metadata": {
        "id": "-hlh_UWOgIwM",
        "colab": {
          "base_uri": "https://localhost:8080/"
        },
        "outputId": "955c20b8-2f72-49e8-d50e-ecb42ddabaca"
      },
      "outputs": [
        {
          "output_type": "stream",
          "name": "stdout",
          "text": [
            "\u001b[K     |████████████████████████████████| 281.4 MB 35 kB/s \n",
            "\u001b[K     |████████████████████████████████| 198 kB 58.5 MB/s \n",
            "\u001b[?25h  Building wheel for pyspark (setup.py) ... \u001b[?25l\u001b[?25hdone\n"
          ]
        }
      ],
      "source": [
        "!pip install -q pyspark kaggle"
      ]
    },
    {
      "cell_type": "code",
      "source": [
        "from google.colab import drive\n",
        "drive.mount('/content/drive')"
      ],
      "metadata": {
        "id": "jfvWJ_nOEZkh",
        "colab": {
          "base_uri": "https://localhost:8080/"
        },
        "outputId": "0d58cffd-18cf-4ea6-ee6d-6164e9806957"
      },
      "execution_count": 2,
      "outputs": [
        {
          "output_type": "stream",
          "name": "stdout",
          "text": [
            "Mounted at /content/drive\n"
          ]
        }
      ]
    },
    {
      "cell_type": "markdown",
      "source": [
        "preparing kaggle credential"
      ],
      "metadata": {
        "id": "HVTmU6aK7Pty"
      }
    },
    {
      "cell_type": "code",
      "source": [
        "!mkdir -p ~/.kaggle\n",
        "!cp /content/drive/MyDrive/kaggle.json ~/.kaggle/\n",
        "!chmod 600 ~/.kaggle/kaggle.json"
      ],
      "metadata": {
        "id": "qEDmuxJ_h-e0"
      },
      "execution_count": 3,
      "outputs": []
    },
    {
      "cell_type": "markdown",
      "source": [
        "## Preparing Source File"
      ],
      "metadata": {
        "id": "dihZSxw77vyy"
      }
    },
    {
      "cell_type": "markdown",
      "source": [
        "### Download & unzip tmdb dataset"
      ],
      "metadata": {
        "id": "r8Q3ZlDaEIGR"
      }
    },
    {
      "cell_type": "code",
      "source": [
        "%%bash --err null\n",
        "kaggle datasets download edgartanaka1/tmdb-movies-and-series -p /content\n",
        "unzip /content/tmdb-movies-and-series.zip"
      ],
      "metadata": {
        "id": "r8mLfNiniWkG"
      },
      "execution_count": null,
      "outputs": []
    },
    {
      "cell_type": "markdown",
      "source": [
        "### Combining all the files into one JSON\n",
        "This step is unnecessary, but it would speed up file loading a lot."
      ],
      "metadata": {
        "id": "6Q78EKiR-t0g"
      }
    },
    {
      "cell_type": "code",
      "source": [
        "from os import listdir\n",
        "from os.path import isfile, join\n",
        "import json"
      ],
      "metadata": {
        "id": "e1cWdd0Z6LHg"
      },
      "execution_count": null,
      "outputs": []
    },
    {
      "cell_type": "code",
      "source": [
        "def get_files_in_dir(path: str):\n",
        "    return [f for f in listdir(path) if isfile(join(path, f))]"
      ],
      "metadata": {
        "id": "s0wdyTsS-9kS"
      },
      "execution_count": null,
      "outputs": []
    },
    {
      "cell_type": "code",
      "source": [
        "def combine_all_file(dir: str, out: str):\n",
        "    joined_file = open(out, \"a+\")\n",
        "    file_paths = get_files_in_dir(dir)\n",
        "\n",
        "    for file_path in file_paths:\n",
        "        with open(join(dir, file_path)) as f:\n",
        "            payload = f.read()\n",
        "            joined_file.write(payload+'\\n')\n",
        "\n",
        "    joined_file.close()"
      ],
      "metadata": {
        "id": "K2j8Uqlv_Uap"
      },
      "execution_count": null,
      "outputs": []
    },
    {
      "cell_type": "code",
      "source": [
        "for folder in ['series', 'movies']:\n",
        "    dir = join(\"/content\", folder, folder)\n",
        "    out_file = join(\"/content\", folder+\"_joined.json\")\n",
        "    combine_all_file(dir, out_file)"
      ],
      "metadata": {
        "id": "ONMatepzAdzl"
      },
      "execution_count": null,
      "outputs": []
    },
    {
      "cell_type": "markdown",
      "source": [
        ""
      ],
      "metadata": {
        "id": "n9DjOw9vEQTZ"
      }
    },
    {
      "cell_type": "markdown",
      "source": [
        "## Extract"
      ],
      "metadata": {
        "id": "aL_F489oFVj6"
      }
    },
    {
      "cell_type": "code",
      "source": [
        "from pyspark.sql import SparkSession\n",
        "from pyspark.sql.dataframe import DataFrame\n",
        "import pyspark.sql.functions as F"
      ],
      "metadata": {
        "id": "Bso4EyuTEZN5"
      },
      "execution_count": 4,
      "outputs": []
    },
    {
      "cell_type": "code",
      "source": [
        "spark = SparkSession.builder.appName(\"tmdb\") \\\n",
        "    .config(\"spark.driver.maxResultSize\", \"10g\") \\\n",
        "    .getOrCreate()"
      ],
      "metadata": {
        "id": "VAUJwbyDEivb"
      },
      "execution_count": 5,
      "outputs": []
    },
    {
      "cell_type": "code",
      "source": [
        "df_movies = spark.read.json(\"/content/drive/MyDrive/datasets/tmdb/movies_joined.json\")\n",
        "df_series = spark.read.json(\"/content/drive/MyDrive/datasets/tmdb/series_joined.json\")"
      ],
      "metadata": {
        "id": "jeQqYCkzEtWr"
      },
      "execution_count": 6,
      "outputs": []
    },
    {
      "cell_type": "code",
      "source": [
        "df_movies.printSchema()"
      ],
      "metadata": {
        "colab": {
          "base_uri": "https://localhost:8080/"
        },
        "id": "sXxWSSK_ONtu",
        "outputId": "902f7e92-171d-41f8-9521-8bdeea9c2b7d"
      },
      "execution_count": 7,
      "outputs": [
        {
          "output_type": "stream",
          "name": "stdout",
          "text": [
            "root\n",
            " |-- adult: boolean (nullable = true)\n",
            " |-- backdrop_path: string (nullable = true)\n",
            " |-- belongs_to_collection: struct (nullable = true)\n",
            " |    |-- backdrop_path: string (nullable = true)\n",
            " |    |-- id: long (nullable = true)\n",
            " |    |-- name: string (nullable = true)\n",
            " |    |-- poster_path: string (nullable = true)\n",
            " |-- budget: long (nullable = true)\n",
            " |-- genres: array (nullable = true)\n",
            " |    |-- element: struct (containsNull = true)\n",
            " |    |    |-- id: long (nullable = true)\n",
            " |    |    |-- name: string (nullable = true)\n",
            " |-- homepage: string (nullable = true)\n",
            " |-- id: long (nullable = true)\n",
            " |-- imdb_id: string (nullable = true)\n",
            " |-- original_language: string (nullable = true)\n",
            " |-- original_title: string (nullable = true)\n",
            " |-- overview: string (nullable = true)\n",
            " |-- popularity: double (nullable = true)\n",
            " |-- poster_path: string (nullable = true)\n",
            " |-- production_companies: array (nullable = true)\n",
            " |    |-- element: struct (containsNull = true)\n",
            " |    |    |-- id: long (nullable = true)\n",
            " |    |    |-- logo_path: string (nullable = true)\n",
            " |    |    |-- name: string (nullable = true)\n",
            " |    |    |-- origin_country: string (nullable = true)\n",
            " |-- production_countries: array (nullable = true)\n",
            " |    |-- element: struct (containsNull = true)\n",
            " |    |    |-- iso_3166_1: string (nullable = true)\n",
            " |    |    |-- name: string (nullable = true)\n",
            " |-- release_date: string (nullable = true)\n",
            " |-- revenue: long (nullable = true)\n",
            " |-- runtime: long (nullable = true)\n",
            " |-- spoken_languages: array (nullable = true)\n",
            " |    |-- element: struct (containsNull = true)\n",
            " |    |    |-- iso_639_1: string (nullable = true)\n",
            " |    |    |-- name: string (nullable = true)\n",
            " |-- status: string (nullable = true)\n",
            " |-- tagline: string (nullable = true)\n",
            " |-- title: string (nullable = true)\n",
            " |-- video: boolean (nullable = true)\n",
            " |-- vote_average: double (nullable = true)\n",
            " |-- vote_count: long (nullable = true)\n",
            "\n"
          ]
        }
      ]
    },
    {
      "cell_type": "code",
      "source": [
        "df_series.printSchema()"
      ],
      "metadata": {
        "colab": {
          "base_uri": "https://localhost:8080/"
        },
        "id": "RXfIFmtN78Uf",
        "outputId": "9de0c999-e7ba-4490-e343-80778dfb451b"
      },
      "execution_count": 8,
      "outputs": [
        {
          "output_type": "stream",
          "name": "stdout",
          "text": [
            "root\n",
            " |-- backdrop_path: string (nullable = true)\n",
            " |-- created_by: array (nullable = true)\n",
            " |    |-- element: struct (containsNull = true)\n",
            " |    |    |-- credit_id: string (nullable = true)\n",
            " |    |    |-- gender: long (nullable = true)\n",
            " |    |    |-- id: long (nullable = true)\n",
            " |    |    |-- name: string (nullable = true)\n",
            " |    |    |-- profile_path: string (nullable = true)\n",
            " |-- episode_run_time: array (nullable = true)\n",
            " |    |-- element: long (containsNull = true)\n",
            " |-- first_air_date: string (nullable = true)\n",
            " |-- genres: array (nullable = true)\n",
            " |    |-- element: struct (containsNull = true)\n",
            " |    |    |-- id: long (nullable = true)\n",
            " |    |    |-- name: string (nullable = true)\n",
            " |-- homepage: string (nullable = true)\n",
            " |-- id: long (nullable = true)\n",
            " |-- in_production: boolean (nullable = true)\n",
            " |-- languages: array (nullable = true)\n",
            " |    |-- element: string (containsNull = true)\n",
            " |-- last_air_date: string (nullable = true)\n",
            " |-- last_episode_to_air: struct (nullable = true)\n",
            " |    |-- air_date: string (nullable = true)\n",
            " |    |-- episode_number: long (nullable = true)\n",
            " |    |-- id: long (nullable = true)\n",
            " |    |-- name: string (nullable = true)\n",
            " |    |-- overview: string (nullable = true)\n",
            " |    |-- production_code: string (nullable = true)\n",
            " |    |-- season_number: long (nullable = true)\n",
            " |    |-- show_id: long (nullable = true)\n",
            " |    |-- still_path: string (nullable = true)\n",
            " |    |-- vote_average: double (nullable = true)\n",
            " |    |-- vote_count: long (nullable = true)\n",
            " |-- name: string (nullable = true)\n",
            " |-- networks: array (nullable = true)\n",
            " |    |-- element: struct (containsNull = true)\n",
            " |    |    |-- id: long (nullable = true)\n",
            " |    |    |-- logo_path: string (nullable = true)\n",
            " |    |    |-- name: string (nullable = true)\n",
            " |    |    |-- origin_country: string (nullable = true)\n",
            " |-- next_episode_to_air: struct (nullable = true)\n",
            " |    |-- air_date: string (nullable = true)\n",
            " |    |-- episode_number: long (nullable = true)\n",
            " |    |-- id: long (nullable = true)\n",
            " |    |-- name: string (nullable = true)\n",
            " |    |-- overview: string (nullable = true)\n",
            " |    |-- production_code: string (nullable = true)\n",
            " |    |-- season_number: long (nullable = true)\n",
            " |    |-- show_id: long (nullable = true)\n",
            " |    |-- still_path: string (nullable = true)\n",
            " |    |-- vote_average: double (nullable = true)\n",
            " |    |-- vote_count: long (nullable = true)\n",
            " |-- number_of_episodes: long (nullable = true)\n",
            " |-- number_of_seasons: long (nullable = true)\n",
            " |-- origin_country: array (nullable = true)\n",
            " |    |-- element: string (containsNull = true)\n",
            " |-- original_language: string (nullable = true)\n",
            " |-- original_name: string (nullable = true)\n",
            " |-- overview: string (nullable = true)\n",
            " |-- popularity: double (nullable = true)\n",
            " |-- poster_path: string (nullable = true)\n",
            " |-- production_companies: array (nullable = true)\n",
            " |    |-- element: struct (containsNull = true)\n",
            " |    |    |-- id: long (nullable = true)\n",
            " |    |    |-- logo_path: string (nullable = true)\n",
            " |    |    |-- name: string (nullable = true)\n",
            " |    |    |-- origin_country: string (nullable = true)\n",
            " |-- seasons: array (nullable = true)\n",
            " |    |-- element: struct (containsNull = true)\n",
            " |    |    |-- air_date: string (nullable = true)\n",
            " |    |    |-- episode_count: long (nullable = true)\n",
            " |    |    |-- id: long (nullable = true)\n",
            " |    |    |-- name: string (nullable = true)\n",
            " |    |    |-- overview: string (nullable = true)\n",
            " |    |    |-- poster_path: string (nullable = true)\n",
            " |    |    |-- season_number: long (nullable = true)\n",
            " |-- status: string (nullable = true)\n",
            " |-- type: string (nullable = true)\n",
            " |-- vote_average: double (nullable = true)\n",
            " |-- vote_count: long (nullable = true)\n",
            "\n"
          ]
        }
      ]
    },
    {
      "cell_type": "markdown",
      "source": [
        "## Exploration"
      ],
      "metadata": {
        "id": "8ZbaNrvzdCCO"
      }
    },
    {
      "cell_type": "markdown",
      "source": [
        "### Array struct column type consistency check\n",
        "The repetitive value in `Array - Struct` column type could create inconsistency between data. In this part we will try to check if the data in `Array - Struct` filed is consistent"
      ],
      "metadata": {
        "id": "666i6tWDebFv"
      }
    },
    {
      "cell_type": "code",
      "source": [
        "# utility function\n",
        "def explode_array_column(dataframe: DataFrame, column: str, new_column: str):\n",
        "    return dataframe.select(F.col(column)) \\\n",
        "        .where(F.size(F.col(column)) > 0 ) \\\n",
        "        .withColumn(new_column, F.explode(F.col(column))) \\\n",
        "        .select(F.col(new_column)) \\\n",
        "        \n",
        "\n",
        "\n",
        "def check_array_struct_uniqueness(dataframe: DataFrame, column: str, id_key: str):\n",
        "    res_table = explode_array_column(dataframe, column, \"temp\") \\\n",
        "        .select(F.col(f\"temp.*\")) \\\n",
        "        .distinct() \\\n",
        "        .groupBy(id_key).count() \\\n",
        "        .where(F.col(\"count\") > 1)\n",
        "    \n",
        "    if res_table.count() > 0:\n",
        "        print(f\"Data in column {column} is inconsistent\")\n",
        "        res_table.show(10)"
      ],
      "metadata": {
        "id": "ZXrslSsiTZX5"
      },
      "execution_count": 17,
      "outputs": []
    },
    {
      "cell_type": "code",
      "source": [
        "check_array_struct_uniqueness(df_movies, \"production_companies\", \"id\")\n",
        "check_array_struct_uniqueness(df_movies, \"genres\", \"id\")\n",
        "check_array_struct_uniqueness(df_movies, \"spoken_languages\", \"iso_639_1\")\n",
        "check_array_struct_uniqueness(df_movies, \"production_countries\", \"iso_3166_1\")\n",
        "check_array_struct_uniqueness(df_movies, \"genres\", \"id\")\n",
        "check_array_struct_uniqueness(df_series, \"genres\", \"id\")\n",
        "check_array_struct_uniqueness(df_series, \"networks\", \"id\")\n",
        "check_array_struct_uniqueness(df_series, \"production_companies\", \"id\")"
      ],
      "metadata": {
        "colab": {
          "base_uri": "https://localhost:8080/"
        },
        "id": "sllFvvcyUskC",
        "outputId": "2546301d-9476-454e-a8da-d439f22dc302"
      },
      "execution_count": 19,
      "outputs": [
        {
          "output_type": "stream",
          "name": "stdout",
          "text": [
            "Data in column production_companies is inconsistent\n",
            "+----+-----+\n",
            "|  id|count|\n",
            "+----+-----+\n",
            "| 215|    2|\n",
            "|6689|    2|\n",
            "+----+-----+\n",
            "\n"
          ]
        }
      ]
    },
    {
      "cell_type": "code",
      "source": [
        "df_movies.select(F.explode(\"production_companies\")).select(\"col.*\").where((F.col(\"id\") == 215)).show()\n",
        "df_movies.select(F.explode(\"production_companies\")).select(\"col.*\").where((F.col(\"id\") == 6689)).show()\n",
        "\n",
        "# if we take a look at the below result, it shows that both companies has incosistencies in it's data\n",
        "# for this project, I will just leave warning in pipeline"
      ],
      "metadata": {
        "colab": {
          "base_uri": "https://localhost:8080/"
        },
        "id": "oQ6O7athjIOG",
        "outputId": "743ffdbc-72a5-4baf-9eaa-e5bbf1a978ef"
      },
      "execution_count": 23,
      "outputs": [
        {
          "output_type": "stream",
          "name": "stdout",
          "text": [
            "+---+--------------------+--------------------+--------------+\n",
            "| id|           logo_path|                name|origin_country|\n",
            "+---+--------------------+--------------------+--------------+\n",
            "|215|/tQyeqkCj24krhY2W...|Double Feature Films|            US|\n",
            "|215|/tQyeqkCj24krhY2W...|Double Feature Films|            US|\n",
            "|215|/tQyeqkCj24krhY2W...|Double Feature Films|            US|\n",
            "|215|/tQyeqkCj24krhY2W...|Double Feature Films|            US|\n",
            "|215|/tQyeqkCj24krhY2W...|Double Feature Films|            US|\n",
            "|215|/tQyeqkCj24krhY2W...|Double Feature Films|            US|\n",
            "|215|/tQyeqkCj24krhY2W...|Double Feature Films|            US|\n",
            "|215|/tQyeqkCj24krhY2W...|Double Feature Films|            US|\n",
            "|215|/tQyeqkCj24krhY2W...|Double Feature Films|            US|\n",
            "|215|/tQyeqkCj24krhY2W...|Double Feature Films|            US|\n",
            "|215|/tQyeqkCj24krhY2W...|Double Feature Films|              |\n",
            "|215|/tQyeqkCj24krhY2W...|Double Feature Films|            US|\n",
            "|215|/tQyeqkCj24krhY2W...|Double Feature Films|            US|\n",
            "|215|/tQyeqkCj24krhY2W...|Double Feature Films|            US|\n",
            "|215|/tQyeqkCj24krhY2W...|Double Feature Films|              |\n",
            "|215|/tQyeqkCj24krhY2W...|Double Feature Films|            US|\n",
            "+---+--------------------+--------------------+--------------+\n",
            "\n",
            "+----+--------------------+-----+--------------+\n",
            "|  id|           logo_path| name|origin_country|\n",
            "+----+--------------------+-----+--------------+\n",
            "|6689|/i6J2W84TzUf59PdM...|SHAFT|            JP|\n",
            "|6689|/i6J2W84TzUf59PdM...|SHAFT|            JP|\n",
            "|6689|/vaKMJDLIZCeqhGC5...|SHAFT|            JP|\n",
            "|6689|/i6J2W84TzUf59PdM...|SHAFT|            JP|\n",
            "|6689|/i6J2W84TzUf59PdM...|SHAFT|            JP|\n",
            "|6689|/i6J2W84TzUf59PdM...|SHAFT|            JP|\n",
            "|6689|/i6J2W84TzUf59PdM...|SHAFT|            JP|\n",
            "|6689|/i6J2W84TzUf59PdM...|SHAFT|            JP|\n",
            "|6689|/vaKMJDLIZCeqhGC5...|SHAFT|            JP|\n",
            "|6689|/vaKMJDLIZCeqhGC5...|SHAFT|            JP|\n",
            "|6689|/i6J2W84TzUf59PdM...|SHAFT|            JP|\n",
            "|6689|/i6J2W84TzUf59PdM...|SHAFT|            JP|\n",
            "|6689|/i6J2W84TzUf59PdM...|SHAFT|            JP|\n",
            "|6689|/i6J2W84TzUf59PdM...|SHAFT|            JP|\n",
            "|6689|/i6J2W84TzUf59PdM...|SHAFT|            JP|\n",
            "|6689|/vaKMJDLIZCeqhGC5...|SHAFT|            JP|\n",
            "|6689|/i6J2W84TzUf59PdM...|SHAFT|            JP|\n",
            "|6689|/i6J2W84TzUf59PdM...|SHAFT|            JP|\n",
            "|6689|/vaKMJDLIZCeqhGC5...|SHAFT|            JP|\n",
            "|6689|/vaKMJDLIZCeqhGC5...|SHAFT|            JP|\n",
            "+----+--------------------+-----+--------------+\n",
            "only showing top 20 rows\n",
            "\n"
          ]
        }
      ]
    },
    {
      "cell_type": "code",
      "source": [
        "df_movies.printSchema()"
      ],
      "metadata": {
        "colab": {
          "base_uri": "https://localhost:8080/"
        },
        "id": "nMeq0ZjMiRS8",
        "outputId": "c57e9a1f-5041-4f80-e756-ee6e4615ecab"
      },
      "execution_count": 15,
      "outputs": [
        {
          "output_type": "stream",
          "name": "stdout",
          "text": [
            "root\n",
            " |-- adult: boolean (nullable = true)\n",
            " |-- backdrop_path: string (nullable = true)\n",
            " |-- belongs_to_collection: struct (nullable = true)\n",
            " |    |-- backdrop_path: string (nullable = true)\n",
            " |    |-- id: long (nullable = true)\n",
            " |    |-- name: string (nullable = true)\n",
            " |    |-- poster_path: string (nullable = true)\n",
            " |-- budget: long (nullable = true)\n",
            " |-- genres: array (nullable = true)\n",
            " |    |-- element: struct (containsNull = true)\n",
            " |    |    |-- id: long (nullable = true)\n",
            " |    |    |-- name: string (nullable = true)\n",
            " |-- homepage: string (nullable = true)\n",
            " |-- id: long (nullable = true)\n",
            " |-- imdb_id: string (nullable = true)\n",
            " |-- original_language: string (nullable = true)\n",
            " |-- original_title: string (nullable = true)\n",
            " |-- overview: string (nullable = true)\n",
            " |-- popularity: double (nullable = true)\n",
            " |-- poster_path: string (nullable = true)\n",
            " |-- production_companies: array (nullable = true)\n",
            " |    |-- element: struct (containsNull = true)\n",
            " |    |    |-- id: long (nullable = true)\n",
            " |    |    |-- logo_path: string (nullable = true)\n",
            " |    |    |-- name: string (nullable = true)\n",
            " |    |    |-- origin_country: string (nullable = true)\n",
            " |-- production_countries: array (nullable = true)\n",
            " |    |-- element: struct (containsNull = true)\n",
            " |    |    |-- iso_3166_1: string (nullable = true)\n",
            " |    |    |-- name: string (nullable = true)\n",
            " |-- release_date: string (nullable = true)\n",
            " |-- revenue: long (nullable = true)\n",
            " |-- runtime: long (nullable = true)\n",
            " |-- spoken_languages: array (nullable = true)\n",
            " |    |-- element: struct (containsNull = true)\n",
            " |    |    |-- iso_639_1: string (nullable = true)\n",
            " |    |    |-- name: string (nullable = true)\n",
            " |-- status: string (nullable = true)\n",
            " |-- tagline: string (nullable = true)\n",
            " |-- title: string (nullable = true)\n",
            " |-- video: boolean (nullable = true)\n",
            " |-- vote_average: double (nullable = true)\n",
            " |-- vote_count: long (nullable = true)\n",
            "\n"
          ]
        }
      ]
    },
    {
      "cell_type": "code",
      "source": [
        "df_series.printSchema()"
      ],
      "metadata": {
        "colab": {
          "base_uri": "https://localhost:8080/"
        },
        "id": "hPlDL3E0hwZL",
        "outputId": "5fa68e0c-8e29-4a0f-fdc6-cf72fcc18cf6"
      },
      "execution_count": 14,
      "outputs": [
        {
          "output_type": "stream",
          "name": "stdout",
          "text": [
            "root\n",
            " |-- backdrop_path: string (nullable = true)\n",
            " |-- created_by: array (nullable = true)\n",
            " |    |-- element: struct (containsNull = true)\n",
            " |    |    |-- credit_id: string (nullable = true)\n",
            " |    |    |-- gender: long (nullable = true)\n",
            " |    |    |-- id: long (nullable = true)\n",
            " |    |    |-- name: string (nullable = true)\n",
            " |    |    |-- profile_path: string (nullable = true)\n",
            " |-- episode_run_time: array (nullable = true)\n",
            " |    |-- element: long (containsNull = true)\n",
            " |-- first_air_date: string (nullable = true)\n",
            " |-- genres: array (nullable = true)\n",
            " |    |-- element: struct (containsNull = true)\n",
            " |    |    |-- id: long (nullable = true)\n",
            " |    |    |-- name: string (nullable = true)\n",
            " |-- homepage: string (nullable = true)\n",
            " |-- id: long (nullable = true)\n",
            " |-- in_production: boolean (nullable = true)\n",
            " |-- languages: array (nullable = true)\n",
            " |    |-- element: string (containsNull = true)\n",
            " |-- last_air_date: string (nullable = true)\n",
            " |-- last_episode_to_air: struct (nullable = true)\n",
            " |    |-- air_date: string (nullable = true)\n",
            " |    |-- episode_number: long (nullable = true)\n",
            " |    |-- id: long (nullable = true)\n",
            " |    |-- name: string (nullable = true)\n",
            " |    |-- overview: string (nullable = true)\n",
            " |    |-- production_code: string (nullable = true)\n",
            " |    |-- season_number: long (nullable = true)\n",
            " |    |-- show_id: long (nullable = true)\n",
            " |    |-- still_path: string (nullable = true)\n",
            " |    |-- vote_average: double (nullable = true)\n",
            " |    |-- vote_count: long (nullable = true)\n",
            " |-- name: string (nullable = true)\n",
            " |-- networks: array (nullable = true)\n",
            " |    |-- element: struct (containsNull = true)\n",
            " |    |    |-- id: long (nullable = true)\n",
            " |    |    |-- logo_path: string (nullable = true)\n",
            " |    |    |-- name: string (nullable = true)\n",
            " |    |    |-- origin_country: string (nullable = true)\n",
            " |-- next_episode_to_air: struct (nullable = true)\n",
            " |    |-- air_date: string (nullable = true)\n",
            " |    |-- episode_number: long (nullable = true)\n",
            " |    |-- id: long (nullable = true)\n",
            " |    |-- name: string (nullable = true)\n",
            " |    |-- overview: string (nullable = true)\n",
            " |    |-- production_code: string (nullable = true)\n",
            " |    |-- season_number: long (nullable = true)\n",
            " |    |-- show_id: long (nullable = true)\n",
            " |    |-- still_path: string (nullable = true)\n",
            " |    |-- vote_average: double (nullable = true)\n",
            " |    |-- vote_count: long (nullable = true)\n",
            " |-- number_of_episodes: long (nullable = true)\n",
            " |-- number_of_seasons: long (nullable = true)\n",
            " |-- origin_country: array (nullable = true)\n",
            " |    |-- element: string (containsNull = true)\n",
            " |-- original_language: string (nullable = true)\n",
            " |-- original_name: string (nullable = true)\n",
            " |-- overview: string (nullable = true)\n",
            " |-- popularity: double (nullable = true)\n",
            " |-- poster_path: string (nullable = true)\n",
            " |-- production_companies: array (nullable = true)\n",
            " |    |-- element: struct (containsNull = true)\n",
            " |    |    |-- id: long (nullable = true)\n",
            " |    |    |-- logo_path: string (nullable = true)\n",
            " |    |    |-- name: string (nullable = true)\n",
            " |    |    |-- origin_country: string (nullable = true)\n",
            " |-- seasons: array (nullable = true)\n",
            " |    |-- element: struct (containsNull = true)\n",
            " |    |    |-- air_date: string (nullable = true)\n",
            " |    |    |-- episode_count: long (nullable = true)\n",
            " |    |    |-- id: long (nullable = true)\n",
            " |    |    |-- name: string (nullable = true)\n",
            " |    |    |-- overview: string (nullable = true)\n",
            " |    |    |-- poster_path: string (nullable = true)\n",
            " |    |    |-- season_number: long (nullable = true)\n",
            " |-- status: string (nullable = true)\n",
            " |-- type: string (nullable = true)\n",
            " |-- vote_average: double (nullable = true)\n",
            " |-- vote_count: long (nullable = true)\n",
            "\n"
          ]
        }
      ]
    },
    {
      "cell_type": "markdown",
      "source": [
        "### Common field\n",
        "both series and movies dataset has one same column, `genres` and `production_companies` column. This column has `ArrayType` type consists `Struct`. Yet we are not sure wether those two field has the same `id` and `name`. This part will try to check if `genres` & `production_companies` on both datasets are the same."
      ],
      "metadata": {
        "id": "TXmJrLhjdP-a"
      }
    },
    {
      "cell_type": "code",
      "source": [
        "# Comparing genres between two datasets\n",
        "\n",
        "df_series_gen = df_series.select(F.explode(F.col(\"genres\"))).select(F.col(\"col.*\")) \\\n",
        "    .withColumnRenamed(\"id\", \"series_id\") \\\n",
        "    .withColumnRenamed(\"name\", \"series_genre\") \\\n",
        "    .distinct()\n",
        "df_movies_gen = df_movies.select(F.explode(F.col(\"genres\"))).select(F.col(\"col.*\")) \\\n",
        "    .withColumnRenamed(\"id\", \"movies_id\") \\\n",
        "    .withColumnRenamed(\"name\", \"movies_genre\") \\\n",
        "    .distinct()\n",
        "\n",
        "genre_comparison = df_series_gen \\\n",
        "    .join(df_movies_gen, df_series_gen.series_id == df_movies_gen.movies_id, \"full\")\n",
        "genre_comparison.show(5)\n",
        "\n",
        "# from the result below it seems that the id and genres between two table are the same"
      ],
      "metadata": {
        "colab": {
          "base_uri": "https://localhost:8080/"
        },
        "id": "psGk8ChF9l7W",
        "outputId": "cd518dd8-0c8b-49cd-f6f5-0850d678adae"
      },
      "execution_count": 24,
      "outputs": [
        {
          "output_type": "stream",
          "name": "stdout",
          "text": [
            "+---------+------------+---------+------------+\n",
            "|series_id|series_genre|movies_id|movies_genre|\n",
            "+---------+------------+---------+------------+\n",
            "|       12|   Adventure|       12|   Adventure|\n",
            "|       14|     Fantasy|       14|     Fantasy|\n",
            "|       16|   Animation|       16|   Animation|\n",
            "|       18|       Drama|       18|       Drama|\n",
            "|       22|     Musical|     null|        null|\n",
            "+---------+------------+---------+------------+\n",
            "only showing top 5 rows\n",
            "\n"
          ]
        }
      ]
    },
    {
      "cell_type": "code",
      "source": [
        "# decide to check futher by looking for inequality between series_genre and movies_genre\n",
        "genre_comparison.where(F.col(\"movies_id\").isNotNull() & F.col(\"series_id\").isNotNull() & (F.col(\"movies_genre\") != F.col(\"series_genre\"))).show()\n",
        "\n",
        "# the result below show that between series and movies dataset the genre id are consistent,\n",
        "# hence this lead the decision to normalize genre table"
      ],
      "metadata": {
        "colab": {
          "base_uri": "https://localhost:8080/"
        },
        "id": "_Pt7s5eXB33p",
        "outputId": "065dd645-b55b-4de3-b749-78f9ed4a0980"
      },
      "execution_count": 27,
      "outputs": [
        {
          "output_type": "stream",
          "name": "stdout",
          "text": [
            "+---------+------------+---------+------------+\n",
            "|series_id|series_genre|movies_id|movies_genre|\n",
            "+---------+------------+---------+------------+\n",
            "+---------+------------+---------+------------+\n",
            "\n"
          ]
        }
      ]
    },
    {
      "cell_type": "code",
      "source": [
        "dwh_genres = genre_comparison \\\n",
        "    .withColumn(\"id\", F.when(F.col(\"series_id\").isNull(), F.col(\"movies_id\")).otherwise(F.col(\"series_id\"))) \\\n",
        "    .withColumn(\"genre\", F.when(F.col(\"series_id\").isNull(), F.col(\"movies_genre\")).otherwise(F.col(\"series_genre\"))) \\\n",
        "    .select([\"id\", \"genre\"])\n",
        "\n",
        "dwh_genres.show(5)\n",
        "\n",
        "# the below table will be used for dimension table"
      ],
      "metadata": {
        "colab": {
          "base_uri": "https://localhost:8080/"
        },
        "id": "rgrYyA6fp4jl",
        "outputId": "c7889a48-9b2c-44aa-880a-3a0bedf538a5"
      },
      "execution_count": 76,
      "outputs": [
        {
          "output_type": "stream",
          "name": "stdout",
          "text": [
            "+---+---------+\n",
            "| id|    genre|\n",
            "+---+---------+\n",
            "| 12|Adventure|\n",
            "| 14|  Fantasy|\n",
            "| 16|Animation|\n",
            "| 18|    Drama|\n",
            "| 22|  Musical|\n",
            "+---+---------+\n",
            "only showing top 5 rows\n",
            "\n"
          ]
        }
      ]
    },
    {
      "cell_type": "code",
      "source": [
        "# Comparing production_companies between two datasets\n",
        "\n",
        "df_series_com = df_series.select(F.explode(F.col(\"production_companies\"))).select(F.col(\"col.*\")) \\\n",
        "    .select([\"id\", \"name\", \"origin_country\"]) \\\n",
        "    .withColumnRenamed(\"id\", \"series_id\") \\\n",
        "    .withColumnRenamed(\"name\", \"series_company\") \\\n",
        "    .withColumnRenamed(\"origin_country\", \"series_origin_country\") \\\n",
        "    .distinct()\n",
        "df_movies_com = df_movies.select(F.explode(F.col(\"production_companies\"))).select(F.col(\"col.*\")) \\\n",
        "    .select([\"id\", \"name\", \"origin_country\"]) \\\n",
        "    .withColumnRenamed(\"id\", \"movies_id\") \\\n",
        "    .withColumnRenamed(\"name\", \"movies_company\") \\\n",
        "    .withColumnRenamed(\"origin_country\", \"movies_origin_country\") \\\n",
        "    .distinct()\n",
        "\n",
        "companies_comparison = df_series_com \\\n",
        "    .join(df_movies_com, df_series_com.series_id == df_movies_com.movies_id, \"full\")\n",
        "companies_comparison.show(5)\n",
        "\n",
        "# from the result below it seems that the id and genres between two table are the same"
      ],
      "metadata": {
        "colab": {
          "base_uri": "https://localhost:8080/"
        },
        "id": "I8wd-Lximen9",
        "outputId": "0a0e7bf1-a2ab-4606-b0dd-c1cc9b5a766f"
      },
      "execution_count": 29,
      "outputs": [
        {
          "output_type": "stream",
          "name": "stdout",
          "text": [
            "+---------+-------------------+---------------------+---------+-------------------+---------------------+\n",
            "|series_id|     series_company|series_origin_country|movies_id|     movies_company|movies_origin_country|\n",
            "+---------+-------------------+---------------------+---------+-------------------+---------------------+\n",
            "|        1|     Lucasfilm Ltd.|                   US|        1|     Lucasfilm Ltd.|                   US|\n",
            "|        5|  Columbia Pictures|                   US|        5|  Columbia Pictures|                   US|\n",
            "|     null|               null|                 null|        6| RKO Radio Pictures|                   US|\n",
            "|        7|DreamWorks Pictures|                   US|        7|DreamWorks Pictures|                   US|\n",
            "|        9|            Gaumont|                   FR|        9|            Gaumont|                   FR|\n",
            "+---------+-------------------+---------------------+---------+-------------------+---------------------+\n",
            "only showing top 5 rows\n",
            "\n"
          ]
        }
      ]
    },
    {
      "cell_type": "code",
      "source": [
        "# decide to check futher by looking for inequality between series_genre and movies_genre\n",
        "companies_comparison \\\n",
        ".where(F.col(\"movies_id\").isNotNull() \\\n",
        "       & F.col(\"series_id\").isNotNull() \\\n",
        "       & (F.col(\"movies_company\") != F.col(\"series_company\")) \\\n",
        "       & (F.col(\"movies_origin_country\") != F.col(\"series_origin_country\"))) \\\n",
        ".show()\n",
        "\n",
        "# the below table will be used for dimension table"
      ],
      "metadata": {
        "colab": {
          "base_uri": "https://localhost:8080/"
        },
        "id": "Au0J9MjCn3n7",
        "outputId": "841cd070-1727-47c4-ea2d-3a8de963c34e"
      },
      "execution_count": 43,
      "outputs": [
        {
          "output_type": "stream",
          "name": "stdout",
          "text": [
            "+---------+--------------+---------------------+---------+--------------+---------------------+\n",
            "|series_id|series_company|series_origin_country|movies_id|movies_company|movies_origin_country|\n",
            "+---------+--------------+---------------------+---------+--------------+---------------------+\n",
            "+---------+--------------+---------------------+---------+--------------+---------------------+\n",
            "\n"
          ]
        }
      ]
    },
    {
      "cell_type": "code",
      "source": [
        "dwh_companies = companies_comparison \\\n",
        "    .withColumn(\"id\", F.when(F.col(\"series_id\").isNull(), F.col(\"movies_id\")).otherwise(F.col(\"series_id\"))) \\\n",
        "    .withColumn(\"company\", F.when(F.col(\"series_id\").isNull(), F.col(\"movies_company\")).otherwise(F.col(\"series_company\"))) \\\n",
        "    .withColumn(\"origin_country\", F.when(F.col(\"series_id\").isNull(), F.col(\"movies_origin_country\")).otherwise(F.col(\"series_origin_country\"))) \\\n",
        "    .select([\"id\", \"company\", \"origin_country\"]) \\\n",
        "    .where(F.col(\"origin_country\").isNotNull())\n",
        "\n",
        "dwh_companies.show(5)\n",
        "\n",
        "# since there is no inconsistency in this table, we will normalize this table"
      ],
      "metadata": {
        "colab": {
          "base_uri": "https://localhost:8080/"
        },
        "id": "z2fmiIcvpbNv",
        "outputId": "d8a1bc68-8f6d-4629-e9b6-378197d60569"
      },
      "execution_count": 77,
      "outputs": [
        {
          "output_type": "stream",
          "name": "stdout",
          "text": [
            "+---+-------------------+--------------+\n",
            "| id|            company|origin_country|\n",
            "+---+-------------------+--------------+\n",
            "|  1|     Lucasfilm Ltd.|            US|\n",
            "|  5|  Columbia Pictures|            US|\n",
            "|  6| RKO Radio Pictures|            US|\n",
            "|  7|DreamWorks Pictures|            US|\n",
            "|  9|            Gaumont|            FR|\n",
            "+---+-------------------+--------------+\n",
            "only showing top 5 rows\n",
            "\n"
          ]
        }
      ]
    },
    {
      "cell_type": "markdown",
      "source": [
        "## Transform"
      ],
      "metadata": {
        "id": "Xa2gbBpmaRFp"
      }
    },
    {
      "cell_type": "code",
      "source": [
        "# drop genre and companies\n",
        "initial_columns = df_movies.schema.names\n",
        "\n",
        "dwh_movies = df_movies \\\n",
        "    .withColumn(\"genre\", F.explode(\"genres\")) \\\n",
        "    .select(*initial_columns, F.col(\"genre.id\").alias(\"genre_id\")) \\\n",
        "    .groupBy(*initial_columns).agg(F.collect_list(\"genre_id\").alias(\"genre_ids\")) \\\n",
        "    .withColumn(\"company\", F.explode(\"production_companies\")) \\\n",
        "    .select(*initial_columns, \"genre_ids\", F.col(\"company.id\").alias(\"company_id\")) \\\n",
        "    .groupBy(*initial_columns, \"genre_ids\").agg(F.collect_list(\"company_id\").alias(\"company_ids\")) \\\n",
        "    .drop(\"genres\", \"production_companies\")\n",
        "    \n",
        "dwh_movies.show(5)\n",
        "\n",
        "# the table below will be saved to dwh as factual table"
      ],
      "metadata": {
        "colab": {
          "base_uri": "https://localhost:8080/"
        },
        "id": "6YGEkMrRsd1E",
        "outputId": "421385ae-25ef-4026-ff96-0551161ffb80"
      },
      "execution_count": 72,
      "outputs": [
        {
          "output_type": "stream",
          "name": "stdout",
          "text": [
            "+-----+-------------+---------------------+------+--------+------+---------+-----------------+--------------------+--------------------+----------+--------------------+--------------------+------------+-------+-------+----------------+--------+-------+--------------------+-----+------------+----------+---------+-------------+\n",
            "|adult|backdrop_path|belongs_to_collection|budget|homepage|    id|  imdb_id|original_language|      original_title|            overview|popularity|         poster_path|production_countries|release_date|revenue|runtime|spoken_languages|  status|tagline|               title|video|vote_average|vote_count|genre_ids|  company_ids|\n",
            "+-----+-------------+---------------------+------+--------+------+---------+-----------------+--------------------+--------------------+----------+--------------------+--------------------+------------+-------+-------+----------------+--------+-------+--------------------+-----+------------+----------+---------+-------------+\n",
            "|false|         null|                 null|     0|    null|183379|tt0062607|               fr|Les Aventures de ...|                    |     0.699|/4z0BnM3kU9nEF6CO...|[{FR, France}, {D...|  1969-08-29|      0|    128|[{fr, Français}]|Released|       |Adventures of Tom...|false|         8.5|         3|     [12]|[37353, 4606]|\n",
            "|false|         null|                 null|     0|    null|246745|tt0195268|               it|        Skipper (TV)|                    |      1.45|                null|       [{IT, Italy}]|  1984-01-01|      0|   null|[{it, Italiano}]|Released|       |        Skipper (TV)|false|         6.5|         1|     [12]|       [1583]|\n",
            "|false|         null|                 null|     0|    null|269289|tt0053382|               en|  Tumulto de Paixões|A novelist comes ...|       0.6|/zsq6t5AFgp4wuAmF...|[{DE, Germany}, {...|  1959-11-27|      0|    102| [{en, English}]|Released|       |The Witch Beneath...|false|         0.0|         0|     [12]|[78033, 1449]|\n",
            "|false|         null|                 null|     0|    null|276940|tt0063484|               en|Radhapura – Endst...|                    |       0.6|/fUeXJ56bKoh95OMJ...|     [{DE, Germany}]|  1968-07-25|      0|   null|              []|Released|       |Radhapura – Endst...|false|         0.0|         0|     [12]|      [12730]|\n",
            "|false|         null|                 null|     0|    null|284860|tt0272123|               de|  Heinrich der Säger|                    |      0.84|                null|     [{DE, Germany}]|  2001-08-16|      0|   null|              []|Released|       |  Heinrich der Säger|false|         4.3|         2|     [12]|        [201]|\n",
            "+-----+-------------+---------------------+------+--------+------+---------+-----------------+--------------------+--------------------+----------+--------------------+--------------------+------------+-------+-------+----------------+--------+-------+--------------------+-----+------------+----------+---------+-------------+\n",
            "only showing top 5 rows\n",
            "\n"
          ]
        }
      ]
    },
    {
      "cell_type": "code",
      "source": [
        "# drop genre and companies\n",
        "initial_columns = df_series.schema.names\n",
        "\n",
        "dwh_series = df_series \\\n",
        "    .withColumn(\"genre\", F.explode(\"genres\")) \\\n",
        "    .select(*initial_columns, F.col(\"genre.id\").alias(\"genre_id\")) \\\n",
        "    .groupBy(*initial_columns).agg(F.collect_list(\"genre_id\").alias(\"genre_ids\")) \\\n",
        "    .withColumn(\"company\", F.explode(\"production_companies\")) \\\n",
        "    .select(*initial_columns, \"genre_ids\", F.col(\"company.id\").alias(\"company_id\")) \\\n",
        "    .groupBy(*initial_columns, \"genre_ids\").agg(F.collect_list(\"company_id\").alias(\"company_ids\")) \\\n",
        "    .drop(\"genres\", \"production_companies\")\n",
        "\n",
        "dwh_series.show(5)\n",
        "\n",
        "# the table below will be saved to dwh as factual table"
      ],
      "metadata": {
        "colab": {
          "base_uri": "https://localhost:8080/"
        },
        "id": "4450_BF41W5q",
        "outputId": "b6eb8d89-9aba-4d54-f2fe-80ee8ae2e5db"
      },
      "execution_count": 73,
      "outputs": [
        {
          "output_type": "stream",
          "name": "stdout",
          "text": [
            "+-------------+----------+----------------+--------------+--------------------+------+-------------+---------+-------------+-------------------+-----------------------------------+--------------------+-------------------+------------------+-----------------+--------------+-----------------+-----------------------------------+--------+----------+--------------------+--------------------+-------------+--------+------------+----------+--------------------+--------------+\n",
            "|backdrop_path|created_by|episode_run_time|first_air_date|            homepage|    id|in_production|languages|last_air_date|last_episode_to_air|                               name|            networks|next_episode_to_air|number_of_episodes|number_of_seasons|origin_country|original_language|                      original_name|overview|popularity|         poster_path|             seasons|       status|    type|vote_average|vote_count|           genre_ids|   company_ids|\n",
            "+-------------+----------+----------------+--------------+--------------------+------+-------------+---------+-------------+-------------------+-----------------------------------+--------------------+-------------------+------------------+-----------------+--------------+-----------------+-----------------------------------+--------+----------+--------------------+--------------------+-------------+--------+------------+----------+--------------------+--------------+\n",
            "|         null|        []|              []|          null|                    | 39648|        false|     [en]|         null|               null|                     Slasher School|                  []|               null|                 0|                0|          [US]|               en|                     Slasher School|        |       0.6|/kGwEdp2tYTj5Ylyl...|                  []|        Ended|Scripted|         0.0|         0|                [16]|       [88013]|\n",
            "|         null|        []|              []|          null|http://www.loveli...|103511|         true|     [ja]|         null|               null|ラブライブ! 虹ヶ咲学園スクールア...|                  []|               null|                 1|                1|          [JP]|               ja|ラブライブ! 虹ヶ咲学園スクールア...|        |      0.84|/hi7Fbc229kKKn5UF...|[{null, 1, 151004...|In Production|Scripted|         0.0|         0|                [16]|        [3153]|\n",
            "|         null|        []|              []|          null| https://d4dj-pj.com|102655|         true|     [ja]|         null|               null|                     D4DJ First Mix|                  []|               null|                 1|                1|          [JP]|               ja|                     D4DJ First Mix|        |       0.6|/2D5RCACi5vDMf0Jx...|[{null, 1, 149229...|In Production|Scripted|         0.0|         0|                [16]|       [43363]|\n",
            "|         null|        []|              []|          null|                    | 99772|         true|     [ja]|         null|               null|   ヴァンパイヤ・イン・ザ・ガーデン|[{213, /wwemzKWzj...|               null|                 1|                1|          [JP]|               ja|   ヴァンパイヤ・イン・ザ・ガーデン|        |       0.6|                null|[{null, 1, 143982...|In Production|Scripted|         0.0|         0|            [16, 18]|      [119247]|\n",
            "|         null|        []|              []|          null|http://anime-king...|102871|         true|     [ja]|         null|               null|  キングスレイド 意志を継ぐものたち|                  []|               null|                 1|                1|          [JP]|               ja|  キングスレイド 意志を継ぐものたち|        |     0.804|/xJE2Hl4NTJ4xVZQ3...|[{null, 1, 149623...|In Production|Scripted|         0.0|         0|[16, 18, 10759, 1...|[5372, 131964]|\n",
            "+-------------+----------+----------------+--------------+--------------------+------+-------------+---------+-------------+-------------------+-----------------------------------+--------------------+-------------------+------------------+-----------------+--------------+-----------------+-----------------------------------+--------+----------+--------------------+--------------------+-------------+--------+------------+----------+--------------------+--------------+\n",
            "only showing top 5 rows\n",
            "\n"
          ]
        }
      ]
    },
    {
      "cell_type": "markdown",
      "source": [
        "## Load\n",
        "Save data to parquet files"
      ],
      "metadata": {
        "id": "1tk9OODk3EGb"
      }
    },
    {
      "cell_type": "code",
      "source": [
        "# save data to parquet format\n",
        "dwh_series.write.parquet(\"series.parquet\")\n",
        "dwh_movies.write.parquet(\"movies.parquet\")\n",
        "dwh_genres.write.parquet(\"genres.parquet\")\n",
        "dwh_companies.write.parquet(\"companies.parquet\")"
      ],
      "metadata": {
        "id": "-_m5bQjQ4MIT"
      },
      "execution_count": 78,
      "outputs": []
    },
    {
      "cell_type": "code",
      "source": [
        "!pip install -q gcloud google-cloud-bigquery"
      ],
      "metadata": {
        "id": "wrYE8s4I5ICF",
        "outputId": "bd418ba6-2071-4d7a-9cb2-8fda854f1d91",
        "colab": {
          "base_uri": "https://localhost:8080/"
        }
      },
      "execution_count": 79,
      "outputs": [
        {
          "output_type": "stream",
          "name": "stdout",
          "text": [
            "\u001b[?25l\r\u001b[K     |▊                               | 10 kB 23.1 MB/s eta 0:00:01\r\u001b[K     |█▍                              | 20 kB 28.7 MB/s eta 0:00:01\r\u001b[K     |██▏                             | 30 kB 24.5 MB/s eta 0:00:01\r\u001b[K     |██▉                             | 40 kB 19.3 MB/s eta 0:00:01\r\u001b[K     |███▋                            | 51 kB 9.3 MB/s eta 0:00:01\r\u001b[K     |████▎                           | 61 kB 9.8 MB/s eta 0:00:01\r\u001b[K     |█████                           | 71 kB 9.2 MB/s eta 0:00:01\r\u001b[K     |█████▊                          | 81 kB 10.1 MB/s eta 0:00:01\r\u001b[K     |██████▌                         | 92 kB 10.8 MB/s eta 0:00:01\r\u001b[K     |███████▏                        | 102 kB 8.6 MB/s eta 0:00:01\r\u001b[K     |████████                        | 112 kB 8.6 MB/s eta 0:00:01\r\u001b[K     |████████▋                       | 122 kB 8.6 MB/s eta 0:00:01\r\u001b[K     |█████████▍                      | 133 kB 8.6 MB/s eta 0:00:01\r\u001b[K     |██████████                      | 143 kB 8.6 MB/s eta 0:00:01\r\u001b[K     |██████████▉                     | 153 kB 8.6 MB/s eta 0:00:01\r\u001b[K     |███████████▌                    | 163 kB 8.6 MB/s eta 0:00:01\r\u001b[K     |████████████▎                   | 174 kB 8.6 MB/s eta 0:00:01\r\u001b[K     |█████████████                   | 184 kB 8.6 MB/s eta 0:00:01\r\u001b[K     |█████████████▊                  | 194 kB 8.6 MB/s eta 0:00:01\r\u001b[K     |██████████████▍                 | 204 kB 8.6 MB/s eta 0:00:01\r\u001b[K     |███████████████▏                | 215 kB 8.6 MB/s eta 0:00:01\r\u001b[K     |███████████████▉                | 225 kB 8.6 MB/s eta 0:00:01\r\u001b[K     |████████████████▋               | 235 kB 8.6 MB/s eta 0:00:01\r\u001b[K     |█████████████████▎              | 245 kB 8.6 MB/s eta 0:00:01\r\u001b[K     |██████████████████              | 256 kB 8.6 MB/s eta 0:00:01\r\u001b[K     |██████████████████▊             | 266 kB 8.6 MB/s eta 0:00:01\r\u001b[K     |███████████████████▌            | 276 kB 8.6 MB/s eta 0:00:01\r\u001b[K     |████████████████████▏           | 286 kB 8.6 MB/s eta 0:00:01\r\u001b[K     |█████████████████████           | 296 kB 8.6 MB/s eta 0:00:01\r\u001b[K     |█████████████████████▋          | 307 kB 8.6 MB/s eta 0:00:01\r\u001b[K     |██████████████████████▍         | 317 kB 8.6 MB/s eta 0:00:01\r\u001b[K     |███████████████████████         | 327 kB 8.6 MB/s eta 0:00:01\r\u001b[K     |███████████████████████▉        | 337 kB 8.6 MB/s eta 0:00:01\r\u001b[K     |████████████████████████▌       | 348 kB 8.6 MB/s eta 0:00:01\r\u001b[K     |█████████████████████████▎      | 358 kB 8.6 MB/s eta 0:00:01\r\u001b[K     |██████████████████████████      | 368 kB 8.6 MB/s eta 0:00:01\r\u001b[K     |██████████████████████████▊     | 378 kB 8.6 MB/s eta 0:00:01\r\u001b[K     |███████████████████████████▍    | 389 kB 8.6 MB/s eta 0:00:01\r\u001b[K     |████████████████████████████▏   | 399 kB 8.6 MB/s eta 0:00:01\r\u001b[K     |████████████████████████████▉   | 409 kB 8.6 MB/s eta 0:00:01\r\u001b[K     |█████████████████████████████▋  | 419 kB 8.6 MB/s eta 0:00:01\r\u001b[K     |██████████████████████████████▎ | 430 kB 8.6 MB/s eta 0:00:01\r\u001b[K     |███████████████████████████████ | 440 kB 8.6 MB/s eta 0:00:01\r\u001b[K     |███████████████████████████████▊| 450 kB 8.6 MB/s eta 0:00:01\r\u001b[K     |████████████████████████████████| 454 kB 8.6 MB/s \n",
            "\u001b[?25h  Building wheel for gcloud (setup.py) ... \u001b[?25l\u001b[?25hdone\n"
          ]
        }
      ]
    },
    {
      "cell_type": "code",
      "source": [
        "!gcloud auth login"
      ],
      "metadata": {
        "id": "_RSsgtkw5Saa",
        "outputId": "e7402b05-0b46-4208-b748-b028e02818d0",
        "colab": {
          "base_uri": "https://localhost:8080/"
        }
      },
      "execution_count": 80,
      "outputs": [
        {
          "output_type": "stream",
          "name": "stdout",
          "text": [
            "Go to the following link in your browser:\n",
            "\n",
            "    https://accounts.google.com/o/oauth2/auth?response_type=code&client_id=32555940559.apps.googleusercontent.com&redirect_uri=urn%3Aietf%3Awg%3Aoauth%3A2.0%3Aoob&scope=openid+https%3A%2F%2Fwww.googleapis.com%2Fauth%2Fuserinfo.email+https%3A%2F%2Fwww.googleapis.com%2Fauth%2Fcloud-platform+https%3A%2F%2Fwww.googleapis.com%2Fauth%2Fappengine.admin+https%3A%2F%2Fwww.googleapis.com%2Fauth%2Fcompute+https%3A%2F%2Fwww.googleapis.com%2Fauth%2Faccounts.reauth&state=yxiFNIHhouMFiGC7KXH7TINJcSdp9m&prompt=consent&access_type=offline&code_challenge=2qLX-y8hG3x5nKScJFLolsrNXI-aQ5LWW5jZ2CY6_i8&code_challenge_method=S256\n",
            "\n",
            "Enter verification code: 4/1AX4XfWiO4X-IQf0TnA-N0M0lAqKnWedr2vnprtHj9LBx6fZ0tnrWmS6HYBw\n",
            "\n",
            "You are now logged in as [afahmi13@gmail.com].\n",
            "Your current project is [None].  You can change this setting by running:\n",
            "  $ gcloud config set project PROJECT_ID\n"
          ]
        }
      ]
    },
    {
      "cell_type": "code",
      "source": [
        "!gcloud config set project de-porto"
      ],
      "metadata": {
        "id": "tcmQgIS15a15",
        "outputId": "7cdd5de9-c428-45b6-8e6e-86bdb0878546",
        "colab": {
          "base_uri": "https://localhost:8080/"
        }
      },
      "execution_count": 81,
      "outputs": [
        {
          "output_type": "stream",
          "name": "stdout",
          "text": [
            "Updated property [core/project].\n"
          ]
        }
      ]
    },
    {
      "cell_type": "code",
      "source": [
        "!gsutil cp -r ./movies.parquet gs://de-porto/qoala/movies.parquet"
      ],
      "metadata": {
        "id": "_X9tR6Lk5fwz",
        "outputId": "bf118104-911e-44e5-f911-a0b3e4597991",
        "colab": {
          "base_uri": "https://localhost:8080/"
        }
      },
      "execution_count": 82,
      "outputs": [
        {
          "output_type": "stream",
          "name": "stdout",
          "text": [
            "Copying file://./movies.parquet/._SUCCESS.crc [Content-Type=application/octet-stream]...\n",
            "Copying file://./movies.parquet/.part-00000-6a6bac41-c8b0-4b99-a1f8-b875cd8bc7eb-c000.snappy.parquet.crc [Content-Type=application/octet-stream]...\n",
            "Copying file://./movies.parquet/_SUCCESS [Content-Type=application/octet-stream]...\n",
            "Copying file://./movies.parquet/part-00002-6a6bac41-c8b0-4b99-a1f8-b875cd8bc7eb-c000.snappy.parquet [Content-Type=application/octet-stream]...\n",
            "\\\n",
            "==> NOTE: You are performing a sequence of gsutil operations that may\n",
            "run significantly faster if you instead use gsutil -m cp ... Please\n",
            "see the -m section under \"gsutil help options\" for further information\n",
            "about when gsutil -m can be advantageous.\n",
            "\n",
            "Copying file://./movies.parquet/.part-00001-6a6bac41-c8b0-4b99-a1f8-b875cd8bc7eb-c000.snappy.parquet.crc [Content-Type=application/octet-stream]...\n",
            "Copying file://./movies.parquet/.part-00002-6a6bac41-c8b0-4b99-a1f8-b875cd8bc7eb-c000.snappy.parquet.crc [Content-Type=application/octet-stream]...\n",
            "Copying file://./movies.parquet/part-00001-6a6bac41-c8b0-4b99-a1f8-b875cd8bc7eb-c000.snappy.parquet [Content-Type=application/octet-stream]...\n",
            "Copying file://./movies.parquet/part-00000-6a6bac41-c8b0-4b99-a1f8-b875cd8bc7eb-c000.snappy.parquet [Content-Type=application/octet-stream]...\n",
            "\\\n",
            "Operation completed over 8 objects/58.1 MiB.                                     \n"
          ]
        }
      ]
    },
    {
      "cell_type": "code",
      "source": [
        "# load to bigquery\n",
        "from google.cloud import bigquery\n",
        "\n",
        "client = bigquery.Client.from_service_account_json(\"./de-porto-key.json\")\n",
        "config = bigquery.LoadJobConfig(source_format=bigquery.SourceFormat.PARQUET)\n",
        "uri = \"gs://de-porto/qoala/movies.parquet/part-00001-6a6bac41-c8b0-4b99-a1f8-b875cd8bc7eb-c000.snappy.parquet\"\n",
        "table_id = \"de-porto.de_porto.test1\"\n",
        "\n",
        "job = client.load_table_from_uri(\n",
        "    uri, table_id, job_config=config\n",
        ")\n",
        "\n",
        "job.result()"
      ],
      "metadata": {
        "id": "IAyV6S3s50In",
        "outputId": "af185f41-3fe1-4c5e-cedf-bb9477c45859",
        "colab": {
          "base_uri": "https://localhost:8080/"
        }
      },
      "execution_count": 88,
      "outputs": [
        {
          "output_type": "execute_result",
          "data": {
            "text/plain": [
              "<google.cloud.bigquery.job.LoadJob at 0x7f7b62c6f210>"
            ]
          },
          "metadata": {},
          "execution_count": 88
        }
      ]
    },
    {
      "cell_type": "code",
      "source": [
        "explode_array_column(df_movies, \"production_companies\", \"companies\") \\\n",
        "    .select(\"companies.*\").where(F.col(\"id\") == 6689).show()"
      ],
      "metadata": {
        "colab": {
          "base_uri": "https://localhost:8080/"
        },
        "id": "OjSJQoGzXufn",
        "outputId": "c2076825-93fb-4afc-ede1-2bd763974222"
      },
      "execution_count": null,
      "outputs": [
        {
          "output_type": "stream",
          "name": "stdout",
          "text": [
            "+----+--------------------+-----+--------------+\n",
            "|  id|           logo_path| name|origin_country|\n",
            "+----+--------------------+-----+--------------+\n",
            "|6689|/i6J2W84TzUf59PdM...|SHAFT|            JP|\n",
            "|6689|/i6J2W84TzUf59PdM...|SHAFT|            JP|\n",
            "|6689|/vaKMJDLIZCeqhGC5...|SHAFT|            JP|\n",
            "|6689|/i6J2W84TzUf59PdM...|SHAFT|            JP|\n",
            "|6689|/i6J2W84TzUf59PdM...|SHAFT|            JP|\n",
            "|6689|/i6J2W84TzUf59PdM...|SHAFT|            JP|\n",
            "|6689|/i6J2W84TzUf59PdM...|SHAFT|            JP|\n",
            "|6689|/i6J2W84TzUf59PdM...|SHAFT|            JP|\n",
            "|6689|/vaKMJDLIZCeqhGC5...|SHAFT|            JP|\n",
            "|6689|/vaKMJDLIZCeqhGC5...|SHAFT|            JP|\n",
            "|6689|/i6J2W84TzUf59PdM...|SHAFT|            JP|\n",
            "|6689|/i6J2W84TzUf59PdM...|SHAFT|            JP|\n",
            "|6689|/i6J2W84TzUf59PdM...|SHAFT|            JP|\n",
            "|6689|/i6J2W84TzUf59PdM...|SHAFT|            JP|\n",
            "|6689|/i6J2W84TzUf59PdM...|SHAFT|            JP|\n",
            "|6689|/vaKMJDLIZCeqhGC5...|SHAFT|            JP|\n",
            "|6689|/i6J2W84TzUf59PdM...|SHAFT|            JP|\n",
            "|6689|/i6J2W84TzUf59PdM...|SHAFT|            JP|\n",
            "|6689|/vaKMJDLIZCeqhGC5...|SHAFT|            JP|\n",
            "|6689|/vaKMJDLIZCeqhGC5...|SHAFT|            JP|\n",
            "+----+--------------------+-----+--------------+\n",
            "only showing top 20 rows\n",
            "\n"
          ]
        }
      ]
    },
    {
      "cell_type": "code",
      "source": [
        "df_movies.write.parquet(\"./movies.parquet\")"
      ],
      "metadata": {
        "id": "NOkwb_R3m5jF"
      },
      "execution_count": null,
      "outputs": []
    },
    {
      "cell_type": "code",
      "source": [
        "!gcloud auth login"
      ],
      "metadata": {
        "id": "mUXzZV6QnlEk"
      },
      "execution_count": null,
      "outputs": []
    },
    {
      "cell_type": "code",
      "source": [
        "!gsutil -m cp -r ./movies.parquet gs://de-porto/qoala"
      ],
      "metadata": {
        "id": "xgJdPdNqnnI8"
      },
      "execution_count": null,
      "outputs": []
    }
  ]
}