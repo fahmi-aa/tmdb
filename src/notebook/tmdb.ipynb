{
  "nbformat": 4,
  "nbformat_minor": 0,
  "metadata": {
    "colab": {
      "name": "tmdb.ipynb",
      "provenance": [],
      "collapsed_sections": [
        "zfMpK8C66hmx",
        "dihZSxw77vyy",
        "r8Q3ZlDaEIGR",
        "6Q78EKiR-t0g",
        "ufpVtE0j71HS"
      ]
    },
    "kernelspec": {
      "name": "python3",
      "display_name": "Python 3"
    },
    "language_info": {
      "name": "python"
    }
  },
  "cells": [
    {
      "cell_type": "markdown",
      "source": [
        "# Fahmi Abdulaziz - Qoala ETL Pipeline Assingment\n",
        "This is development notebook used for ETL development and prototyping."
      ],
      "metadata": {
        "id": "tI2p1V636MDO"
      }
    },
    {
      "cell_type": "markdown",
      "source": [
        "## Preparing Dependencies"
      ],
      "metadata": {
        "id": "zfMpK8C66hmx"
      }
    },
    {
      "cell_type": "code",
      "execution_count": 1,
      "metadata": {
        "id": "-hlh_UWOgIwM",
        "colab": {
          "base_uri": "https://localhost:8080/"
        },
        "outputId": "5cedbcad-91ae-4819-978b-5fb9af509db5"
      },
      "outputs": [
        {
          "output_type": "stream",
          "name": "stdout",
          "text": [
            "\u001b[K     |████████████████████████████████| 281.4 MB 35 kB/s \n",
            "\u001b[K     |████████████████████████████████| 198 kB 55.4 MB/s \n",
            "\u001b[?25h  Building wheel for pyspark (setup.py) ... \u001b[?25l\u001b[?25hdone\n"
          ]
        }
      ],
      "source": [
        "!pip install -q pyspark kaggle"
      ]
    },
    {
      "cell_type": "code",
      "source": [
        "from google.colab import drive\n",
        "drive.mount('/content/drive')"
      ],
      "metadata": {
        "id": "jfvWJ_nOEZkh",
        "colab": {
          "base_uri": "https://localhost:8080/"
        },
        "outputId": "39533b6f-18f9-4681-e276-70e72c2fdf65"
      },
      "execution_count": 2,
      "outputs": [
        {
          "output_type": "stream",
          "name": "stdout",
          "text": [
            "Mounted at /content/drive\n"
          ]
        }
      ]
    },
    {
      "cell_type": "markdown",
      "source": [
        "preparing kaggle credential"
      ],
      "metadata": {
        "id": "HVTmU6aK7Pty"
      }
    },
    {
      "cell_type": "code",
      "source": [
        "!mkdir -p ~/.kaggle\n",
        "!cp /content/drive/MyDrive/kaggle.json ~/.kaggle/\n",
        "!chmod 600 ~/.kaggle/kaggle.json"
      ],
      "metadata": {
        "id": "qEDmuxJ_h-e0"
      },
      "execution_count": null,
      "outputs": []
    },
    {
      "cell_type": "markdown",
      "source": [
        "## Preparing Source File"
      ],
      "metadata": {
        "id": "dihZSxw77vyy"
      }
    },
    {
      "cell_type": "markdown",
      "source": [
        "### Download & unzip tmdb dataset"
      ],
      "metadata": {
        "id": "r8Q3ZlDaEIGR"
      }
    },
    {
      "cell_type": "code",
      "source": [
        "%%bash --err null\n",
        "kaggle datasets download edgartanaka1/tmdb-movies-and-series -p /content\n",
        "unzip /content/tmdb-movies-and-series.zip"
      ],
      "metadata": {
        "id": "r8mLfNiniWkG"
      },
      "execution_count": null,
      "outputs": []
    },
    {
      "cell_type": "markdown",
      "source": [
        "### Combining all the files into one JSON\n",
        "This step is unnecessary, but it would speed up file loading a lot."
      ],
      "metadata": {
        "id": "6Q78EKiR-t0g"
      }
    },
    {
      "cell_type": "code",
      "source": [
        "from os import listdir\n",
        "from os.path import isfile, join\n",
        "import json"
      ],
      "metadata": {
        "id": "e1cWdd0Z6LHg"
      },
      "execution_count": 32,
      "outputs": []
    },
    {
      "cell_type": "code",
      "source": [
        "def get_files_in_dir(path: str):\n",
        "    return [f for f in listdir(path) if isfile(join(path, f))]"
      ],
      "metadata": {
        "id": "s0wdyTsS-9kS"
      },
      "execution_count": 31,
      "outputs": []
    },
    {
      "cell_type": "code",
      "source": [
        "def combine_all_file(dir: str, out: str):\n",
        "    joined_file = open(out, \"a+\")\n",
        "    file_paths = get_files_in_dir(dir)\n",
        "\n",
        "    for file_path in file_paths:\n",
        "        with open(join(dir, file_path)) as f:\n",
        "            payload = f.read()\n",
        "            joined_file.write(payload+'\\n')\n",
        "\n",
        "    joined_file.close()"
      ],
      "metadata": {
        "id": "K2j8Uqlv_Uap"
      },
      "execution_count": null,
      "outputs": []
    },
    {
      "cell_type": "code",
      "source": [
        "for folder in ['series', 'movies']:\n",
        "    dir = join(\"/content\", folder, folder)\n",
        "    out_file = join(\"/content\", folder+\"_joined.json\")\n",
        "    combine_all_file(dir, out_file)"
      ],
      "metadata": {
        "id": "ONMatepzAdzl"
      },
      "execution_count": null,
      "outputs": []
    },
    {
      "cell_type": "markdown",
      "source": [
        ""
      ],
      "metadata": {
        "id": "n9DjOw9vEQTZ"
      }
    },
    {
      "cell_type": "markdown",
      "source": [
        "## Environment Preparation"
      ],
      "metadata": {
        "id": "il4yamLXr4i7"
      }
    },
    {
      "cell_type": "code",
      "source": [
        "from pyspark.sql import SparkSession\n",
        "from pyspark.sql.dataframe import DataFrame\n",
        "import pyspark.sql.functions as F"
      ],
      "metadata": {
        "id": "Bso4EyuTEZN5"
      },
      "execution_count": 4,
      "outputs": []
    },
    {
      "cell_type": "code",
      "source": [
        "spark = SparkSession.builder.appName(\"tmdb\") \\\n",
        "    .config(\"spark.driver.maxResultSize\", \"10g\") \\\n",
        "    .getOrCreate()"
      ],
      "metadata": {
        "id": "VAUJwbyDEivb"
      },
      "execution_count": 5,
      "outputs": []
    },
    {
      "cell_type": "markdown",
      "source": [
        "## Extract"
      ],
      "metadata": {
        "id": "aL_F489oFVj6"
      }
    },
    {
      "cell_type": "code",
      "source": [
        "df_movies = spark.read.json(\"/content/drive/MyDrive/datasets/tmdb/movies_joined.json\")\n",
        "df_series = spark.read.json(\"/content/drive/MyDrive/datasets/tmdb/series_joined.json\")"
      ],
      "metadata": {
        "id": "jeQqYCkzEtWr"
      },
      "execution_count": 6,
      "outputs": []
    },
    {
      "cell_type": "code",
      "source": [
        "df_movies.printSchema()"
      ],
      "metadata": {
        "colab": {
          "base_uri": "https://localhost:8080/"
        },
        "id": "sXxWSSK_ONtu",
        "outputId": "14b441f5-8a10-41cb-91f4-206f1939279b"
      },
      "execution_count": 7,
      "outputs": [
        {
          "output_type": "stream",
          "name": "stdout",
          "text": [
            "root\n",
            " |-- adult: boolean (nullable = true)\n",
            " |-- backdrop_path: string (nullable = true)\n",
            " |-- belongs_to_collection: struct (nullable = true)\n",
            " |    |-- backdrop_path: string (nullable = true)\n",
            " |    |-- id: long (nullable = true)\n",
            " |    |-- name: string (nullable = true)\n",
            " |    |-- poster_path: string (nullable = true)\n",
            " |-- budget: long (nullable = true)\n",
            " |-- genres: array (nullable = true)\n",
            " |    |-- element: struct (containsNull = true)\n",
            " |    |    |-- id: long (nullable = true)\n",
            " |    |    |-- name: string (nullable = true)\n",
            " |-- homepage: string (nullable = true)\n",
            " |-- id: long (nullable = true)\n",
            " |-- imdb_id: string (nullable = true)\n",
            " |-- original_language: string (nullable = true)\n",
            " |-- original_title: string (nullable = true)\n",
            " |-- overview: string (nullable = true)\n",
            " |-- popularity: double (nullable = true)\n",
            " |-- poster_path: string (nullable = true)\n",
            " |-- production_companies: array (nullable = true)\n",
            " |    |-- element: struct (containsNull = true)\n",
            " |    |    |-- id: long (nullable = true)\n",
            " |    |    |-- logo_path: string (nullable = true)\n",
            " |    |    |-- name: string (nullable = true)\n",
            " |    |    |-- origin_country: string (nullable = true)\n",
            " |-- production_countries: array (nullable = true)\n",
            " |    |-- element: struct (containsNull = true)\n",
            " |    |    |-- iso_3166_1: string (nullable = true)\n",
            " |    |    |-- name: string (nullable = true)\n",
            " |-- release_date: string (nullable = true)\n",
            " |-- revenue: long (nullable = true)\n",
            " |-- runtime: long (nullable = true)\n",
            " |-- spoken_languages: array (nullable = true)\n",
            " |    |-- element: struct (containsNull = true)\n",
            " |    |    |-- iso_639_1: string (nullable = true)\n",
            " |    |    |-- name: string (nullable = true)\n",
            " |-- status: string (nullable = true)\n",
            " |-- tagline: string (nullable = true)\n",
            " |-- title: string (nullable = true)\n",
            " |-- video: boolean (nullable = true)\n",
            " |-- vote_average: double (nullable = true)\n",
            " |-- vote_count: long (nullable = true)\n",
            "\n"
          ]
        }
      ]
    },
    {
      "cell_type": "code",
      "source": [
        "df_series.printSchema()"
      ],
      "metadata": {
        "colab": {
          "base_uri": "https://localhost:8080/"
        },
        "id": "RXfIFmtN78Uf",
        "outputId": "09cce1f7-24a0-45a4-b73d-e351e6f7bbd0"
      },
      "execution_count": 8,
      "outputs": [
        {
          "output_type": "stream",
          "name": "stdout",
          "text": [
            "root\n",
            " |-- backdrop_path: string (nullable = true)\n",
            " |-- created_by: array (nullable = true)\n",
            " |    |-- element: struct (containsNull = true)\n",
            " |    |    |-- credit_id: string (nullable = true)\n",
            " |    |    |-- gender: long (nullable = true)\n",
            " |    |    |-- id: long (nullable = true)\n",
            " |    |    |-- name: string (nullable = true)\n",
            " |    |    |-- profile_path: string (nullable = true)\n",
            " |-- episode_run_time: array (nullable = true)\n",
            " |    |-- element: long (containsNull = true)\n",
            " |-- first_air_date: string (nullable = true)\n",
            " |-- genres: array (nullable = true)\n",
            " |    |-- element: struct (containsNull = true)\n",
            " |    |    |-- id: long (nullable = true)\n",
            " |    |    |-- name: string (nullable = true)\n",
            " |-- homepage: string (nullable = true)\n",
            " |-- id: long (nullable = true)\n",
            " |-- in_production: boolean (nullable = true)\n",
            " |-- languages: array (nullable = true)\n",
            " |    |-- element: string (containsNull = true)\n",
            " |-- last_air_date: string (nullable = true)\n",
            " |-- last_episode_to_air: struct (nullable = true)\n",
            " |    |-- air_date: string (nullable = true)\n",
            " |    |-- episode_number: long (nullable = true)\n",
            " |    |-- id: long (nullable = true)\n",
            " |    |-- name: string (nullable = true)\n",
            " |    |-- overview: string (nullable = true)\n",
            " |    |-- production_code: string (nullable = true)\n",
            " |    |-- season_number: long (nullable = true)\n",
            " |    |-- show_id: long (nullable = true)\n",
            " |    |-- still_path: string (nullable = true)\n",
            " |    |-- vote_average: double (nullable = true)\n",
            " |    |-- vote_count: long (nullable = true)\n",
            " |-- name: string (nullable = true)\n",
            " |-- networks: array (nullable = true)\n",
            " |    |-- element: struct (containsNull = true)\n",
            " |    |    |-- id: long (nullable = true)\n",
            " |    |    |-- logo_path: string (nullable = true)\n",
            " |    |    |-- name: string (nullable = true)\n",
            " |    |    |-- origin_country: string (nullable = true)\n",
            " |-- next_episode_to_air: struct (nullable = true)\n",
            " |    |-- air_date: string (nullable = true)\n",
            " |    |-- episode_number: long (nullable = true)\n",
            " |    |-- id: long (nullable = true)\n",
            " |    |-- name: string (nullable = true)\n",
            " |    |-- overview: string (nullable = true)\n",
            " |    |-- production_code: string (nullable = true)\n",
            " |    |-- season_number: long (nullable = true)\n",
            " |    |-- show_id: long (nullable = true)\n",
            " |    |-- still_path: string (nullable = true)\n",
            " |    |-- vote_average: double (nullable = true)\n",
            " |    |-- vote_count: long (nullable = true)\n",
            " |-- number_of_episodes: long (nullable = true)\n",
            " |-- number_of_seasons: long (nullable = true)\n",
            " |-- origin_country: array (nullable = true)\n",
            " |    |-- element: string (containsNull = true)\n",
            " |-- original_language: string (nullable = true)\n",
            " |-- original_name: string (nullable = true)\n",
            " |-- overview: string (nullable = true)\n",
            " |-- popularity: double (nullable = true)\n",
            " |-- poster_path: string (nullable = true)\n",
            " |-- production_companies: array (nullable = true)\n",
            " |    |-- element: struct (containsNull = true)\n",
            " |    |    |-- id: long (nullable = true)\n",
            " |    |    |-- logo_path: string (nullable = true)\n",
            " |    |    |-- name: string (nullable = true)\n",
            " |    |    |-- origin_country: string (nullable = true)\n",
            " |-- seasons: array (nullable = true)\n",
            " |    |-- element: struct (containsNull = true)\n",
            " |    |    |-- air_date: string (nullable = true)\n",
            " |    |    |-- episode_count: long (nullable = true)\n",
            " |    |    |-- id: long (nullable = true)\n",
            " |    |    |-- name: string (nullable = true)\n",
            " |    |    |-- overview: string (nullable = true)\n",
            " |    |    |-- poster_path: string (nullable = true)\n",
            " |    |    |-- season_number: long (nullable = true)\n",
            " |-- status: string (nullable = true)\n",
            " |-- type: string (nullable = true)\n",
            " |-- vote_average: double (nullable = true)\n",
            " |-- vote_count: long (nullable = true)\n",
            "\n"
          ]
        }
      ]
    },
    {
      "cell_type": "markdown",
      "source": [
        "## Exploration"
      ],
      "metadata": {
        "id": "8ZbaNrvzdCCO"
      }
    },
    {
      "cell_type": "markdown",
      "source": [
        "### Array struct column type consistency check\n",
        "The repetitive value in `Array - Struct` column type could create inconsistency between data. In this part we will try to check if the data in `Array - Struct` filed is consistent"
      ],
      "metadata": {
        "id": "666i6tWDebFv"
      }
    },
    {
      "cell_type": "code",
      "source": [
        "# utility function\n",
        "def explode_array_column(dataframe: DataFrame, column: str, new_column: str):\n",
        "    return dataframe.select(F.col(column)) \\\n",
        "        .where(F.size(F.col(column)) > 0 ) \\\n",
        "        .withColumn(new_column, F.explode(F.col(column))) \\\n",
        "        .select(F.col(new_column)) \\\n",
        "        \n",
        "\n",
        "\n",
        "def check_array_struct_uniqueness(dataframe: DataFrame, column: str, id_key: str):\n",
        "    res_table = explode_array_column(dataframe, column, \"temp\") \\\n",
        "        .select(F.col(f\"temp.*\")) \\\n",
        "        .distinct() \\\n",
        "        .groupBy(id_key).count() \\\n",
        "        .where(F.col(\"count\") > 1)\n",
        "    \n",
        "    if res_table.count() > 0:\n",
        "        print(f\"Data in column {column} is inconsistent\")\n",
        "        res_table.show(10)"
      ],
      "metadata": {
        "id": "ZXrslSsiTZX5"
      },
      "execution_count": 9,
      "outputs": []
    },
    {
      "cell_type": "code",
      "source": [
        "check_array_struct_uniqueness(df_movies, \"production_companies\", \"id\")\n",
        "check_array_struct_uniqueness(df_movies, \"genres\", \"id\")\n",
        "check_array_struct_uniqueness(df_movies, \"spoken_languages\", \"iso_639_1\")\n",
        "check_array_struct_uniqueness(df_movies, \"production_countries\", \"iso_3166_1\")\n",
        "check_array_struct_uniqueness(df_movies, \"genres\", \"id\")\n",
        "check_array_struct_uniqueness(df_series, \"genres\", \"id\")\n",
        "check_array_struct_uniqueness(df_series, \"networks\", \"id\")\n",
        "check_array_struct_uniqueness(df_series, \"production_companies\", \"id\")"
      ],
      "metadata": {
        "colab": {
          "base_uri": "https://localhost:8080/"
        },
        "id": "sllFvvcyUskC",
        "outputId": "b293f072-6642-49ae-c910-7d683588f51f"
      },
      "execution_count": 10,
      "outputs": [
        {
          "output_type": "stream",
          "name": "stdout",
          "text": [
            "Data in column production_companies is inconsistent\n",
            "+----+-----+\n",
            "|  id|count|\n",
            "+----+-----+\n",
            "| 215|    2|\n",
            "|6689|    2|\n",
            "+----+-----+\n",
            "\n"
          ]
        }
      ]
    },
    {
      "cell_type": "code",
      "source": [
        "df_movies.select(F.explode(\"production_companies\")).select(\"col.*\").where((F.col(\"id\") == 215)).show()\n",
        "df_movies.select(F.explode(\"production_companies\")).select(\"col.*\").where((F.col(\"id\") == 6689)).show()\n",
        "\n",
        "# if we take a look at the below result, it shows that both companies has incosistencies in it's data\n",
        "# for this project, I will just leave warning in pipeline"
      ],
      "metadata": {
        "colab": {
          "base_uri": "https://localhost:8080/"
        },
        "id": "oQ6O7athjIOG",
        "outputId": "dc18d97b-3624-4bdd-fb2b-116386ee6b5a"
      },
      "execution_count": 11,
      "outputs": [
        {
          "output_type": "stream",
          "name": "stdout",
          "text": [
            "+---+--------------------+--------------------+--------------+\n",
            "| id|           logo_path|                name|origin_country|\n",
            "+---+--------------------+--------------------+--------------+\n",
            "|215|/tQyeqkCj24krhY2W...|Double Feature Films|            US|\n",
            "|215|/tQyeqkCj24krhY2W...|Double Feature Films|            US|\n",
            "|215|/tQyeqkCj24krhY2W...|Double Feature Films|            US|\n",
            "|215|/tQyeqkCj24krhY2W...|Double Feature Films|            US|\n",
            "|215|/tQyeqkCj24krhY2W...|Double Feature Films|            US|\n",
            "|215|/tQyeqkCj24krhY2W...|Double Feature Films|            US|\n",
            "|215|/tQyeqkCj24krhY2W...|Double Feature Films|            US|\n",
            "|215|/tQyeqkCj24krhY2W...|Double Feature Films|            US|\n",
            "|215|/tQyeqkCj24krhY2W...|Double Feature Films|            US|\n",
            "|215|/tQyeqkCj24krhY2W...|Double Feature Films|            US|\n",
            "|215|/tQyeqkCj24krhY2W...|Double Feature Films|              |\n",
            "|215|/tQyeqkCj24krhY2W...|Double Feature Films|            US|\n",
            "|215|/tQyeqkCj24krhY2W...|Double Feature Films|            US|\n",
            "|215|/tQyeqkCj24krhY2W...|Double Feature Films|            US|\n",
            "|215|/tQyeqkCj24krhY2W...|Double Feature Films|              |\n",
            "|215|/tQyeqkCj24krhY2W...|Double Feature Films|            US|\n",
            "+---+--------------------+--------------------+--------------+\n",
            "\n",
            "+----+--------------------+-----+--------------+\n",
            "|  id|           logo_path| name|origin_country|\n",
            "+----+--------------------+-----+--------------+\n",
            "|6689|/i6J2W84TzUf59PdM...|SHAFT|            JP|\n",
            "|6689|/i6J2W84TzUf59PdM...|SHAFT|            JP|\n",
            "|6689|/vaKMJDLIZCeqhGC5...|SHAFT|            JP|\n",
            "|6689|/i6J2W84TzUf59PdM...|SHAFT|            JP|\n",
            "|6689|/i6J2W84TzUf59PdM...|SHAFT|            JP|\n",
            "|6689|/i6J2W84TzUf59PdM...|SHAFT|            JP|\n",
            "|6689|/i6J2W84TzUf59PdM...|SHAFT|            JP|\n",
            "|6689|/i6J2W84TzUf59PdM...|SHAFT|            JP|\n",
            "|6689|/vaKMJDLIZCeqhGC5...|SHAFT|            JP|\n",
            "|6689|/vaKMJDLIZCeqhGC5...|SHAFT|            JP|\n",
            "|6689|/i6J2W84TzUf59PdM...|SHAFT|            JP|\n",
            "|6689|/i6J2W84TzUf59PdM...|SHAFT|            JP|\n",
            "|6689|/i6J2W84TzUf59PdM...|SHAFT|            JP|\n",
            "|6689|/i6J2W84TzUf59PdM...|SHAFT|            JP|\n",
            "|6689|/i6J2W84TzUf59PdM...|SHAFT|            JP|\n",
            "|6689|/vaKMJDLIZCeqhGC5...|SHAFT|            JP|\n",
            "|6689|/i6J2W84TzUf59PdM...|SHAFT|            JP|\n",
            "|6689|/i6J2W84TzUf59PdM...|SHAFT|            JP|\n",
            "|6689|/vaKMJDLIZCeqhGC5...|SHAFT|            JP|\n",
            "|6689|/vaKMJDLIZCeqhGC5...|SHAFT|            JP|\n",
            "+----+--------------------+-----+--------------+\n",
            "only showing top 20 rows\n",
            "\n"
          ]
        }
      ]
    },
    {
      "cell_type": "code",
      "source": [
        "df_movies.printSchema()"
      ],
      "metadata": {
        "colab": {
          "base_uri": "https://localhost:8080/"
        },
        "id": "nMeq0ZjMiRS8",
        "outputId": "e7138f44-ed8a-48f4-a340-e437a6aff660"
      },
      "execution_count": 12,
      "outputs": [
        {
          "output_type": "stream",
          "name": "stdout",
          "text": [
            "root\n",
            " |-- adult: boolean (nullable = true)\n",
            " |-- backdrop_path: string (nullable = true)\n",
            " |-- belongs_to_collection: struct (nullable = true)\n",
            " |    |-- backdrop_path: string (nullable = true)\n",
            " |    |-- id: long (nullable = true)\n",
            " |    |-- name: string (nullable = true)\n",
            " |    |-- poster_path: string (nullable = true)\n",
            " |-- budget: long (nullable = true)\n",
            " |-- genres: array (nullable = true)\n",
            " |    |-- element: struct (containsNull = true)\n",
            " |    |    |-- id: long (nullable = true)\n",
            " |    |    |-- name: string (nullable = true)\n",
            " |-- homepage: string (nullable = true)\n",
            " |-- id: long (nullable = true)\n",
            " |-- imdb_id: string (nullable = true)\n",
            " |-- original_language: string (nullable = true)\n",
            " |-- original_title: string (nullable = true)\n",
            " |-- overview: string (nullable = true)\n",
            " |-- popularity: double (nullable = true)\n",
            " |-- poster_path: string (nullable = true)\n",
            " |-- production_companies: array (nullable = true)\n",
            " |    |-- element: struct (containsNull = true)\n",
            " |    |    |-- id: long (nullable = true)\n",
            " |    |    |-- logo_path: string (nullable = true)\n",
            " |    |    |-- name: string (nullable = true)\n",
            " |    |    |-- origin_country: string (nullable = true)\n",
            " |-- production_countries: array (nullable = true)\n",
            " |    |-- element: struct (containsNull = true)\n",
            " |    |    |-- iso_3166_1: string (nullable = true)\n",
            " |    |    |-- name: string (nullable = true)\n",
            " |-- release_date: string (nullable = true)\n",
            " |-- revenue: long (nullable = true)\n",
            " |-- runtime: long (nullable = true)\n",
            " |-- spoken_languages: array (nullable = true)\n",
            " |    |-- element: struct (containsNull = true)\n",
            " |    |    |-- iso_639_1: string (nullable = true)\n",
            " |    |    |-- name: string (nullable = true)\n",
            " |-- status: string (nullable = true)\n",
            " |-- tagline: string (nullable = true)\n",
            " |-- title: string (nullable = true)\n",
            " |-- video: boolean (nullable = true)\n",
            " |-- vote_average: double (nullable = true)\n",
            " |-- vote_count: long (nullable = true)\n",
            "\n"
          ]
        }
      ]
    },
    {
      "cell_type": "code",
      "source": [
        "df_series.printSchema()"
      ],
      "metadata": {
        "colab": {
          "base_uri": "https://localhost:8080/"
        },
        "id": "hPlDL3E0hwZL",
        "outputId": "95f07f0b-9933-4aa6-cc69-7edcefeaa968"
      },
      "execution_count": 13,
      "outputs": [
        {
          "output_type": "stream",
          "name": "stdout",
          "text": [
            "root\n",
            " |-- backdrop_path: string (nullable = true)\n",
            " |-- created_by: array (nullable = true)\n",
            " |    |-- element: struct (containsNull = true)\n",
            " |    |    |-- credit_id: string (nullable = true)\n",
            " |    |    |-- gender: long (nullable = true)\n",
            " |    |    |-- id: long (nullable = true)\n",
            " |    |    |-- name: string (nullable = true)\n",
            " |    |    |-- profile_path: string (nullable = true)\n",
            " |-- episode_run_time: array (nullable = true)\n",
            " |    |-- element: long (containsNull = true)\n",
            " |-- first_air_date: string (nullable = true)\n",
            " |-- genres: array (nullable = true)\n",
            " |    |-- element: struct (containsNull = true)\n",
            " |    |    |-- id: long (nullable = true)\n",
            " |    |    |-- name: string (nullable = true)\n",
            " |-- homepage: string (nullable = true)\n",
            " |-- id: long (nullable = true)\n",
            " |-- in_production: boolean (nullable = true)\n",
            " |-- languages: array (nullable = true)\n",
            " |    |-- element: string (containsNull = true)\n",
            " |-- last_air_date: string (nullable = true)\n",
            " |-- last_episode_to_air: struct (nullable = true)\n",
            " |    |-- air_date: string (nullable = true)\n",
            " |    |-- episode_number: long (nullable = true)\n",
            " |    |-- id: long (nullable = true)\n",
            " |    |-- name: string (nullable = true)\n",
            " |    |-- overview: string (nullable = true)\n",
            " |    |-- production_code: string (nullable = true)\n",
            " |    |-- season_number: long (nullable = true)\n",
            " |    |-- show_id: long (nullable = true)\n",
            " |    |-- still_path: string (nullable = true)\n",
            " |    |-- vote_average: double (nullable = true)\n",
            " |    |-- vote_count: long (nullable = true)\n",
            " |-- name: string (nullable = true)\n",
            " |-- networks: array (nullable = true)\n",
            " |    |-- element: struct (containsNull = true)\n",
            " |    |    |-- id: long (nullable = true)\n",
            " |    |    |-- logo_path: string (nullable = true)\n",
            " |    |    |-- name: string (nullable = true)\n",
            " |    |    |-- origin_country: string (nullable = true)\n",
            " |-- next_episode_to_air: struct (nullable = true)\n",
            " |    |-- air_date: string (nullable = true)\n",
            " |    |-- episode_number: long (nullable = true)\n",
            " |    |-- id: long (nullable = true)\n",
            " |    |-- name: string (nullable = true)\n",
            " |    |-- overview: string (nullable = true)\n",
            " |    |-- production_code: string (nullable = true)\n",
            " |    |-- season_number: long (nullable = true)\n",
            " |    |-- show_id: long (nullable = true)\n",
            " |    |-- still_path: string (nullable = true)\n",
            " |    |-- vote_average: double (nullable = true)\n",
            " |    |-- vote_count: long (nullable = true)\n",
            " |-- number_of_episodes: long (nullable = true)\n",
            " |-- number_of_seasons: long (nullable = true)\n",
            " |-- origin_country: array (nullable = true)\n",
            " |    |-- element: string (containsNull = true)\n",
            " |-- original_language: string (nullable = true)\n",
            " |-- original_name: string (nullable = true)\n",
            " |-- overview: string (nullable = true)\n",
            " |-- popularity: double (nullable = true)\n",
            " |-- poster_path: string (nullable = true)\n",
            " |-- production_companies: array (nullable = true)\n",
            " |    |-- element: struct (containsNull = true)\n",
            " |    |    |-- id: long (nullable = true)\n",
            " |    |    |-- logo_path: string (nullable = true)\n",
            " |    |    |-- name: string (nullable = true)\n",
            " |    |    |-- origin_country: string (nullable = true)\n",
            " |-- seasons: array (nullable = true)\n",
            " |    |-- element: struct (containsNull = true)\n",
            " |    |    |-- air_date: string (nullable = true)\n",
            " |    |    |-- episode_count: long (nullable = true)\n",
            " |    |    |-- id: long (nullable = true)\n",
            " |    |    |-- name: string (nullable = true)\n",
            " |    |    |-- overview: string (nullable = true)\n",
            " |    |    |-- poster_path: string (nullable = true)\n",
            " |    |    |-- season_number: long (nullable = true)\n",
            " |-- status: string (nullable = true)\n",
            " |-- type: string (nullable = true)\n",
            " |-- vote_average: double (nullable = true)\n",
            " |-- vote_count: long (nullable = true)\n",
            "\n"
          ]
        }
      ]
    },
    {
      "cell_type": "markdown",
      "source": [
        "### Common field\n",
        "both series and movies dataset has one same column, `genres` and `production_companies` column. This column has `ArrayType` type consists `Struct`. Yet we are not sure wether those two field has the same `id` and `name`. This part will try to check if `genres` & `production_companies` on both datasets are the same."
      ],
      "metadata": {
        "id": "TXmJrLhjdP-a"
      }
    },
    {
      "cell_type": "code",
      "source": [
        "# Comparing genres between two datasets\n",
        "\n",
        "df_series_gen = df_series.select(F.explode(F.col(\"genres\"))).select(F.col(\"col.*\")) \\\n",
        "    .withColumnRenamed(\"id\", \"series_id\") \\\n",
        "    .withColumnRenamed(\"name\", \"series_genre\") \\\n",
        "    .distinct()\n",
        "df_movies_gen = df_movies.select(F.explode(F.col(\"genres\"))).select(F.col(\"col.*\")) \\\n",
        "    .withColumnRenamed(\"id\", \"movies_id\") \\\n",
        "    .withColumnRenamed(\"name\", \"movies_genre\") \\\n",
        "    .distinct()\n",
        "\n",
        "genre_comparison = df_series_gen \\\n",
        "    .join(df_movies_gen, df_series_gen.series_id == df_movies_gen.movies_id, \"full\")\n",
        "genre_comparison.show(5)\n",
        "\n",
        "# from the result below it seems that the id and genres between two table are the same"
      ],
      "metadata": {
        "colab": {
          "base_uri": "https://localhost:8080/"
        },
        "id": "psGk8ChF9l7W",
        "outputId": "242e2579-7764-4b4b-ca6c-a10d601f2005"
      },
      "execution_count": 14,
      "outputs": [
        {
          "output_type": "stream",
          "name": "stdout",
          "text": [
            "+---------+------------+---------+------------+\n",
            "|series_id|series_genre|movies_id|movies_genre|\n",
            "+---------+------------+---------+------------+\n",
            "|       12|   Adventure|       12|   Adventure|\n",
            "|       14|     Fantasy|       14|     Fantasy|\n",
            "|       16|   Animation|       16|   Animation|\n",
            "|       18|       Drama|       18|       Drama|\n",
            "|       22|     Musical|     null|        null|\n",
            "+---------+------------+---------+------------+\n",
            "only showing top 5 rows\n",
            "\n"
          ]
        }
      ]
    },
    {
      "cell_type": "code",
      "source": [
        "# decide to check futher by looking for inequality between series_genre and movies_genre\n",
        "genre_comparison.where(F.col(\"movies_id\").isNotNull() & F.col(\"series_id\").isNotNull() & (F.col(\"movies_genre\") != F.col(\"series_genre\"))).show()\n",
        "\n",
        "# the result below show that between series and movies dataset the genre id are consistent,\n",
        "# hence this lead the decision to normalize genre table"
      ],
      "metadata": {
        "colab": {
          "base_uri": "https://localhost:8080/"
        },
        "id": "_Pt7s5eXB33p",
        "outputId": "4ed11e33-6f40-48a7-a052-072dcc8b208f"
      },
      "execution_count": 15,
      "outputs": [
        {
          "output_type": "stream",
          "name": "stdout",
          "text": [
            "+---------+------------+---------+------------+\n",
            "|series_id|series_genre|movies_id|movies_genre|\n",
            "+---------+------------+---------+------------+\n",
            "+---------+------------+---------+------------+\n",
            "\n"
          ]
        }
      ]
    },
    {
      "cell_type": "code",
      "source": [
        "dwh_genres = genre_comparison \\\n",
        "    .withColumn(\"id\", F.when(F.col(\"series_id\").isNull(), F.col(\"movies_id\")).otherwise(F.col(\"series_id\"))) \\\n",
        "    .withColumn(\"genre\", F.when(F.col(\"series_id\").isNull(), F.col(\"movies_genre\")).otherwise(F.col(\"series_genre\"))) \\\n",
        "    .select([\"id\", \"genre\"])\n",
        "\n",
        "dwh_genres.show(5)\n",
        "\n",
        "# the below table will be used for dimension table"
      ],
      "metadata": {
        "colab": {
          "base_uri": "https://localhost:8080/"
        },
        "id": "rgrYyA6fp4jl",
        "outputId": "1ac85ec0-f562-4893-ae0a-387f513ec71c"
      },
      "execution_count": 16,
      "outputs": [
        {
          "output_type": "stream",
          "name": "stdout",
          "text": [
            "+---+---------+\n",
            "| id|    genre|\n",
            "+---+---------+\n",
            "| 12|Adventure|\n",
            "| 14|  Fantasy|\n",
            "| 16|Animation|\n",
            "| 18|    Drama|\n",
            "| 22|  Musical|\n",
            "+---+---------+\n",
            "only showing top 5 rows\n",
            "\n"
          ]
        }
      ]
    },
    {
      "cell_type": "code",
      "source": [
        "# Comparing production_companies between two datasets\n",
        "\n",
        "df_series_com = df_series.select(F.explode(F.col(\"production_companies\"))).select(F.col(\"col.*\")) \\\n",
        "    .select([\"id\", \"name\", \"origin_country\"]) \\\n",
        "    .withColumnRenamed(\"id\", \"series_id\") \\\n",
        "    .withColumnRenamed(\"name\", \"series_company\") \\\n",
        "    .withColumnRenamed(\"origin_country\", \"series_origin_country\") \\\n",
        "    .distinct()\n",
        "df_movies_com = df_movies.select(F.explode(F.col(\"production_companies\"))).select(F.col(\"col.*\")) \\\n",
        "    .select([\"id\", \"name\", \"origin_country\"]) \\\n",
        "    .withColumnRenamed(\"id\", \"movies_id\") \\\n",
        "    .withColumnRenamed(\"name\", \"movies_company\") \\\n",
        "    .withColumnRenamed(\"origin_country\", \"movies_origin_country\") \\\n",
        "    .distinct()\n",
        "\n",
        "companies_comparison = df_series_com \\\n",
        "    .join(df_movies_com, df_series_com.series_id == df_movies_com.movies_id, \"full\")\n",
        "companies_comparison.show(5)\n",
        "\n",
        "# from the result below it seems that the id and genres between two table are the same"
      ],
      "metadata": {
        "colab": {
          "base_uri": "https://localhost:8080/"
        },
        "id": "I8wd-Lximen9",
        "outputId": "81e429c9-e312-46b7-dcc6-12a43f8925ee"
      },
      "execution_count": 17,
      "outputs": [
        {
          "output_type": "stream",
          "name": "stdout",
          "text": [
            "+---------+-------------------+---------------------+---------+-------------------+---------------------+\n",
            "|series_id|     series_company|series_origin_country|movies_id|     movies_company|movies_origin_country|\n",
            "+---------+-------------------+---------------------+---------+-------------------+---------------------+\n",
            "|        1|     Lucasfilm Ltd.|                   US|        1|     Lucasfilm Ltd.|                   US|\n",
            "|        5|  Columbia Pictures|                   US|        5|  Columbia Pictures|                   US|\n",
            "|     null|               null|                 null|        6| RKO Radio Pictures|                   US|\n",
            "|        7|DreamWorks Pictures|                   US|        7|DreamWorks Pictures|                   US|\n",
            "|        9|            Gaumont|                   FR|        9|            Gaumont|                   FR|\n",
            "+---------+-------------------+---------------------+---------+-------------------+---------------------+\n",
            "only showing top 5 rows\n",
            "\n"
          ]
        }
      ]
    },
    {
      "cell_type": "code",
      "source": [
        "# decide to check futher by looking for inequality between series_genre and movies_genre\n",
        "companies_comparison \\\n",
        ".where(F.col(\"movies_id\").isNotNull() \\\n",
        "       & F.col(\"series_id\").isNotNull() \\\n",
        "       & (F.col(\"movies_company\") != F.col(\"series_company\")) \\\n",
        "       & (F.col(\"movies_origin_country\") != F.col(\"series_origin_country\"))) \\\n",
        ".show()\n",
        "\n",
        "# the below table will be used for dimension table"
      ],
      "metadata": {
        "colab": {
          "base_uri": "https://localhost:8080/"
        },
        "id": "Au0J9MjCn3n7",
        "outputId": "1c5f1879-a603-43fe-c074-de9f80d3a3fe"
      },
      "execution_count": 18,
      "outputs": [
        {
          "output_type": "stream",
          "name": "stdout",
          "text": [
            "+---------+--------------+---------------------+---------+--------------+---------------------+\n",
            "|series_id|series_company|series_origin_country|movies_id|movies_company|movies_origin_country|\n",
            "+---------+--------------+---------------------+---------+--------------+---------------------+\n",
            "+---------+--------------+---------------------+---------+--------------+---------------------+\n",
            "\n"
          ]
        }
      ]
    },
    {
      "cell_type": "code",
      "source": [
        "dwh_companies = companies_comparison \\\n",
        "    .withColumn(\"id\", F.when(F.col(\"series_id\").isNull(), F.col(\"movies_id\")).otherwise(F.col(\"series_id\"))) \\\n",
        "    .withColumn(\"company\", F.when(F.col(\"series_id\").isNull(), F.col(\"movies_company\")).otherwise(F.col(\"series_company\"))) \\\n",
        "    .withColumn(\"origin_country\", F.when(F.col(\"series_id\").isNull(), F.col(\"movies_origin_country\")).otherwise(F.col(\"series_origin_country\"))) \\\n",
        "    .select([\"id\", \"company\", \"origin_country\"]) \\\n",
        "    .where(F.col(\"origin_country\").isNotNull())\n",
        "\n",
        "dwh_companies.show(5)\n",
        "\n",
        "# since there is no inconsistency in this table, we will normalize this table"
      ],
      "metadata": {
        "colab": {
          "base_uri": "https://localhost:8080/"
        },
        "id": "z2fmiIcvpbNv",
        "outputId": "c6ad0744-b802-4b34-9998-c6ff8f712dc2"
      },
      "execution_count": 19,
      "outputs": [
        {
          "output_type": "stream",
          "name": "stdout",
          "text": [
            "+---+-------------------+--------------+\n",
            "| id|            company|origin_country|\n",
            "+---+-------------------+--------------+\n",
            "|  1|     Lucasfilm Ltd.|            US|\n",
            "|  5|  Columbia Pictures|            US|\n",
            "|  6| RKO Radio Pictures|            US|\n",
            "|  7|DreamWorks Pictures|            US|\n",
            "|  9|            Gaumont|            FR|\n",
            "+---+-------------------+--------------+\n",
            "only showing top 5 rows\n",
            "\n"
          ]
        }
      ]
    },
    {
      "cell_type": "markdown",
      "source": [
        "## Transform"
      ],
      "metadata": {
        "id": "Xa2gbBpmaRFp"
      }
    },
    {
      "cell_type": "code",
      "source": [
        "# drop genre and companies\n",
        "initial_columns = df_movies.schema.names\n",
        "\n",
        "dwh_movies = df_movies \\\n",
        "    .withColumn(\"genre\", F.explode(\"genres\")) \\\n",
        "    .select(*initial_columns, F.col(\"genre.id\").alias(\"genre_id\")) \\\n",
        "    .groupBy(*initial_columns).agg(F.collect_list(\"genre_id\").alias(\"genre_ids\")) \\\n",
        "    .withColumn(\"company\", F.explode(\"production_companies\")) \\\n",
        "    .select(*initial_columns, \"genre_ids\", F.col(\"company.id\").alias(\"company_id\")) \\\n",
        "    .groupBy(*initial_columns, \"genre_ids\").agg(F.collect_list(\"company_id\").alias(\"company_ids\")) \\\n",
        "    .drop(\"genres\", \"production_companies\")\n",
        "    \n",
        "dwh_movies.show(5)\n",
        "\n",
        "# the table below will be saved to dwh as factual table"
      ],
      "metadata": {
        "colab": {
          "base_uri": "https://localhost:8080/"
        },
        "id": "6YGEkMrRsd1E",
        "outputId": "83fb547b-2b03-45ad-9841-0095c89a083b"
      },
      "execution_count": 20,
      "outputs": [
        {
          "output_type": "stream",
          "name": "stdout",
          "text": [
            "+-----+-------------+---------------------+------+--------+------+---------+-----------------+--------------------+--------------------+----------+--------------------+--------------------+------------+-------+-------+----------------+--------+-------+--------------------+-----+------------+----------+---------+-------------+\n",
            "|adult|backdrop_path|belongs_to_collection|budget|homepage|    id|  imdb_id|original_language|      original_title|            overview|popularity|         poster_path|production_countries|release_date|revenue|runtime|spoken_languages|  status|tagline|               title|video|vote_average|vote_count|genre_ids|  company_ids|\n",
            "+-----+-------------+---------------------+------+--------+------+---------+-----------------+--------------------+--------------------+----------+--------------------+--------------------+------------+-------+-------+----------------+--------+-------+--------------------+-----+------------+----------+---------+-------------+\n",
            "|false|         null|                 null|     0|    null|183379|tt0062607|               fr|Les Aventures de ...|                    |     0.699|/4z0BnM3kU9nEF6CO...|[{FR, France}, {D...|  1969-08-29|      0|    128|[{fr, Français}]|Released|       |Adventures of Tom...|false|         8.5|         3|     [12]|[37353, 4606]|\n",
            "|false|         null|                 null|     0|    null|246745|tt0195268|               it|        Skipper (TV)|                    |      1.45|                null|       [{IT, Italy}]|  1984-01-01|      0|   null|[{it, Italiano}]|Released|       |        Skipper (TV)|false|         6.5|         1|     [12]|       [1583]|\n",
            "|false|         null|                 null|     0|    null|269289|tt0053382|               en|  Tumulto de Paixões|A novelist comes ...|       0.6|/zsq6t5AFgp4wuAmF...|[{DE, Germany}, {...|  1959-11-27|      0|    102| [{en, English}]|Released|       |The Witch Beneath...|false|         0.0|         0|     [12]|[78033, 1449]|\n",
            "|false|         null|                 null|     0|    null|276940|tt0063484|               en|Radhapura – Endst...|                    |       0.6|/fUeXJ56bKoh95OMJ...|     [{DE, Germany}]|  1968-07-25|      0|   null|              []|Released|       |Radhapura – Endst...|false|         0.0|         0|     [12]|      [12730]|\n",
            "|false|         null|                 null|     0|    null|284860|tt0272123|               de|  Heinrich der Säger|                    |      0.84|                null|     [{DE, Germany}]|  2001-08-16|      0|   null|              []|Released|       |  Heinrich der Säger|false|         4.3|         2|     [12]|        [201]|\n",
            "+-----+-------------+---------------------+------+--------+------+---------+-----------------+--------------------+--------------------+----------+--------------------+--------------------+------------+-------+-------+----------------+--------+-------+--------------------+-----+------------+----------+---------+-------------+\n",
            "only showing top 5 rows\n",
            "\n"
          ]
        }
      ]
    },
    {
      "cell_type": "code",
      "source": [
        "# drop genre and companies\n",
        "initial_columns = df_series.schema.names\n",
        "\n",
        "dwh_series = df_series \\\n",
        "    .withColumn(\"genre\", F.explode(\"genres\")) \\\n",
        "    .select(*initial_columns, F.col(\"genre.id\").alias(\"genre_id\")) \\\n",
        "    .groupBy(*initial_columns).agg(F.collect_list(\"genre_id\").alias(\"genre_ids\")) \\\n",
        "    .withColumn(\"company\", F.explode(\"production_companies\")) \\\n",
        "    .select(*initial_columns, \"genre_ids\", F.col(\"company.id\").alias(\"company_id\")) \\\n",
        "    .groupBy(*initial_columns, \"genre_ids\").agg(F.collect_list(\"company_id\").alias(\"company_ids\")) \\\n",
        "    .drop(\"genres\", \"production_companies\")\n",
        "\n",
        "dwh_series.show(5)\n",
        "\n",
        "# the table below will be saved to dwh as factual table"
      ],
      "metadata": {
        "colab": {
          "base_uri": "https://localhost:8080/"
        },
        "id": "4450_BF41W5q",
        "outputId": "7d9b53a6-dc3d-46ed-f0cb-12bb18b84078"
      },
      "execution_count": 21,
      "outputs": [
        {
          "output_type": "stream",
          "name": "stdout",
          "text": [
            "+-------------+----------+----------------+--------------+--------------------+------+-------------+---------+-------------+-------------------+-----------------------------------+--------------------+-------------------+------------------+-----------------+--------------+-----------------+-----------------------------------+--------+----------+--------------------+--------------------+-------------+--------+------------+----------+--------------------+--------------+\n",
            "|backdrop_path|created_by|episode_run_time|first_air_date|            homepage|    id|in_production|languages|last_air_date|last_episode_to_air|                               name|            networks|next_episode_to_air|number_of_episodes|number_of_seasons|origin_country|original_language|                      original_name|overview|popularity|         poster_path|             seasons|       status|    type|vote_average|vote_count|           genre_ids|   company_ids|\n",
            "+-------------+----------+----------------+--------------+--------------------+------+-------------+---------+-------------+-------------------+-----------------------------------+--------------------+-------------------+------------------+-----------------+--------------+-----------------+-----------------------------------+--------+----------+--------------------+--------------------+-------------+--------+------------+----------+--------------------+--------------+\n",
            "|         null|        []|              []|          null|                    | 39648|        false|     [en]|         null|               null|                     Slasher School|                  []|               null|                 0|                0|          [US]|               en|                     Slasher School|        |       0.6|/kGwEdp2tYTj5Ylyl...|                  []|        Ended|Scripted|         0.0|         0|                [16]|       [88013]|\n",
            "|         null|        []|              []|          null|http://www.loveli...|103511|         true|     [ja]|         null|               null|ラブライブ! 虹ヶ咲学園スクールア...|                  []|               null|                 1|                1|          [JP]|               ja|ラブライブ! 虹ヶ咲学園スクールア...|        |      0.84|/hi7Fbc229kKKn5UF...|[{null, 1, 151004...|In Production|Scripted|         0.0|         0|                [16]|        [3153]|\n",
            "|         null|        []|              []|          null| https://d4dj-pj.com|102655|         true|     [ja]|         null|               null|                     D4DJ First Mix|                  []|               null|                 1|                1|          [JP]|               ja|                     D4DJ First Mix|        |       0.6|/2D5RCACi5vDMf0Jx...|[{null, 1, 149229...|In Production|Scripted|         0.0|         0|                [16]|       [43363]|\n",
            "|         null|        []|              []|          null|                    | 99772|         true|     [ja]|         null|               null|   ヴァンパイヤ・イン・ザ・ガーデン|[{213, /wwemzKWzj...|               null|                 1|                1|          [JP]|               ja|   ヴァンパイヤ・イン・ザ・ガーデン|        |       0.6|                null|[{null, 1, 143982...|In Production|Scripted|         0.0|         0|            [16, 18]|      [119247]|\n",
            "|         null|        []|              []|          null|http://anime-king...|102871|         true|     [ja]|         null|               null|  キングスレイド 意志を継ぐものたち|                  []|               null|                 1|                1|          [JP]|               ja|  キングスレイド 意志を継ぐものたち|        |     0.804|/xJE2Hl4NTJ4xVZQ3...|[{null, 1, 149623...|In Production|Scripted|         0.0|         0|[16, 18, 10759, 1...|[5372, 131964]|\n",
            "+-------------+----------+----------------+--------------+--------------------+------+-------------+---------+-------------+-------------------+-----------------------------------+--------------------+-------------------+------------------+-----------------+--------------+-----------------+-----------------------------------+--------+----------+--------------------+--------------------+-------------+--------+------------+----------+--------------------+--------------+\n",
            "only showing top 5 rows\n",
            "\n"
          ]
        }
      ]
    },
    {
      "cell_type": "markdown",
      "source": [
        "## Load\n",
        "Save data to parquet files"
      ],
      "metadata": {
        "id": "1tk9OODk3EGb"
      }
    },
    {
      "cell_type": "code",
      "source": [
        "# save data to parquet format\n",
        "dwh_series.write.parquet(\"series.parquet\")\n",
        "dwh_movies.write.parquet(\"movies.parquet\")\n",
        "dwh_genres.write.parquet(\"genres.parquet\")\n",
        "dwh_companies.write.parquet(\"companies.parquet\")"
      ],
      "metadata": {
        "id": "-_m5bQjQ4MIT"
      },
      "execution_count": 68,
      "outputs": []
    },
    {
      "cell_type": "markdown",
      "source": [
        "Copy file from local machine to GCS"
      ],
      "metadata": {
        "id": "Q9wo0kw57MAe"
      }
    },
    {
      "cell_type": "code",
      "source": [
        "!gcloud auth login"
      ],
      "metadata": {
        "id": "_RSsgtkw5Saa"
      },
      "execution_count": null,
      "outputs": []
    },
    {
      "cell_type": "code",
      "source": [
        "!gsutil cp -r ./series.parquet gs://de-porto/qoala/series.parquet"
      ],
      "metadata": {
        "colab": {
          "base_uri": "https://localhost:8080/"
        },
        "id": "_X9tR6Lk5fwz",
        "outputId": "ccc8d117-d723-4f6f-c0f8-5d153bd3db34"
      },
      "execution_count": 44,
      "outputs": [
        {
          "output_type": "stream",
          "name": "stdout",
          "text": [
            "Copying file://./series.parquet/series-part-00000-0ebcf9e4-036c-4d1b-a1e4-8921ae1bcc00-c000.snappy.parquet [Content-Type=application/octet-stream]...\n",
            "Copying file://./series.parquet/series-.part-00000-0ebcf9e4-036c-4d1b-a1e4-8921ae1bcc00-c000.snappy.parquet.crc [Content-Type=application/octet-stream]...\n",
            "Copying file://./series.parquet/series-._SUCCESS.crc [Content-Type=application/octet-stream]...\n",
            "Copying file://./series.parquet/series-.part-00001-0ebcf9e4-036c-4d1b-a1e4-8921ae1bcc00-c000.snappy.parquet.crc [Content-Type=application/octet-stream]...\n",
            "\\ [4 files][  5.6 MiB/  5.6 MiB]                                                \n",
            "==> NOTE: You are performing a sequence of gsutil operations that may\n",
            "run significantly faster if you instead use gsutil -m cp ... Please\n",
            "see the -m section under \"gsutil help options\" for further information\n",
            "about when gsutil -m can be advantageous.\n",
            "\n",
            "Copying file://./series.parquet/series-part-00001-0ebcf9e4-036c-4d1b-a1e4-8921ae1bcc00-c000.snappy.parquet [Content-Type=application/octet-stream]...\n",
            "Copying file://./series.parquet/series-_SUCCESS [Content-Type=application/octet-stream]...\n",
            "/ [6 files][ 11.2 MiB/ 11.2 MiB]                                                \n",
            "Operation completed over 6 objects/11.2 MiB.                                     \n"
          ]
        }
      ]
    },
    {
      "cell_type": "code",
      "source": [
        "!pip install -q google-cloud-bigquery google-cloud-storage"
      ],
      "metadata": {
        "id": "wrYE8s4I5ICF"
      },
      "execution_count": 26,
      "outputs": []
    },
    {
      "cell_type": "code",
      "source": [
        "def get_files_in_gcs(bucket: str, prefix: str, extension: str):\n",
        "    from google.cloud import storage\n",
        "    gcs_client = storage.Client.from_service_account_json(\"./de-porto-key.json\")\n",
        "\n",
        "    res = []\n",
        "    for blob in gcs_client.list_blobs(bucket, prefix=prefix, ):\n",
        "        suffix = blob.name.split(\".\")[-1]\n",
        "        if suffix == extension:\n",
        "            res.append(f\"gs://{bucket}/{blob.name}\")\n",
        "        \n",
        "    return res"
      ],
      "metadata": {
        "id": "VSL4bPY5sqlo"
      },
      "execution_count": 62,
      "outputs": []
    },
    {
      "cell_type": "code",
      "source": [
        "# get files on gcs\n",
        "files = get_files_in_gcs(\"de-porto\", \"qoala/movies.parquet\", \"parquet\")\n",
        "print(files)"
      ],
      "metadata": {
        "id": "j2pg_pmY4RRV",
        "outputId": "e74920d0-1bfd-4013-9d7d-5e4b10ac2659",
        "colab": {
          "base_uri": "https://localhost:8080/"
        }
      },
      "execution_count": 63,
      "outputs": [
        {
          "output_type": "stream",
          "name": "stdout",
          "text": [
            "['gs://de-porto/qoala/movies.parquet/part-00000-6a6bac41-c8b0-4b99-a1f8-b875cd8bc7eb-c000.snappy.parquet', 'gs://de-porto/qoala/movies.parquet/part-00001-6a6bac41-c8b0-4b99-a1f8-b875cd8bc7eb-c000.snappy.parquet', 'gs://de-porto/qoala/movies.parquet/part-00002-6a6bac41-c8b0-4b99-a1f8-b875cd8bc7eb-c000.snappy.parquet']\n"
          ]
        }
      ]
    },
    {
      "cell_type": "markdown",
      "source": [
        "Load from GCS to Bigquery"
      ],
      "metadata": {
        "id": "H_Ys-n0l7Ulz"
      }
    },
    {
      "cell_type": "code",
      "source": [
        "# load to bigquery\n",
        "def load_parquet_to_bq(project:str, dataset:str, table:str, *uris):\n",
        "    from google.cloud import bigquery\n",
        "    client = bigquery.Client.from_service_account_json(\"./de-porto-key.json\")\n",
        "\n",
        "    config = bigquery.LoadJobConfig(source_format=bigquery.SourceFormat.PARQUET)\n",
        "    table_id = f\"{project}.{dataset}.{table}\"\n",
        "\n",
        "    for uri in uris:\n",
        "        job = client.load_table_from_uri(uri, table_id, job_config=config)\n",
        "\n",
        "        job.result()"
      ],
      "metadata": {
        "id": "IAyV6S3s50In"
      },
      "execution_count": 65,
      "outputs": []
    },
    {
      "cell_type": "code",
      "source": [
        "load_parquet_to_bq(\"de-porto\", \"de_porto\", \"movie_test\", *files)"
      ],
      "metadata": {
        "id": "4C26QFT852-K"
      },
      "execution_count": 66,
      "outputs": []
    }
  ]
}