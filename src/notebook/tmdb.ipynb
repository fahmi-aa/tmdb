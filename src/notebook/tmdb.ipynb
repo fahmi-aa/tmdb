{
  "nbformat": 4,
  "nbformat_minor": 0,
  "metadata": {
    "colab": {
      "name": "tmdb.ipynb",
      "provenance": [],
      "collapsed_sections": [
        "zfMpK8C66hmx",
        "dihZSxw77vyy",
        "r8Q3ZlDaEIGR",
        "6Q78EKiR-t0g",
        "ufpVtE0j71HS"
      ]
    },
    "kernelspec": {
      "name": "python3",
      "display_name": "Python 3"
    },
    "language_info": {
      "name": "python"
    }
  },
  "cells": [
    {
      "cell_type": "markdown",
      "source": [
        "# Fahmi Abdulaziz - Qoala ETL Pipeline Assingment\n",
        "This is development notebook used for ETL development and prototyping."
      ],
      "metadata": {
        "id": "tI2p1V636MDO"
      }
    },
    {
      "cell_type": "markdown",
      "source": [
        "## Preparing Dependencies"
      ],
      "metadata": {
        "id": "zfMpK8C66hmx"
      }
    },
    {
      "cell_type": "code",
      "execution_count": 2,
      "metadata": {
        "id": "-hlh_UWOgIwM",
        "colab": {
          "base_uri": "https://localhost:8080/"
        },
        "outputId": "97d2ce7e-02e9-440d-bbec-016dca3c3f23"
      },
      "outputs": [
        {
          "output_type": "stream",
          "name": "stdout",
          "text": [
            "\u001b[K     |████████████████████████████████| 281.4 MB 34 kB/s \n",
            "\u001b[K     |████████████████████████████████| 198 kB 54.1 MB/s \n",
            "\u001b[?25h  Building wheel for pyspark (setup.py) ... \u001b[?25l\u001b[?25hdone\n"
          ]
        }
      ],
      "source": [
        "!pip install -q pyspark kaggle"
      ]
    },
    {
      "cell_type": "code",
      "source": [
        "from google.colab import drive\n",
        "drive.mount('/content/drive')"
      ],
      "metadata": {
        "id": "jfvWJ_nOEZkh",
        "colab": {
          "base_uri": "https://localhost:8080/"
        },
        "outputId": "981a565e-4191-4d91-9a34-0d0171528309"
      },
      "execution_count": 3,
      "outputs": [
        {
          "output_type": "stream",
          "name": "stdout",
          "text": [
            "Mounted at /content/drive\n"
          ]
        }
      ]
    },
    {
      "cell_type": "markdown",
      "source": [
        "preparing kaggle credential"
      ],
      "metadata": {
        "id": "HVTmU6aK7Pty"
      }
    },
    {
      "cell_type": "code",
      "source": [
        "!mkdir -p ~/.kaggle\n",
        "!cp /content/drive/MyDrive/kaggle.json ~/.kaggle/\n",
        "!chmod 600 ~/.kaggle/kaggle.json"
      ],
      "metadata": {
        "id": "qEDmuxJ_h-e0"
      },
      "execution_count": null,
      "outputs": []
    },
    {
      "cell_type": "markdown",
      "source": [
        "## Preparing Source File"
      ],
      "metadata": {
        "id": "dihZSxw77vyy"
      }
    },
    {
      "cell_type": "markdown",
      "source": [
        "### Download & unzip tmdb dataset"
      ],
      "metadata": {
        "id": "r8Q3ZlDaEIGR"
      }
    },
    {
      "cell_type": "code",
      "source": [
        "%%bash --err null\n",
        "kaggle datasets download edgartanaka1/tmdb-movies-and-series -p /content\n",
        "unzip /content/tmdb-movies-and-series.zip"
      ],
      "metadata": {
        "id": "r8mLfNiniWkG"
      },
      "execution_count": null,
      "outputs": []
    },
    {
      "cell_type": "markdown",
      "source": [
        "### Combining all the files into one JSON\n",
        "This step is unnecessary, but it would speed up file loading a lot."
      ],
      "metadata": {
        "id": "6Q78EKiR-t0g"
      }
    },
    {
      "cell_type": "code",
      "source": [
        "from os import listdir\n",
        "from os.path import isfile, join\n",
        "import json"
      ],
      "metadata": {
        "id": "e1cWdd0Z6LHg"
      },
      "execution_count": null,
      "outputs": []
    },
    {
      "cell_type": "code",
      "source": [
        "def get_files_in_dir(path: str):\n",
        "    return [f for f in listdir(path) if isfile(join(path, f))]"
      ],
      "metadata": {
        "id": "s0wdyTsS-9kS"
      },
      "execution_count": null,
      "outputs": []
    },
    {
      "cell_type": "code",
      "source": [
        "def combine_all_file(dir: str, out: str):\n",
        "    joined_file = open(out, \"a+\")\n",
        "    file_paths = get_files_in_dir(dir)\n",
        "\n",
        "    for file_path in file_paths:\n",
        "        with open(join(dir, file_path)) as f:\n",
        "            payload = f.read()\n",
        "            joined_file.write(payload+'\\n')\n",
        "\n",
        "    joined_file.close()"
      ],
      "metadata": {
        "id": "K2j8Uqlv_Uap"
      },
      "execution_count": null,
      "outputs": []
    },
    {
      "cell_type": "code",
      "source": [
        "for folder in ['series', 'movies']:\n",
        "    dir = join(\"/content\", folder, folder)\n",
        "    out_file = join(\"/content\", folder+\"_joined.json\")\n",
        "    combine_all_file(dir, out_file)"
      ],
      "metadata": {
        "id": "ONMatepzAdzl"
      },
      "execution_count": null,
      "outputs": []
    },
    {
      "cell_type": "markdown",
      "source": [
        ""
      ],
      "metadata": {
        "id": "n9DjOw9vEQTZ"
      }
    },
    {
      "cell_type": "markdown",
      "source": [
        "## Extract"
      ],
      "metadata": {
        "id": "aL_F489oFVj6"
      }
    },
    {
      "cell_type": "code",
      "source": [
        "from pyspark.sql import SparkSession\n",
        "from pyspark.sql.dataframe import DataFrame\n",
        "import pyspark.sql.functions as F"
      ],
      "metadata": {
        "id": "Bso4EyuTEZN5"
      },
      "execution_count": 4,
      "outputs": []
    },
    {
      "cell_type": "code",
      "source": [
        "spark = SparkSession.builder.appName(\"tmdb\") \\\n",
        "    .config(\"spark.driver.maxResultSize\", \"10g\") \\\n",
        "    .getOrCreate()"
      ],
      "metadata": {
        "id": "VAUJwbyDEivb"
      },
      "execution_count": 5,
      "outputs": []
    },
    {
      "cell_type": "code",
      "source": [
        "df_movies = spark.read.json(\"/content/drive/MyDrive/datasets/tmdb/movies_joined.json\")\n",
        "df_series = spark.read.json(\"/content/drive/MyDrive/datasets/tmdb/series_joined.json\")"
      ],
      "metadata": {
        "id": "jeQqYCkzEtWr"
      },
      "execution_count": 7,
      "outputs": []
    },
    {
      "cell_type": "code",
      "source": [
        "df_movies.printSchema()"
      ],
      "metadata": {
        "colab": {
          "base_uri": "https://localhost:8080/"
        },
        "id": "sXxWSSK_ONtu",
        "outputId": "aaa06166-65d6-4e34-ef2d-3930adb6b7fd"
      },
      "execution_count": 33,
      "outputs": [
        {
          "output_type": "stream",
          "name": "stdout",
          "text": [
            "root\n",
            " |-- adult: boolean (nullable = true)\n",
            " |-- backdrop_path: string (nullable = true)\n",
            " |-- belongs_to_collection: struct (nullable = true)\n",
            " |    |-- backdrop_path: string (nullable = true)\n",
            " |    |-- id: long (nullable = true)\n",
            " |    |-- name: string (nullable = true)\n",
            " |    |-- poster_path: string (nullable = true)\n",
            " |-- budget: long (nullable = true)\n",
            " |-- genres: array (nullable = true)\n",
            " |    |-- element: struct (containsNull = true)\n",
            " |    |    |-- id: long (nullable = true)\n",
            " |    |    |-- name: string (nullable = true)\n",
            " |-- homepage: string (nullable = true)\n",
            " |-- id: long (nullable = true)\n",
            " |-- imdb_id: string (nullable = true)\n",
            " |-- original_language: string (nullable = true)\n",
            " |-- original_title: string (nullable = true)\n",
            " |-- overview: string (nullable = true)\n",
            " |-- popularity: double (nullable = true)\n",
            " |-- poster_path: string (nullable = true)\n",
            " |-- production_companies: array (nullable = true)\n",
            " |    |-- element: struct (containsNull = true)\n",
            " |    |    |-- id: long (nullable = true)\n",
            " |    |    |-- logo_path: string (nullable = true)\n",
            " |    |    |-- name: string (nullable = true)\n",
            " |    |    |-- origin_country: string (nullable = true)\n",
            " |-- production_countries: array (nullable = true)\n",
            " |    |-- element: struct (containsNull = true)\n",
            " |    |    |-- iso_3166_1: string (nullable = true)\n",
            " |    |    |-- name: string (nullable = true)\n",
            " |-- release_date: string (nullable = true)\n",
            " |-- revenue: long (nullable = true)\n",
            " |-- runtime: long (nullable = true)\n",
            " |-- spoken_languages: array (nullable = true)\n",
            " |    |-- element: struct (containsNull = true)\n",
            " |    |    |-- iso_639_1: string (nullable = true)\n",
            " |    |    |-- name: string (nullable = true)\n",
            " |-- status: string (nullable = true)\n",
            " |-- tagline: string (nullable = true)\n",
            " |-- title: string (nullable = true)\n",
            " |-- video: boolean (nullable = true)\n",
            " |-- vote_average: double (nullable = true)\n",
            " |-- vote_count: long (nullable = true)\n",
            "\n"
          ]
        }
      ]
    },
    {
      "cell_type": "code",
      "source": [
        "df_series.printSchema()"
      ],
      "metadata": {
        "colab": {
          "base_uri": "https://localhost:8080/"
        },
        "id": "RXfIFmtN78Uf",
        "outputId": "13174d57-da12-4f76-b505-81597443ace3"
      },
      "execution_count": 9,
      "outputs": [
        {
          "output_type": "stream",
          "name": "stdout",
          "text": [
            "root\n",
            " |-- backdrop_path: string (nullable = true)\n",
            " |-- created_by: array (nullable = true)\n",
            " |    |-- element: struct (containsNull = true)\n",
            " |    |    |-- credit_id: string (nullable = true)\n",
            " |    |    |-- gender: long (nullable = true)\n",
            " |    |    |-- id: long (nullable = true)\n",
            " |    |    |-- name: string (nullable = true)\n",
            " |    |    |-- profile_path: string (nullable = true)\n",
            " |-- episode_run_time: array (nullable = true)\n",
            " |    |-- element: long (containsNull = true)\n",
            " |-- first_air_date: string (nullable = true)\n",
            " |-- genres: array (nullable = true)\n",
            " |    |-- element: struct (containsNull = true)\n",
            " |    |    |-- id: long (nullable = true)\n",
            " |    |    |-- name: string (nullable = true)\n",
            " |-- homepage: string (nullable = true)\n",
            " |-- id: long (nullable = true)\n",
            " |-- in_production: boolean (nullable = true)\n",
            " |-- languages: array (nullable = true)\n",
            " |    |-- element: string (containsNull = true)\n",
            " |-- last_air_date: string (nullable = true)\n",
            " |-- last_episode_to_air: struct (nullable = true)\n",
            " |    |-- air_date: string (nullable = true)\n",
            " |    |-- episode_number: long (nullable = true)\n",
            " |    |-- id: long (nullable = true)\n",
            " |    |-- name: string (nullable = true)\n",
            " |    |-- overview: string (nullable = true)\n",
            " |    |-- production_code: string (nullable = true)\n",
            " |    |-- season_number: long (nullable = true)\n",
            " |    |-- show_id: long (nullable = true)\n",
            " |    |-- still_path: string (nullable = true)\n",
            " |    |-- vote_average: double (nullable = true)\n",
            " |    |-- vote_count: long (nullable = true)\n",
            " |-- name: string (nullable = true)\n",
            " |-- networks: array (nullable = true)\n",
            " |    |-- element: struct (containsNull = true)\n",
            " |    |    |-- id: long (nullable = true)\n",
            " |    |    |-- logo_path: string (nullable = true)\n",
            " |    |    |-- name: string (nullable = true)\n",
            " |    |    |-- origin_country: string (nullable = true)\n",
            " |-- next_episode_to_air: struct (nullable = true)\n",
            " |    |-- air_date: string (nullable = true)\n",
            " |    |-- episode_number: long (nullable = true)\n",
            " |    |-- id: long (nullable = true)\n",
            " |    |-- name: string (nullable = true)\n",
            " |    |-- overview: string (nullable = true)\n",
            " |    |-- production_code: string (nullable = true)\n",
            " |    |-- season_number: long (nullable = true)\n",
            " |    |-- show_id: long (nullable = true)\n",
            " |    |-- still_path: string (nullable = true)\n",
            " |    |-- vote_average: double (nullable = true)\n",
            " |    |-- vote_count: long (nullable = true)\n",
            " |-- number_of_episodes: long (nullable = true)\n",
            " |-- number_of_seasons: long (nullable = true)\n",
            " |-- origin_country: array (nullable = true)\n",
            " |    |-- element: string (containsNull = true)\n",
            " |-- original_language: string (nullable = true)\n",
            " |-- original_name: string (nullable = true)\n",
            " |-- overview: string (nullable = true)\n",
            " |-- popularity: double (nullable = true)\n",
            " |-- poster_path: string (nullable = true)\n",
            " |-- production_companies: array (nullable = true)\n",
            " |    |-- element: struct (containsNull = true)\n",
            " |    |    |-- id: long (nullable = true)\n",
            " |    |    |-- logo_path: string (nullable = true)\n",
            " |    |    |-- name: string (nullable = true)\n",
            " |    |    |-- origin_country: string (nullable = true)\n",
            " |-- seasons: array (nullable = true)\n",
            " |    |-- element: struct (containsNull = true)\n",
            " |    |    |-- air_date: string (nullable = true)\n",
            " |    |    |-- episode_count: long (nullable = true)\n",
            " |    |    |-- id: long (nullable = true)\n",
            " |    |    |-- name: string (nullable = true)\n",
            " |    |    |-- overview: string (nullable = true)\n",
            " |    |    |-- poster_path: string (nullable = true)\n",
            " |    |    |-- season_number: long (nullable = true)\n",
            " |-- status: string (nullable = true)\n",
            " |-- type: string (nullable = true)\n",
            " |-- vote_average: double (nullable = true)\n",
            " |-- vote_count: long (nullable = true)\n",
            "\n"
          ]
        }
      ]
    },
    {
      "cell_type": "markdown",
      "source": [
        "## Transform"
      ],
      "metadata": {
        "id": "Xa2gbBpmaRFp"
      }
    },
    {
      "cell_type": "code",
      "source": [
        "# Comparing genres between two datasets\n",
        "\n",
        "df_series_gen = df_series.select(F.explode(F.col(\"genres\"))).select(F.col(\"col.*\")) \\\n",
        "    .withColumnRenamed(\"id\", \"series_id\") \\\n",
        "    .withColumnRenamed(\"name\", \"series_genre\") \\\n",
        "    .distinct()\n",
        "df_movies_gen = df_movies.select(F.explode(F.col(\"genres\"))).select(F.col(\"col.*\")) \\\n",
        "    .withColumnRenamed(\"id\", \"movies_id\") \\\n",
        "    .withColumnRenamed(\"name\", \"movies_genre\") \\\n",
        "    .distinct()\n",
        "\n",
        "genre_comparison = df_series_gen \\\n",
        "    .join(df_movies_gen, df_series_gen.series_id == df_movies_gen.movies_id, \"left\", )\n",
        "genre_comparison.show()\n",
        "\n",
        "# from the result below it seems that the id and genres between two table are the same"
      ],
      "metadata": {
        "colab": {
          "base_uri": "https://localhost:8080/"
        },
        "id": "psGk8ChF9l7W",
        "outputId": "165a1105-1bb9-4d4f-89a8-b446a7281b80"
      },
      "execution_count": 31,
      "outputs": [
        {
          "output_type": "stream",
          "name": "stdout",
          "text": [
            "+---------+------------------+---------+---------------+\n",
            "|series_id|      series_genre|movies_id|   movies_genre|\n",
            "+---------+------------------+---------+---------------+\n",
            "|       22|           Musical|     null|           null|\n",
            "|    10759|Action & Adventure|     null|           null|\n",
            "|    10752|               War|    10752|            War|\n",
            "|    10763|              News|     null|           null|\n",
            "|       27|            Horror|       27|         Horror|\n",
            "|    10764|           Reality|     null|           null|\n",
            "|     1115|        Road Movie|     null|           null|\n",
            "|    10749|           Romance|    10749|        Romance|\n",
            "|    10751|            Family|    10751|         Family|\n",
            "|       37|           Western|       37|        Western|\n",
            "|    10767|              Talk|     null|           null|\n",
            "|       80|             Crime|       80|          Crime|\n",
            "|    10762|              Kids|     null|           null|\n",
            "|       36|           History|       36|        History|\n",
            "|       18|             Drama|       18|          Drama|\n",
            "|      878|   Science Fiction|      878|Science Fiction|\n",
            "|    10766|              Soap|     null|           null|\n",
            "|    10765|  Sci-Fi & Fantasy|     null|           null|\n",
            "|     9805|             Sport|     null|           null|\n",
            "|    10770|          TV Movie|    10770|       TV Movie|\n",
            "+---------+------------------+---------+---------------+\n",
            "only showing top 20 rows\n",
            "\n"
          ]
        }
      ]
    },
    {
      "cell_type": "code",
      "source": [
        "# decide to check futher by looking for inequality between series_genre and movies_genre\n",
        "genre_comparison.where((F.col(\"movies_id\") != None) & (F.col(\"movies_genre\") != F.col(\"series_genre\"))).show()\n",
        "\n",
        "# the result below show that between series and movies dataset the genre id are consistent,\n",
        "# hence this lead the decision to normalize genre table"
      ],
      "metadata": {
        "colab": {
          "base_uri": "https://localhost:8080/"
        },
        "id": "_Pt7s5eXB33p",
        "outputId": "82226188-0f13-4b7b-a812-580d6f24360d"
      },
      "execution_count": 32,
      "outputs": [
        {
          "output_type": "stream",
          "name": "stdout",
          "text": [
            "+---------+------------+---------+------------+\n",
            "|series_id|series_genre|movies_id|movies_genre|\n",
            "+---------+------------+---------+------------+\n",
            "+---------+------------+---------+------------+\n",
            "\n"
          ]
        }
      ]
    },
    {
      "cell_type": "code",
      "source": [
        "df_series_gen \\\n",
        "    .withColumnRenamed(\"series_genre\", \"genre\") \\\n",
        "    .withColumnRenamed(\"series_id\", \"id\") \\\n",
        "    .show(5)\n",
        "\n",
        "# the below table will be used for dimension table"
      ],
      "metadata": {
        "colab": {
          "base_uri": "https://localhost:8080/"
        },
        "id": "0900iaFXaWGa",
        "outputId": "78f95bd6-654f-41aa-a2aa-88767fda7f1c"
      },
      "execution_count": 37,
      "outputs": [
        {
          "output_type": "stream",
          "name": "stdout",
          "text": [
            "+-----+------------------+\n",
            "|   id|             genre|\n",
            "+-----+------------------+\n",
            "|10766|              Soap|\n",
            "|10759|Action & Adventure|\n",
            "|   27|            Horror|\n",
            "|  878|   Science Fiction|\n",
            "|   53|          Thriller|\n",
            "+-----+------------------+\n",
            "only showing top 5 rows\n",
            "\n"
          ]
        }
      ]
    },
    {
      "cell_type": "markdown",
      "source": [
        "Check `production_companies` uniqueness. The result shows that relation between `production_companies.id` and `production_companies.name` is consistent, because there is `id` with different `name`."
      ],
      "metadata": {
        "id": "mehzW7lwSKka"
      }
    },
    {
      "cell_type": "code",
      "source": [
        "df_movies.show()"
      ],
      "metadata": {
        "colab": {
          "base_uri": "https://localhost:8080/"
        },
        "id": "C4P8b3p298Ks",
        "outputId": "0fbc1973-4922-4212-d338-57eb89e80337"
      },
      "execution_count": 12,
      "outputs": [
        {
          "output_type": "stream",
          "name": "stdout",
          "text": [
            "+-----+--------------------+---------------------+-------+--------------------+--------------------+------+----------+-----------------+--------------------+--------------------+----------+--------------------+--------------------+--------------------+------------+--------+-------+-----------------------+--------+--------------------+--------------------+-----+------------+----------+\n",
            "|adult|       backdrop_path|belongs_to_collection| budget|              genres|            homepage|    id|   imdb_id|original_language|      original_title|            overview|popularity|         poster_path|production_companies|production_countries|release_date| revenue|runtime|       spoken_languages|  status|             tagline|               title|video|vote_average|vote_count|\n",
            "+-----+--------------------+---------------------+-------+--------------------+--------------------+------+----------+-----------------+--------------------+--------------------+----------+--------------------+--------------------+--------------------+------------+--------+-------+-----------------------+--------+--------------------+--------------------+-----+------------+----------+\n",
            "|false|                null|                 null|      0| [{99, Documentary}]|http://grantland....|328917| tt3778132|               en|          Posterized|Director Andrew J...|     0.916|/knlypdi07xEbwrPS...|[{18595, /2K8ko5V...|[{US, United Stat...|  2014-05-21|       0|     13|                     []|Released|                    |          Posterized|false|         7.5|         2|\n",
            "|false|/gfhPICLb5SSzdKob...|                 null|      0| [{99, Documentary}]|http://kingsofpas...| 57722| tt1558972|               en|     Kings of Pastry|The collar awarde...|     5.718|                null|[{24487, null, Pe...|[{US, United Stat...|  2009-11-06|       0|     87|   [{en, English}, {...|Released|16 Chefs, 3 Days,...|     Kings of Pastry|false|         6.8|        17|\n",
            "|false|                null|                 null|      0|                  []|                null|586570| tt9133336|               en|           The Words|A girl on the cus...|       0.6|/3onk7W7z1DJ9MQUI...|                  []|                  []|            |       0|     17|        [{en, English}]|Released|                    |           The Words|false|         0.0|         0|\n",
            "|false|                null|                 null|      0|    [{10402, Music}]|                    |278158|      null|               en|Fiddler's Green: ...|Recorded live at ...|       0.6|                null|                  []|     [{DE, Germany}]|  2010-08-06|       0|     40|                     []|Released|                    |Fiddler's Green: ...|false|         0.0|         0|\n",
            "|false|                null|                 null|      0|                  []|                null|653650|      null|               en|      orange factory|orange factory tr...|       0.6|/e3RHG7VRxuS3zCjf...|                  []|                  []|            |       0|     11|                     []|Released|                    |      orange factory|false|         0.0|         0|\n",
            "|false|                null|                 null|    850|       [{18, Drama}]|http://acediashor...|526605| tt8463892|               es|              Acedia|'Acedia' tells th...|       0.6|/tDOPgQOrApdv8upa...|[{91647, null, CI...|       [{ES, Spain}]|  2018-05-18|       0|     23|                     []|Released|                    |              Acedia|false|         0.0|         0|\n",
            "|false|                null|                 null|      0| [{99, Documentary}]|                    |243665| tt1583950|               en|A Family Is a Fam...|What is a family?...|     1.532|                null|                  []|[{US, United Stat...|  2010-01-31|       0|     41|        [{en, English}]|Released|                    |A Family Is a Fam...|false|         5.0|         3|\n",
            "|false|                null|                 null|      0|                  []|                    |593603|      null|               xx|Ulrich Gregor and...|                    |       0.6|                null|                  []|     [{AT, Austria}]|  2011-03-28|       0|      0|                     []|Released|                    |Ulrich Gregor and...|false|         0.0|         0|\n",
            "|false|/fZ8oFcREAr6wgWcX...|                 null|3500000|[{35, Comedy}, {1...|http://filminfocu...| 39781| tt0842926|               en|The Kids Are All ...|Two women, Nic an...|    10.241|/xQ5XqZc82dDCcGjx...|[{10146, /xnFIOeq...|[{US, United Stat...|  2010-07-09|34705850|    106|        [{en, English}]|Released|Nic and Jules had...|The Kids Are All ...|false|         6.6|       995|\n",
            "|false|/tMPl4HSk5MycRKpw...| {/gDDyylnEQUC9Bw0...|      0|    [{10402, Music}]|                null|646516|      null|               en|Death ...is just ...|                    |       0.6|/bzqqmUIxrxIZWsB5...|[{5796, null, Nuc...|      [{RU, Russia}]|  2002-01-01|       0|   null|        [{en, English}]|Released|                    |Death ...is just ...| true|         0.0|         0|\n",
            "|false|                null|                 null|      0|       [{18, Drama}]|                    |434073| tt6405384|               en|          大手牽小手|Told from Nin’s p...|     0.809|/aeNlnGYbEUdqy5sz...|                  []|[{MY, Malaysia}, ...|  2016-11-24|       0|    120|[{cn, 广州话 / 廣州話}]|Released|                    |   Show Me Your Love|false|        10.0|         1|\n",
            "|false|                null|                 null|      0| [{99, Documentary}]|http://www.bbc.co...|387521| tt5845388|               en|Pompeii: New Secr...|With unparalleled...|     0.601|/dqptzVsmYVnW73aL...|                  []|                  []|  2016-05-01|       0|     60|        [{en, English}]|Released|                    |Pompeii: New Secr...| true|         0.0|         0|\n",
            "|false|                null|                 null|      0|       [{18, Drama}]|                    |547732|      null|               ja|      ママが生きた証|After years of tr...|     1.097|                null|[{9300, /9sSD1Xuf...|       [{JP, Japan}]|  2014-07-05|       0|      0|         [{ja, 日本語}]|Released|                    |     Memories of Mom|false|         0.0|         0|\n",
            "|false|                null|                 null|      0|                  []|                    |669162|      null|               en|     Votez pour moi!|Since 2018, the M...|       0.6|                null|                  []|                  []|  2019-07-11|       0|      4|                     []|Released|                    |     Votez pour moi!|false|         0.0|         0|\n",
            "|false|/5eW7GiL6xrSBVbdi...|                 null|      0| [{99, Documentary}]|                    |541762|tt10510734|               ru|         Смерть меня|Alexander V. Men ...|       0.6|/gj0zRGX4tY1y5xQr...|                  []|      [{RU, Russia}]|  2018-03-01|       0|     13|    [{xx, No Language}]|Released|                    |The Death of Fath...|false|         1.0|         1|\n",
            "|false|                null|                 null|      0|                  []|                    |505283|      null|               ko|           사촌 누나|                    |       0.6|/2I05riVnrH0IHxIv...|                  []|                  []|  2019-06-03|       0|      0|  [{ko, 한국어/조선말}]|Released|                    |           사촌 누나|false|         0.0|         0|\n",
            "|false|                null|                 null|      0|                  []|                    |720502|      null|               en|Shed Seven T In T...|Shed Seven belt o...|       0.6|/iI9czlcnWWBZAVLE...|                  []|                  []|            |       0|     60|                     []|Released|                    |Shed Seven T In T...|false|         0.0|         0|\n",
            "|false|/j12l4dvquCkDkwDd...|                 null|      0| [{99, Documentary}]|                    |566236| tt9358228|               en|         Untouchable|The inside story ...|     9.563|/m0KYyVtMASYFFF9v...|[{117747, null, M...|[{GB, United King...|  2019-06-20|       0|     98|        [{en, English}]|Released|Hear the voices t...|         Untouchable|false|         6.4|        32|\n",
            "|false|                null|                 null|      0|[{28, Action}, {1...|                    | 79513| tt0055323|               it|Le prigioniere de...|Italian costume d...|     1.915|/9cxZqvX5W7eoyDH9...|[{13234, null, Le...|[{FR, France}, {I...|  1962-07-27|       0|     86|       [{it, Italiano}]|Released|                    |Women of Devil's ...|false|         4.5|         4|\n",
            "|false|                null|                 null|      0|[{28, Action}, {5...|                    |107353| tt0064148|               en|        The Chairman|An American scien...|     1.072|/nsu5483cTZBJ6oF5...|[{12943, null, AP...|[{GB, United King...|  1969-06-25|       0|     93|[{zh, 普通话}, {en, ...|Released|If the Red Chines...|        The Chairman|false|         5.5|         2|\n",
            "+-----+--------------------+---------------------+-------+--------------------+--------------------+------+----------+-----------------+--------------------+--------------------+----------+--------------------+--------------------+--------------------+------------+--------+-------+-----------------------+--------+--------------------+--------------------+-----+------------+----------+\n",
            "only showing top 20 rows\n",
            "\n"
          ]
        }
      ]
    },
    {
      "cell_type": "code",
      "source": [
        "def explode_array_column(dataframe: DataFrame, column: str, new_column: str):\n",
        "    return dataframe.select(F.col(column)) \\\n",
        "        .where(F.size(F.col(column)) > 0 ) \\\n",
        "        .withColumn(new_column, F.explode(F.col(column))) \\\n",
        "        .select(F.col(new_column)) \\\n",
        "        \n",
        "\n",
        "\n",
        "def check_array_struct_uniqueness(dataframe: DataFrame, column: str, id_key: str):\n",
        "    explode_array_column(dataframe, column, \"temp\") \\\n",
        "        .select(F.col(f\"temp.*\")) \\\n",
        "        .distinct() \\\n",
        "        .groupBy(id_key).count() \\\n",
        "        .where(F.col(\"count\") > 1) \\\n",
        "        .show()"
      ],
      "metadata": {
        "id": "ZXrslSsiTZX5"
      },
      "execution_count": null,
      "outputs": []
    },
    {
      "cell_type": "code",
      "source": [
        "check_array_struct_uniqueness(df_movies, \"production_companies\", \"id\")\n",
        "check_array_struct_uniqueness(df_movies, \"genres\", \"id\")\n",
        "check_array_struct_uniqueness(df_movies, \"spoken_languages\", \"iso_639_1\")\n",
        "check_array_struct_uniqueness(df_movies, \"production_countries\", \"iso_3166_1\")"
      ],
      "metadata": {
        "colab": {
          "base_uri": "https://localhost:8080/"
        },
        "id": "sllFvvcyUskC",
        "outputId": "2ad28ca1-5d47-49d9-f350-1f16c107831a"
      },
      "execution_count": null,
      "outputs": [
        {
          "output_type": "stream",
          "name": "stdout",
          "text": [
            "+----+-----+\n",
            "|  id|count|\n",
            "+----+-----+\n",
            "| 215|    2|\n",
            "|6689|    2|\n",
            "+----+-----+\n",
            "\n",
            "+---+-----+\n",
            "| id|count|\n",
            "+---+-----+\n",
            "+---+-----+\n",
            "\n",
            "+---------+-----+\n",
            "|iso_639_1|count|\n",
            "+---------+-----+\n",
            "+---------+-----+\n",
            "\n",
            "+----------+-----+\n",
            "|iso_3166_1|count|\n",
            "+----------+-----+\n",
            "+----------+-----+\n",
            "\n"
          ]
        }
      ]
    },
    {
      "cell_type": "code",
      "source": [
        "explode_array_column(df_movies, \"production_companies\", \"companies\") \\\n",
        "    .select(\"companies.*\").where(F.col(\"id\") == 6689).show()"
      ],
      "metadata": {
        "colab": {
          "base_uri": "https://localhost:8080/"
        },
        "id": "OjSJQoGzXufn",
        "outputId": "c2076825-93fb-4afc-ede1-2bd763974222"
      },
      "execution_count": null,
      "outputs": [
        {
          "output_type": "stream",
          "name": "stdout",
          "text": [
            "+----+--------------------+-----+--------------+\n",
            "|  id|           logo_path| name|origin_country|\n",
            "+----+--------------------+-----+--------------+\n",
            "|6689|/i6J2W84TzUf59PdM...|SHAFT|            JP|\n",
            "|6689|/i6J2W84TzUf59PdM...|SHAFT|            JP|\n",
            "|6689|/vaKMJDLIZCeqhGC5...|SHAFT|            JP|\n",
            "|6689|/i6J2W84TzUf59PdM...|SHAFT|            JP|\n",
            "|6689|/i6J2W84TzUf59PdM...|SHAFT|            JP|\n",
            "|6689|/i6J2W84TzUf59PdM...|SHAFT|            JP|\n",
            "|6689|/i6J2W84TzUf59PdM...|SHAFT|            JP|\n",
            "|6689|/i6J2W84TzUf59PdM...|SHAFT|            JP|\n",
            "|6689|/vaKMJDLIZCeqhGC5...|SHAFT|            JP|\n",
            "|6689|/vaKMJDLIZCeqhGC5...|SHAFT|            JP|\n",
            "|6689|/i6J2W84TzUf59PdM...|SHAFT|            JP|\n",
            "|6689|/i6J2W84TzUf59PdM...|SHAFT|            JP|\n",
            "|6689|/i6J2W84TzUf59PdM...|SHAFT|            JP|\n",
            "|6689|/i6J2W84TzUf59PdM...|SHAFT|            JP|\n",
            "|6689|/i6J2W84TzUf59PdM...|SHAFT|            JP|\n",
            "|6689|/vaKMJDLIZCeqhGC5...|SHAFT|            JP|\n",
            "|6689|/i6J2W84TzUf59PdM...|SHAFT|            JP|\n",
            "|6689|/i6J2W84TzUf59PdM...|SHAFT|            JP|\n",
            "|6689|/vaKMJDLIZCeqhGC5...|SHAFT|            JP|\n",
            "|6689|/vaKMJDLIZCeqhGC5...|SHAFT|            JP|\n",
            "+----+--------------------+-----+--------------+\n",
            "only showing top 20 rows\n",
            "\n"
          ]
        }
      ]
    },
    {
      "cell_type": "code",
      "source": [
        "df_movies.write.parquet(\"./movies.parquet\")"
      ],
      "metadata": {
        "id": "NOkwb_R3m5jF"
      },
      "execution_count": 38,
      "outputs": []
    },
    {
      "cell_type": "code",
      "source": [
        "!gcloud auth login"
      ],
      "metadata": {
        "colab": {
          "base_uri": "https://localhost:8080/"
        },
        "id": "mUXzZV6QnlEk",
        "outputId": "deb06fda-a70f-458d-af56-0785e88020e8"
      },
      "execution_count": 39,
      "outputs": [
        {
          "output_type": "stream",
          "name": "stdout",
          "text": [
            "Go to the following link in your browser:\n",
            "\n",
            "    https://accounts.google.com/o/oauth2/auth?response_type=code&client_id=32555940559.apps.googleusercontent.com&redirect_uri=urn%3Aietf%3Awg%3Aoauth%3A2.0%3Aoob&scope=openid+https%3A%2F%2Fwww.googleapis.com%2Fauth%2Fuserinfo.email+https%3A%2F%2Fwww.googleapis.com%2Fauth%2Fcloud-platform+https%3A%2F%2Fwww.googleapis.com%2Fauth%2Fappengine.admin+https%3A%2F%2Fwww.googleapis.com%2Fauth%2Fcompute+https%3A%2F%2Fwww.googleapis.com%2Fauth%2Faccounts.reauth&state=4Tbew4LMS0L3dkpjqYrIjjWYCLVBQQ&prompt=consent&access_type=offline&code_challenge=c3f2wKUyJK1GdLANq2XODdOsKCTldS5K05RLPYPNZXQ&code_challenge_method=S256\n",
            "\n",
            "Enter verification code: 4/1AX4XfWhhfNtJr-J3TI6gYQMA-WYXNplsSCNm58EIrsTGx0mAJU5eT1-d5hc\n",
            "\n",
            "You are now logged in as [afahmi13@gmail.com].\n",
            "Your current project is [None].  You can change this setting by running:\n",
            "  $ gcloud config set project PROJECT_ID\n"
          ]
        }
      ]
    },
    {
      "cell_type": "code",
      "source": [
        "!gsutil -m cp -r ./movies.parquet gs://de-porto/qoala"
      ],
      "metadata": {
        "colab": {
          "base_uri": "https://localhost:8080/"
        },
        "id": "xgJdPdNqnnI8",
        "outputId": "d3660d25-6fa4-43e1-fabd-52d3c576fd45"
      },
      "execution_count": 42,
      "outputs": [
        {
          "output_type": "stream",
          "name": "stdout",
          "text": [
            "Copying file://./movies.parquet/.part-00002-c0f48c51-29e2-4949-92fb-1f353658cae7-c000.snappy.parquet.crc [Content-Type=application/octet-stream]...\n",
            "Copying file://./movies.parquet/part-00000-c0f48c51-29e2-4949-92fb-1f353658cae7-c000.snappy.parquet [Content-Type=application/octet-stream]...\n",
            "/ [0/10 files][    0.0 B/142.0 MiB]   0% Done                                   \r/ [0/10 files][    0.0 B/142.0 MiB]   0% Done                                   \rCopying file://./movies.parquet/.part-00001-c0f48c51-29e2-4949-92fb-1f353658cae7-c000.snappy.parquet.crc [Content-Type=application/octet-stream]...\n",
            "/ [0/10 files][    0.0 B/142.0 MiB]   0% Done                                   \rCopying file://./movies.parquet/_SUCCESS [Content-Type=application/octet-stream]...\n",
            "Copying file://./movies.parquet/.part-00000-c0f48c51-29e2-4949-92fb-1f353658cae7-c000.snappy.parquet.crc [Content-Type=application/octet-stream]...\n",
            "/ [0/10 files][    0.0 B/142.0 MiB]   0% Done                                   \rCopying file://./movies.parquet/.part-00003-c0f48c51-29e2-4949-92fb-1f353658cae7-c000.snappy.parquet.crc [Content-Type=application/octet-stream]...\n",
            "/ [0/10 files][    0.0 B/142.0 MiB]   0% Done                                   \r/ [0/10 files][    0.0 B/142.0 MiB]   0% Done                                   \rCopying file://./movies.parquet/part-00001-c0f48c51-29e2-4949-92fb-1f353658cae7-c000.snappy.parquet [Content-Type=application/octet-stream]...\n",
            "/ [0/10 files][    0.0 B/142.0 MiB]   0% Done                                   \rCopying file://./movies.parquet/part-00003-c0f48c51-29e2-4949-92fb-1f353658cae7-c000.snappy.parquet [Content-Type=application/octet-stream]...\n",
            "/ [0/10 files][    0.0 B/142.0 MiB]   0% Done                                   \rCopying file://./movies.parquet/._SUCCESS.crc [Content-Type=application/octet-stream]...\n",
            "Copying file://./movies.parquet/part-00002-c0f48c51-29e2-4949-92fb-1f353658cae7-c000.snappy.parquet [Content-Type=application/octet-stream]...\n",
            "|\n",
            "Operation completed over 10 objects/142.0 MiB.                                   \n"
          ]
        }
      ]
    },
    {
      "cell_type": "markdown",
      "source": [
        "### Join files to singe file"
      ],
      "metadata": {
        "id": "ufpVtE0j71HS"
      }
    },
    {
      "cell_type": "code",
      "source": [
        "from os import listdir\n",
        "from os.path import isfile, join\n",
        "import json"
      ],
      "metadata": {
        "id": "eQk3A-xH70Sw"
      },
      "execution_count": null,
      "outputs": []
    },
    {
      "cell_type": "code",
      "source": [
        "series_path=\"/content/series/series\"\n",
        "series_files = [f for f in listdir(series_path) if isfile(join(series_path, f))]"
      ],
      "metadata": {
        "id": "gmcxQ_1P8Hcm"
      },
      "execution_count": null,
      "outputs": []
    },
    {
      "cell_type": "code",
      "source": [
        "join_series_file=open(\"/content/series_joined.json\", \"a+\")\n",
        "for series_file in series_files:\n",
        "    with open(join(series_path, series_file)) as sf:\n",
        "        payload = sf.read()\n",
        "        join_series_file.write(payload+'\\n')\n",
        "join_series_file.close()"
      ],
      "metadata": {
        "id": "4LqEzJiz8S8d"
      },
      "execution_count": null,
      "outputs": []
    },
    {
      "cell_type": "code",
      "source": [
        "movies_path=\"/content/movies/movies\"\n",
        "movies_files = [f for f in listdir(movies_path) if isfile(join(movies_path, f))]"
      ],
      "metadata": {
        "id": "Au1AAitZ-W3h"
      },
      "execution_count": null,
      "outputs": []
    },
    {
      "cell_type": "code",
      "source": [
        "join_movies_file=open(\"/content/movies_joined.json\", \"a+\")\n",
        "for movies_file in movies_files:\n",
        "    with open(join(movies_path, movies_file)) as sf:\n",
        "        payload = sf.read()\n",
        "        join_movies_file.write(payload+'\\n')\n",
        "join_movies_file.close()"
      ],
      "metadata": {
        "id": "5_Q6sPkJ-mac"
      },
      "execution_count": null,
      "outputs": []
    },
    {
      "cell_type": "code",
      "source": [
        "!cp /content/movies_joined.json /content/drive/MyDrive/datasets/tmdb/\n",
        "!cp /content/series_joined.json /content/drive/MyDrive/datasets/tmdb/"
      ],
      "metadata": {
        "id": "gqM-8fIh_GAV"
      },
      "execution_count": null,
      "outputs": []
    },
    {
      "cell_type": "code",
      "source": [
        "!ls -l /content"
      ],
      "metadata": {
        "colab": {
          "base_uri": "https://localhost:8080/"
        },
        "id": "mlMiN_5O_-VE",
        "outputId": "ca57f89b-da39-4970-9d43-d8f67afad85e"
      },
      "execution_count": null,
      "outputs": [
        {
          "output_type": "stream",
          "name": "stdout",
          "text": [
            "total 594384\n",
            "drwx------ 5 root root      4096 Feb 10 07:18 drive\n",
            "drwxr-xr-x 3 root root      4096 Feb 10 07:38 movies\n",
            "-rw-r--r-- 1 root root 475254159 Feb 10 09:38 movies_joined.json\n",
            "drwxr-xr-x 1 root root      4096 Feb  1 14:32 sample_data\n",
            "drwxr-xr-x 3 root root      4096 Feb 10 07:40 series\n",
            "-rw-r--r-- 1 root root 133373315 Feb 10 09:32 series_joined.json\n"
          ]
        }
      ]
    },
    {
      "cell_type": "code",
      "source": [
        "!gcloud auth login"
      ],
      "metadata": {
        "colab": {
          "base_uri": "https://localhost:8080/"
        },
        "id": "JIsP13OiEyLy",
        "outputId": "4269a285-c136-4419-e828-80f4bb9576fb"
      },
      "execution_count": null,
      "outputs": [
        {
          "output_type": "stream",
          "name": "stdout",
          "text": [
            "Go to the following link in your browser:\n",
            "\n",
            "    https://accounts.google.com/o/oauth2/auth?response_type=code&client_id=32555940559.apps.googleusercontent.com&redirect_uri=urn%3Aietf%3Awg%3Aoauth%3A2.0%3Aoob&scope=openid+https%3A%2F%2Fwww.googleapis.com%2Fauth%2Fuserinfo.email+https%3A%2F%2Fwww.googleapis.com%2Fauth%2Fcloud-platform+https%3A%2F%2Fwww.googleapis.com%2Fauth%2Fappengine.admin+https%3A%2F%2Fwww.googleapis.com%2Fauth%2Fcompute+https%3A%2F%2Fwww.googleapis.com%2Fauth%2Faccounts.reauth&state=oI9FufrvgWrWQTQR0EoT05d98K6H5g&prompt=consent&access_type=offline&code_challenge=1hheCwrBwkB2CuyrgqMsR_gyJ2Nr0DoakmJ5GDlLx04&code_challenge_method=S256\n",
            "\n",
            "Enter verification code: 4/1AX4XfWjKdS2_A24yIYy5Xa3MsNI-a2FOhEHoeZ4pacruHlzHnt0OaZf9vjM\n",
            "\n",
            "You are now logged in as [afahmi13@gmail.com].\n",
            "Your current project is [None].  You can change this setting by running:\n",
            "  $ gcloud config set project PROJECT_ID\n"
          ]
        }
      ]
    },
    {
      "cell_type": "code",
      "source": [
        "!gsutil cp /content/movies_joined.json gs://de-porto/qoala/raw_data"
      ],
      "metadata": {
        "colab": {
          "base_uri": "https://localhost:8080/"
        },
        "id": "IcNveO2hEb_E",
        "outputId": "e1e3982b-2b05-488a-c9bc-6ccb7230b389"
      },
      "execution_count": null,
      "outputs": [
        {
          "output_type": "stream",
          "name": "stdout",
          "text": [
            "Copying file:///content/movies_joined.json [Content-Type=application/json]...\n",
            "/ [0 files][    0.0 B/453.2 MiB]                                                \r==> NOTE: You are uploading one or more large file(s), which would run\n",
            "significantly faster if you enable parallel composite uploads. This\n",
            "feature can be enabled by editing the\n",
            "\"parallel_composite_upload_threshold\" value in your .boto\n",
            "configuration file. However, note that if you do this large files will\n",
            "be uploaded as `composite objects\n",
            "<https://cloud.google.com/storage/docs/composite-objects>`_,which\n",
            "means that any user who downloads such objects will need to have a\n",
            "compiled crcmod installed (see \"gsutil help crcmod\"). This is because\n",
            "without a compiled crcmod, computing checksums on composite objects is\n",
            "so slow that gsutil disables downloads of composite objects.\n",
            "\n",
            "-\n",
            "Operation completed over 1 objects/453.2 MiB.                                    \n"
          ]
        }
      ]
    },
    {
      "cell_type": "code",
      "source": [
        "!gsutil cp /content/series_joined.json gs://de-porto/qoala/raw_data"
      ],
      "metadata": {
        "colab": {
          "base_uri": "https://localhost:8080/"
        },
        "id": "TR95HTqIFA2G",
        "outputId": "801429e0-16d1-4b61-ee01-ee2cf3417ad1"
      },
      "execution_count": null,
      "outputs": [
        {
          "output_type": "stream",
          "name": "stdout",
          "text": [
            "Copying file:///content/series_joined.json [Content-Type=application/json]...\n",
            "/\n",
            "Operation completed over 1 objects/127.2 MiB.                                    \n"
          ]
        }
      ]
    },
    {
      "cell_type": "code",
      "source": [
        "from google.colab import drive\n",
        "drive.mount('/content/drive', force_remount=True)"
      ],
      "metadata": {
        "colab": {
          "base_uri": "https://localhost:8080/",
          "height": 624
        },
        "id": "MshH4ltYjeqy",
        "outputId": "68264b2e-d051-4191-ca97-69eeb54ba8aa"
      },
      "execution_count": null,
      "outputs": [
        {
          "output_type": "error",
          "ename": "TIMEOUT",
          "evalue": "ignored",
          "traceback": [
            "\u001b[0;31m---------------------------------------------------------------------------\u001b[0m",
            "\u001b[0;31mTIMEOUT\u001b[0m                                   Traceback (most recent call last)",
            "\u001b[0;32m<ipython-input-51-a145c0899d7d>\u001b[0m in \u001b[0;36m<module>\u001b[0;34m()\u001b[0m\n\u001b[1;32m      1\u001b[0m \u001b[0;32mfrom\u001b[0m \u001b[0mgoogle\u001b[0m\u001b[0;34m.\u001b[0m\u001b[0mcolab\u001b[0m \u001b[0;32mimport\u001b[0m \u001b[0mdrive\u001b[0m\u001b[0;34m\u001b[0m\u001b[0;34m\u001b[0m\u001b[0m\n\u001b[0;32m----> 2\u001b[0;31m \u001b[0mdrive\u001b[0m\u001b[0;34m.\u001b[0m\u001b[0mmount\u001b[0m\u001b[0;34m(\u001b[0m\u001b[0;34m'/content/drive'\u001b[0m\u001b[0;34m,\u001b[0m \u001b[0mforce_remount\u001b[0m\u001b[0;34m=\u001b[0m\u001b[0;32mTrue\u001b[0m\u001b[0;34m)\u001b[0m\u001b[0;34m\u001b[0m\u001b[0;34m\u001b[0m\u001b[0m\n\u001b[0m",
            "\u001b[0;32m/usr/local/lib/python3.7/dist-packages/google/colab/drive.py\u001b[0m in \u001b[0;36mmount\u001b[0;34m(mountpoint, force_remount, timeout_ms, use_metadata_server)\u001b[0m\n\u001b[1;32m    111\u001b[0m       \u001b[0mtimeout_ms\u001b[0m\u001b[0;34m=\u001b[0m\u001b[0mtimeout_ms\u001b[0m\u001b[0;34m,\u001b[0m\u001b[0;34m\u001b[0m\u001b[0;34m\u001b[0m\u001b[0m\n\u001b[1;32m    112\u001b[0m       \u001b[0muse_metadata_server\u001b[0m\u001b[0;34m=\u001b[0m\u001b[0muse_metadata_server\u001b[0m\u001b[0;34m,\u001b[0m\u001b[0;34m\u001b[0m\u001b[0;34m\u001b[0m\u001b[0m\n\u001b[0;32m--> 113\u001b[0;31m       ephemeral=ephemeral)\n\u001b[0m\u001b[1;32m    114\u001b[0m \u001b[0;34m\u001b[0m\u001b[0m\n\u001b[1;32m    115\u001b[0m \u001b[0;34m\u001b[0m\u001b[0m\n",
            "\u001b[0;32m/usr/local/lib/python3.7/dist-packages/google/colab/drive.py\u001b[0m in \u001b[0;36m_mount\u001b[0;34m(mountpoint, force_remount, timeout_ms, use_metadata_server, ephemeral)\u001b[0m\n\u001b[1;32m    272\u001b[0m         \u001b[0mdrive_exited\u001b[0m\u001b[0;34m,\u001b[0m\u001b[0;34m\u001b[0m\u001b[0;34m\u001b[0m\u001b[0m\n\u001b[1;32m    273\u001b[0m         \u001b[0moauth_failed\u001b[0m\u001b[0;34m,\u001b[0m\u001b[0;34m\u001b[0m\u001b[0;34m\u001b[0m\u001b[0m\n\u001b[0;32m--> 274\u001b[0;31m         \u001b[0mdomain_disabled_drivefs\u001b[0m\u001b[0;34m,\u001b[0m\u001b[0;34m\u001b[0m\u001b[0;34m\u001b[0m\u001b[0m\n\u001b[0m\u001b[1;32m    275\u001b[0m     ])\n\u001b[1;32m    276\u001b[0m     \u001b[0;32mif\u001b[0m \u001b[0mcase\u001b[0m \u001b[0;34m==\u001b[0m \u001b[0;36m0\u001b[0m\u001b[0;34m:\u001b[0m\u001b[0;34m\u001b[0m\u001b[0;34m\u001b[0m\u001b[0m\n",
            "\u001b[0;32m/usr/local/lib/python3.7/dist-packages/pexpect/spawnbase.py\u001b[0m in \u001b[0;36mexpect\u001b[0;34m(self, pattern, timeout, searchwindowsize, async_, **kw)\u001b[0m\n\u001b[1;32m    342\u001b[0m         \u001b[0mcompiled_pattern_list\u001b[0m \u001b[0;34m=\u001b[0m \u001b[0mself\u001b[0m\u001b[0;34m.\u001b[0m\u001b[0mcompile_pattern_list\u001b[0m\u001b[0;34m(\u001b[0m\u001b[0mpattern\u001b[0m\u001b[0;34m)\u001b[0m\u001b[0;34m\u001b[0m\u001b[0;34m\u001b[0m\u001b[0m\n\u001b[1;32m    343\u001b[0m         return self.expect_list(compiled_pattern_list,\n\u001b[0;32m--> 344\u001b[0;31m                 timeout, searchwindowsize, async_)\n\u001b[0m\u001b[1;32m    345\u001b[0m \u001b[0;34m\u001b[0m\u001b[0m\n\u001b[1;32m    346\u001b[0m     def expect_list(self, pattern_list, timeout=-1, searchwindowsize=-1,\n",
            "\u001b[0;32m/usr/local/lib/python3.7/dist-packages/pexpect/spawnbase.py\u001b[0m in \u001b[0;36mexpect_list\u001b[0;34m(self, pattern_list, timeout, searchwindowsize, async_, **kw)\u001b[0m\n\u001b[1;32m    370\u001b[0m             \u001b[0;32mreturn\u001b[0m \u001b[0mexpect_async\u001b[0m\u001b[0;34m(\u001b[0m\u001b[0mexp\u001b[0m\u001b[0;34m,\u001b[0m \u001b[0mtimeout\u001b[0m\u001b[0;34m)\u001b[0m\u001b[0;34m\u001b[0m\u001b[0;34m\u001b[0m\u001b[0m\n\u001b[1;32m    371\u001b[0m         \u001b[0;32melse\u001b[0m\u001b[0;34m:\u001b[0m\u001b[0;34m\u001b[0m\u001b[0;34m\u001b[0m\u001b[0m\n\u001b[0;32m--> 372\u001b[0;31m             \u001b[0;32mreturn\u001b[0m \u001b[0mexp\u001b[0m\u001b[0;34m.\u001b[0m\u001b[0mexpect_loop\u001b[0m\u001b[0;34m(\u001b[0m\u001b[0mtimeout\u001b[0m\u001b[0;34m)\u001b[0m\u001b[0;34m\u001b[0m\u001b[0;34m\u001b[0m\u001b[0m\n\u001b[0m\u001b[1;32m    373\u001b[0m \u001b[0;34m\u001b[0m\u001b[0m\n\u001b[1;32m    374\u001b[0m     def expect_exact(self, pattern_list, timeout=-1, searchwindowsize=-1,\n",
            "\u001b[0;32m/usr/local/lib/python3.7/dist-packages/pexpect/expect.py\u001b[0m in \u001b[0;36mexpect_loop\u001b[0;34m(self, timeout)\u001b[0m\n\u001b[1;32m    179\u001b[0m             \u001b[0;32mreturn\u001b[0m \u001b[0mself\u001b[0m\u001b[0;34m.\u001b[0m\u001b[0meof\u001b[0m\u001b[0;34m(\u001b[0m\u001b[0me\u001b[0m\u001b[0;34m)\u001b[0m\u001b[0;34m\u001b[0m\u001b[0;34m\u001b[0m\u001b[0m\n\u001b[1;32m    180\u001b[0m         \u001b[0;32mexcept\u001b[0m \u001b[0mTIMEOUT\u001b[0m \u001b[0;32mas\u001b[0m \u001b[0me\u001b[0m\u001b[0;34m:\u001b[0m\u001b[0;34m\u001b[0m\u001b[0;34m\u001b[0m\u001b[0m\n\u001b[0;32m--> 181\u001b[0;31m             \u001b[0;32mreturn\u001b[0m \u001b[0mself\u001b[0m\u001b[0;34m.\u001b[0m\u001b[0mtimeout\u001b[0m\u001b[0;34m(\u001b[0m\u001b[0me\u001b[0m\u001b[0;34m)\u001b[0m\u001b[0;34m\u001b[0m\u001b[0;34m\u001b[0m\u001b[0m\n\u001b[0m\u001b[1;32m    182\u001b[0m         \u001b[0;32mexcept\u001b[0m\u001b[0;34m:\u001b[0m\u001b[0;34m\u001b[0m\u001b[0;34m\u001b[0m\u001b[0m\n\u001b[1;32m    183\u001b[0m             \u001b[0mself\u001b[0m\u001b[0;34m.\u001b[0m\u001b[0merrored\u001b[0m\u001b[0;34m(\u001b[0m\u001b[0;34m)\u001b[0m\u001b[0;34m\u001b[0m\u001b[0;34m\u001b[0m\u001b[0m\n",
            "\u001b[0;32m/usr/local/lib/python3.7/dist-packages/pexpect/expect.py\u001b[0m in \u001b[0;36mtimeout\u001b[0;34m(self, err)\u001b[0m\n\u001b[1;32m    142\u001b[0m             \u001b[0mexc\u001b[0m \u001b[0;34m=\u001b[0m \u001b[0mTIMEOUT\u001b[0m\u001b[0;34m(\u001b[0m\u001b[0mmsg\u001b[0m\u001b[0;34m)\u001b[0m\u001b[0;34m\u001b[0m\u001b[0;34m\u001b[0m\u001b[0m\n\u001b[1;32m    143\u001b[0m             \u001b[0mexc\u001b[0m\u001b[0;34m.\u001b[0m\u001b[0m__cause__\u001b[0m \u001b[0;34m=\u001b[0m \u001b[0;32mNone\u001b[0m    \u001b[0;31m# in Python 3.x we can use \"raise exc from None\"\u001b[0m\u001b[0;34m\u001b[0m\u001b[0;34m\u001b[0m\u001b[0m\n\u001b[0;32m--> 144\u001b[0;31m             \u001b[0;32mraise\u001b[0m \u001b[0mexc\u001b[0m\u001b[0;34m\u001b[0m\u001b[0;34m\u001b[0m\u001b[0m\n\u001b[0m\u001b[1;32m    145\u001b[0m \u001b[0;34m\u001b[0m\u001b[0m\n\u001b[1;32m    146\u001b[0m     \u001b[0;32mdef\u001b[0m \u001b[0merrored\u001b[0m\u001b[0;34m(\u001b[0m\u001b[0mself\u001b[0m\u001b[0;34m)\u001b[0m\u001b[0;34m:\u001b[0m\u001b[0;34m\u001b[0m\u001b[0;34m\u001b[0m\u001b[0m\n",
            "\u001b[0;31mTIMEOUT\u001b[0m: <pexpect.popen_spawn.PopenSpawn object at 0x7f8fc63a8d90>\nsearcher: searcher_re:\n    0: re.compile('google.colab.drive MOUNTED')\n    1: re.compile('root@575cf2e9cb10-83ce35f8426248dc9bda0b764b3701cb: ')\n    2: re.compile('(Go to this URL in a browser: https://.*)$')\n    3: re.compile('Drive File Stream encountered a problem and has stopped')\n    4: re.compile('drive EXITED')\n    5: re.compile('Authorization failed')\n    6: re.compile('The domain policy has disabled Drive File Stream')\n<pexpect.popen_spawn.PopenSpawn object at 0x7f8fc63a8d90>\nsearcher: searcher_re:\n    0: re.compile('google.colab.drive MOUNTED')\n    1: re.compile('root@575cf2e9cb10-83ce35f8426248dc9bda0b764b3701cb: ')\n    2: re.compile('(Go to this URL in a browser: https://.*)$')\n    3: re.compile('Drive File Stream encountered a problem and has stopped')\n    4: re.compile('drive EXITED')\n    5: re.compile('Authorization failed')\n    6: re.compile('The domain policy has disabled Drive File Stream')"
          ]
        }
      ]
    },
    {
      "cell_type": "code",
      "source": [
        "from pyspark.sql import SparkSession\n",
        "from pyspark.sql.types import StructType, StructField, IntegerType, StringType, DateType, FloatType, TimestampType"
      ],
      "metadata": {
        "id": "iM3S9pawgq_8"
      },
      "execution_count": null,
      "outputs": []
    },
    {
      "cell_type": "code",
      "source": [
        "spark = SparkSession.builder.appName(\"relearn\") \\\n",
        "    .config(\"spark.driver.maxResultSize\", \"4g\") \\\n",
        "    .getOrCreate()"
      ],
      "metadata": {
        "id": "_RviHweujCcN"
      },
      "execution_count": null,
      "outputs": []
    },
    {
      "cell_type": "code",
      "source": [
        "df_eq = spark.read.parquet(\"/content/drive/MyDrive/datasets/relearn_spark/equipment.parquet\")"
      ],
      "metadata": {
        "id": "siXu69Nfk3JA"
      },
      "execution_count": null,
      "outputs": []
    },
    {
      "cell_type": "code",
      "source": [
        "df_eq.show(5)"
      ],
      "metadata": {
        "colab": {
          "base_uri": "https://localhost:8080/"
        },
        "id": "MDuc5_2MlNEd",
        "outputId": "fe40d87a-71fe-4051-9728-0115a6d11477"
      },
      "execution_count": null,
      "outputs": [
        {
          "output_type": "stream",
          "name": "stdout",
          "text": [
            "+---+---------+-----------+----+\n",
            "| id|     type|      brand|year|\n",
            "+---+---------+-----------+----+\n",
            "|  2|Bulldozer|       Sany|2016|\n",
            "|  4|Bulldozer|      Volvo|2019|\n",
            "|  1|Bulldozer|    Komatsu|2018|\n",
            "|  5|Bulldozer|    Komatsu|2019|\n",
            "|  3|Bulldozer|Caterpillar|2018|\n",
            "+---+---------+-----------+----+\n",
            "only showing top 5 rows\n",
            "\n"
          ]
        }
      ]
    },
    {
      "cell_type": "code",
      "source": [
        "schema = StructType([\n",
        "    StructField(\"timestamp\", TimestampType(), False),\n",
        "    StructField(\"id\", IntegerType(), False),\n",
        "    StructField(\"type\", StringType(), False),\n",
        "    StructField(\"brand\", StringType(), False),\n",
        "    StructField(\"year\", DateType(), False),\n",
        "    StructField(\"location\", StringType(), False),\n",
        "    StructField(\"fuel_level\", FloatType(), False)\n",
        "])\n",
        "df_iot = spark.read.csv(\"/content/drive/MyDrive/datasets/relearn_spark/iot.csv\", header=True, schema=schema)"
      ],
      "metadata": {
        "id": "pLPnJyxOoGvq"
      },
      "execution_count": null,
      "outputs": []
    },
    {
      "cell_type": "code",
      "source": [
        "df_iot.printSchema()\n",
        "df_iot.show(5)"
      ],
      "metadata": {
        "colab": {
          "base_uri": "https://localhost:8080/"
        },
        "id": "a9IIHjuZpoKU",
        "outputId": "eb3ed7bb-92b6-4f20-d3b6-6c51dce6d75b"
      },
      "execution_count": null,
      "outputs": [
        {
          "output_type": "stream",
          "name": "stdout",
          "text": [
            "root\n",
            " |-- timestamp: timestamp (nullable = true)\n",
            " |-- id: integer (nullable = true)\n",
            " |-- type: string (nullable = true)\n",
            " |-- brand: string (nullable = true)\n",
            " |-- year: date (nullable = true)\n",
            " |-- location: string (nullable = true)\n",
            " |-- fuel_level: float (nullable = true)\n",
            "\n",
            "+-------------------+---+----------+-----------+----------+--------------------+----------+\n",
            "|          timestamp| id|      type|      brand|      year|            location|fuel_level|\n",
            "+-------------------+---+----------+-----------+----------+--------------------+----------+\n",
            "|2022-01-25 13:15:29| 13|Dump Truck|       Hino|2017-01-01|POINT(107.3225083...|  99.31521|\n",
            "|2022-01-25 13:16:26| 16|Dump Truck|       Fuso|2018-01-01|POINT(107.3192117...|  98.88088|\n",
            "|2022-01-25 13:15:29| 12|Dump Truck|       Fuso|2018-01-01|POINT(107.3213810...|  99.57359|\n",
            "|2022-01-25 13:18:10| 11|Dump Truck|       Hino|2015-01-01|POINT(107.3152080...|  96.41994|\n",
            "|2022-01-25 13:16:44|  7| Excavator|Caterpillar|2015-01-01|POINT(107.3199178...|  97.59215|\n",
            "+-------------------+---+----------+-----------+----------+--------------------+----------+\n",
            "only showing top 5 rows\n",
            "\n"
          ]
        }
      ]
    }
  ]
}