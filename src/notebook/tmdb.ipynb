{
  "nbformat": 4,
  "nbformat_minor": 0,
  "metadata": {
    "colab": {
      "name": "tmdb.ipynb",
      "provenance": [],
      "collapsed_sections": [
        "zfMpK8C66hmx",
        "dihZSxw77vyy",
        "r8Q3ZlDaEIGR",
        "6Q78EKiR-t0g",
        "ufpVtE0j71HS"
      ]
    },
    "kernelspec": {
      "name": "python3",
      "display_name": "Python 3"
    },
    "language_info": {
      "name": "python"
    }
  },
  "cells": [
    {
      "cell_type": "markdown",
      "source": [
        "# Fahmi Abdulaziz - Qoala ETL Pipeline Assingment\n",
        "This is development notebook used for ETL development and prototyping. For better reading experience please use Google Colab."
      ],
      "metadata": {
        "id": "tI2p1V636MDO"
      }
    },
    {
      "cell_type": "markdown",
      "source": [
        "## Preparing Dependencies"
      ],
      "metadata": {
        "id": "zfMpK8C66hmx"
      }
    },
    {
      "cell_type": "code",
      "execution_count": 1,
      "metadata": {
        "id": "-hlh_UWOgIwM",
        "colab": {
          "base_uri": "https://localhost:8080/"
        },
        "outputId": "3a3fcbe6-6c3e-4e46-9520-329b19cbc4a0"
      },
      "outputs": [
        {
          "output_type": "stream",
          "name": "stdout",
          "text": [
            "\u001b[K     |████████████████████████████████| 281.4 MB 29 kB/s \n",
            "\u001b[K     |████████████████████████████████| 198 kB 36.6 MB/s \n",
            "\u001b[?25h  Building wheel for pyspark (setup.py) ... \u001b[?25l\u001b[?25hdone\n"
          ]
        }
      ],
      "source": [
        "!pip install -q pyspark kaggle"
      ]
    },
    {
      "cell_type": "code",
      "source": [
        "from google.colab import drive\n",
        "drive.mount('/content/drive')"
      ],
      "metadata": {
        "id": "jfvWJ_nOEZkh",
        "colab": {
          "base_uri": "https://localhost:8080/"
        },
        "outputId": "acb8436a-ab36-42b9-a094-a579761da60c"
      },
      "execution_count": 2,
      "outputs": [
        {
          "output_type": "stream",
          "name": "stdout",
          "text": [
            "Mounted at /content/drive\n"
          ]
        }
      ]
    },
    {
      "cell_type": "markdown",
      "source": [
        "preparing kaggle credential"
      ],
      "metadata": {
        "id": "HVTmU6aK7Pty"
      }
    },
    {
      "cell_type": "code",
      "source": [
        "!mkdir -p ~/.kaggle\n",
        "!cp /content/drive/MyDrive/kaggle.json ~/.kaggle/\n",
        "!chmod 600 ~/.kaggle/kaggle.json"
      ],
      "metadata": {
        "id": "qEDmuxJ_h-e0"
      },
      "execution_count": 3,
      "outputs": []
    },
    {
      "cell_type": "markdown",
      "source": [
        "## Preparing Source File"
      ],
      "metadata": {
        "id": "dihZSxw77vyy"
      }
    },
    {
      "cell_type": "markdown",
      "source": [
        "### Download & Unzip tmdb Dataset\n",
        "This section I download kaggle datasets by using kaggle library we already installed begore"
      ],
      "metadata": {
        "id": "r8Q3ZlDaEIGR"
      }
    },
    {
      "cell_type": "code",
      "source": [
        "!rm -rf ./movies ./series"
      ],
      "metadata": {
        "id": "xQLnJo9jPAJd"
      },
      "execution_count": 4,
      "outputs": []
    },
    {
      "cell_type": "code",
      "source": [
        "%%bash --err null\n",
        "kaggle datasets download edgartanaka1/tmdb-movies-and-series -p /content\n",
        "unzip /content/tmdb-movies-and-series.zip"
      ],
      "metadata": {
        "id": "r8mLfNiniWkG",
        "colab": {
          "base_uri": "https://localhost:8080/"
        },
        "outputId": "b62699cb-3a88-4c94-dd5d-f195c87c99c3"
      },
      "execution_count": 5,
      "outputs": [
        {
          "output_type": "stream",
          "name": "stderr",
          "text": [
            "IOPub data rate exceeded.\n",
            "The notebook server will temporarily stop sending output\n",
            "to the client in order to avoid crashing it.\n",
            "To change this limit, set the config variable\n",
            "`--NotebookApp.iopub_data_rate_limit`.\n",
            "\n",
            "Current values:\n",
            "NotebookApp.iopub_data_rate_limit=1000000.0 (bytes/sec)\n",
            "NotebookApp.rate_limit_window=3.0 (secs)\n",
            "\n"
          ]
        }
      ]
    },
    {
      "cell_type": "markdown",
      "source": [
        "### Combining all the files into one JSON\n",
        "To make it easier to work with, I combine all the files into single json file.\n",
        "\n",
        "WARNING: these code takes long time to finish and there is big chance of breaking"
      ],
      "metadata": {
        "id": "6Q78EKiR-t0g"
      }
    },
    {
      "cell_type": "code",
      "source": [
        "from os import listdir\n",
        "from os.path import isfile, join\n",
        "import json"
      ],
      "metadata": {
        "id": "e1cWdd0Z6LHg"
      },
      "execution_count": 6,
      "outputs": []
    },
    {
      "cell_type": "code",
      "source": [
        "def get_files_in_dir(path: str):\n",
        "    return [f for f in listdir(path) if isfile(join(path, f))]"
      ],
      "metadata": {
        "id": "s0wdyTsS-9kS"
      },
      "execution_count": 7,
      "outputs": []
    },
    {
      "cell_type": "code",
      "source": [
        "def combine_all_file(dir: str, out: str):\n",
        "    joined_file = open(out, \"a+\")\n",
        "    file_paths = get_files_in_dir(dir)\n",
        "\n",
        "    for file_path in file_paths:\n",
        "        with open(join(dir, file_path)) as f:\n",
        "            payload = f.read()\n",
        "            joined_file.write(payload+'\\n')\n",
        "\n",
        "    joined_file.close()"
      ],
      "metadata": {
        "id": "K2j8Uqlv_Uap"
      },
      "execution_count": 8,
      "outputs": []
    },
    {
      "cell_type": "code",
      "source": [
        "for folder in ['series', 'movies']:\n",
        "    dir = join(\"/content\", folder, folder)\n",
        "    out_file = join(\"/content\", folder+\"_joined.json\")\n",
        "    combine_all_file(dir, out_file)"
      ],
      "metadata": {
        "id": "ONMatepzAdzl"
      },
      "execution_count": 9,
      "outputs": []
    },
    {
      "cell_type": "markdown",
      "source": [
        "## Environment Preparation\n",
        "To handle high amount of data and compute-intensive wrangling, I decided to use Apache Spark for ETL process."
      ],
      "metadata": {
        "id": "il4yamLXr4i7"
      }
    },
    {
      "cell_type": "code",
      "source": [
        "from pyspark.sql import SparkSession\n",
        "from pyspark.sql.dataframe import DataFrame\n",
        "import pyspark.sql.functions as F"
      ],
      "metadata": {
        "id": "Bso4EyuTEZN5"
      },
      "execution_count": 3,
      "outputs": []
    },
    {
      "cell_type": "code",
      "source": [
        "spark = SparkSession.builder.appName(\"tmdb\") \\\n",
        "    .config(\"spark.driver.maxResultSize\", \"10g\") \\\n",
        "    .getOrCreate()"
      ],
      "metadata": {
        "id": "VAUJwbyDEivb"
      },
      "execution_count": 4,
      "outputs": []
    },
    {
      "cell_type": "markdown",
      "source": [
        "## Extract\n",
        "Load the combined file into Spark dataframe"
      ],
      "metadata": {
        "id": "aL_F489oFVj6"
      }
    },
    {
      "cell_type": "code",
      "source": [
        "df_movies = spark.read.json(\"/content/drive/MyDrive/datasets/tmdb/movies_joined.json\")\n",
        "df_series = spark.read.json(\"/content/drive/MyDrive/datasets/tmdb/series_joined.json\")"
      ],
      "metadata": {
        "id": "jeQqYCkzEtWr"
      },
      "execution_count": 5,
      "outputs": []
    },
    {
      "cell_type": "code",
      "source": [
        "df_movies.printSchema()"
      ],
      "metadata": {
        "colab": {
          "base_uri": "https://localhost:8080/"
        },
        "id": "sXxWSSK_ONtu",
        "outputId": "de948e2b-65ec-4332-eb34-863eb04bd5ea"
      },
      "execution_count": 13,
      "outputs": [
        {
          "output_type": "stream",
          "name": "stdout",
          "text": [
            "root\n",
            " |-- adult: boolean (nullable = true)\n",
            " |-- backdrop_path: string (nullable = true)\n",
            " |-- belongs_to_collection: struct (nullable = true)\n",
            " |    |-- backdrop_path: string (nullable = true)\n",
            " |    |-- id: long (nullable = true)\n",
            " |    |-- name: string (nullable = true)\n",
            " |    |-- poster_path: string (nullable = true)\n",
            " |-- budget: long (nullable = true)\n",
            " |-- genres: array (nullable = true)\n",
            " |    |-- element: struct (containsNull = true)\n",
            " |    |    |-- id: long (nullable = true)\n",
            " |    |    |-- name: string (nullable = true)\n",
            " |-- homepage: string (nullable = true)\n",
            " |-- id: long (nullable = true)\n",
            " |-- imdb_id: string (nullable = true)\n",
            " |-- original_language: string (nullable = true)\n",
            " |-- original_title: string (nullable = true)\n",
            " |-- overview: string (nullable = true)\n",
            " |-- popularity: double (nullable = true)\n",
            " |-- poster_path: string (nullable = true)\n",
            " |-- production_companies: array (nullable = true)\n",
            " |    |-- element: struct (containsNull = true)\n",
            " |    |    |-- id: long (nullable = true)\n",
            " |    |    |-- logo_path: string (nullable = true)\n",
            " |    |    |-- name: string (nullable = true)\n",
            " |    |    |-- origin_country: string (nullable = true)\n",
            " |-- production_countries: array (nullable = true)\n",
            " |    |-- element: struct (containsNull = true)\n",
            " |    |    |-- iso_3166_1: string (nullable = true)\n",
            " |    |    |-- name: string (nullable = true)\n",
            " |-- release_date: string (nullable = true)\n",
            " |-- revenue: long (nullable = true)\n",
            " |-- runtime: long (nullable = true)\n",
            " |-- spoken_languages: array (nullable = true)\n",
            " |    |-- element: struct (containsNull = true)\n",
            " |    |    |-- iso_639_1: string (nullable = true)\n",
            " |    |    |-- name: string (nullable = true)\n",
            " |-- status: string (nullable = true)\n",
            " |-- tagline: string (nullable = true)\n",
            " |-- title: string (nullable = true)\n",
            " |-- video: boolean (nullable = true)\n",
            " |-- vote_average: double (nullable = true)\n",
            " |-- vote_count: long (nullable = true)\n",
            "\n"
          ]
        }
      ]
    },
    {
      "cell_type": "code",
      "source": [
        "df_series.printSchema()"
      ],
      "metadata": {
        "colab": {
          "base_uri": "https://localhost:8080/"
        },
        "id": "RXfIFmtN78Uf",
        "outputId": "0b2d136a-6ca7-4ee9-96fe-8d8f2ca5703a"
      },
      "execution_count": 14,
      "outputs": [
        {
          "output_type": "stream",
          "name": "stdout",
          "text": [
            "root\n",
            " |-- backdrop_path: string (nullable = true)\n",
            " |-- created_by: array (nullable = true)\n",
            " |    |-- element: struct (containsNull = true)\n",
            " |    |    |-- credit_id: string (nullable = true)\n",
            " |    |    |-- gender: long (nullable = true)\n",
            " |    |    |-- id: long (nullable = true)\n",
            " |    |    |-- name: string (nullable = true)\n",
            " |    |    |-- profile_path: string (nullable = true)\n",
            " |-- episode_run_time: array (nullable = true)\n",
            " |    |-- element: long (containsNull = true)\n",
            " |-- first_air_date: string (nullable = true)\n",
            " |-- genres: array (nullable = true)\n",
            " |    |-- element: struct (containsNull = true)\n",
            " |    |    |-- id: long (nullable = true)\n",
            " |    |    |-- name: string (nullable = true)\n",
            " |-- homepage: string (nullable = true)\n",
            " |-- id: long (nullable = true)\n",
            " |-- in_production: boolean (nullable = true)\n",
            " |-- languages: array (nullable = true)\n",
            " |    |-- element: string (containsNull = true)\n",
            " |-- last_air_date: string (nullable = true)\n",
            " |-- last_episode_to_air: struct (nullable = true)\n",
            " |    |-- air_date: string (nullable = true)\n",
            " |    |-- episode_number: long (nullable = true)\n",
            " |    |-- id: long (nullable = true)\n",
            " |    |-- name: string (nullable = true)\n",
            " |    |-- overview: string (nullable = true)\n",
            " |    |-- production_code: string (nullable = true)\n",
            " |    |-- season_number: long (nullable = true)\n",
            " |    |-- show_id: long (nullable = true)\n",
            " |    |-- still_path: string (nullable = true)\n",
            " |    |-- vote_average: double (nullable = true)\n",
            " |    |-- vote_count: long (nullable = true)\n",
            " |-- name: string (nullable = true)\n",
            " |-- networks: array (nullable = true)\n",
            " |    |-- element: struct (containsNull = true)\n",
            " |    |    |-- id: long (nullable = true)\n",
            " |    |    |-- logo_path: string (nullable = true)\n",
            " |    |    |-- name: string (nullable = true)\n",
            " |    |    |-- origin_country: string (nullable = true)\n",
            " |-- next_episode_to_air: struct (nullable = true)\n",
            " |    |-- air_date: string (nullable = true)\n",
            " |    |-- episode_number: long (nullable = true)\n",
            " |    |-- id: long (nullable = true)\n",
            " |    |-- name: string (nullable = true)\n",
            " |    |-- overview: string (nullable = true)\n",
            " |    |-- production_code: string (nullable = true)\n",
            " |    |-- season_number: long (nullable = true)\n",
            " |    |-- show_id: long (nullable = true)\n",
            " |    |-- still_path: string (nullable = true)\n",
            " |    |-- vote_average: double (nullable = true)\n",
            " |    |-- vote_count: long (nullable = true)\n",
            " |-- number_of_episodes: long (nullable = true)\n",
            " |-- number_of_seasons: long (nullable = true)\n",
            " |-- origin_country: array (nullable = true)\n",
            " |    |-- element: string (containsNull = true)\n",
            " |-- original_language: string (nullable = true)\n",
            " |-- original_name: string (nullable = true)\n",
            " |-- overview: string (nullable = true)\n",
            " |-- popularity: double (nullable = true)\n",
            " |-- poster_path: string (nullable = true)\n",
            " |-- production_companies: array (nullable = true)\n",
            " |    |-- element: struct (containsNull = true)\n",
            " |    |    |-- id: long (nullable = true)\n",
            " |    |    |-- logo_path: string (nullable = true)\n",
            " |    |    |-- name: string (nullable = true)\n",
            " |    |    |-- origin_country: string (nullable = true)\n",
            " |-- seasons: array (nullable = true)\n",
            " |    |-- element: struct (containsNull = true)\n",
            " |    |    |-- air_date: string (nullable = true)\n",
            " |    |    |-- episode_count: long (nullable = true)\n",
            " |    |    |-- id: long (nullable = true)\n",
            " |    |    |-- name: string (nullable = true)\n",
            " |    |    |-- overview: string (nullable = true)\n",
            " |    |    |-- poster_path: string (nullable = true)\n",
            " |    |    |-- season_number: long (nullable = true)\n",
            " |-- status: string (nullable = true)\n",
            " |-- type: string (nullable = true)\n",
            " |-- vote_average: double (nullable = true)\n",
            " |-- vote_count: long (nullable = true)\n",
            "\n"
          ]
        }
      ]
    },
    {
      "cell_type": "markdown",
      "source": [
        "## Exploration"
      ],
      "metadata": {
        "id": "8ZbaNrvzdCCO"
      }
    },
    {
      "cell_type": "markdown",
      "source": [
        "### Array struct column type consistency check\n",
        "The repetitive value in `Array - Struct` column type could create inconsistency between data. In this part we will try to check if the data in `Array - Struct` field is consistent"
      ],
      "metadata": {
        "id": "666i6tWDebFv"
      }
    },
    {
      "cell_type": "code",
      "source": [
        "def explode_array_column(dataframe: DataFrame, column: str, new_column: str):\n",
        "    \"\"\"\n",
        "    description: flatten rows of array to rows of element\n",
        "    \"\"\"\n",
        "    return dataframe.select(F.col(column)) \\\n",
        "        .where(F.size(F.col(column)) > 0 ) \\\n",
        "        .withColumn(new_column, F.explode(F.col(column))) \\\n",
        "        .select(F.col(new_column)) \\\n",
        "        \n",
        "\n",
        "\n",
        "def check_array_struct_uniqueness(dataframe: DataFrame, column: str, id_key: str):\n",
        "    \"\"\"\n",
        "    description: check if struct from different row is consistent.\n",
        "        if there is inconsistencies, it will print the id(s) of inconsistent row\n",
        "    \"\"\"\n",
        "    res_table = explode_array_column(dataframe, column, \"temp\") \\\n",
        "        .select(F.col(f\"temp.*\")) \\\n",
        "        .distinct() \\\n",
        "        .groupBy(id_key).count() \\\n",
        "        .where(F.col(\"count\") > 1)\n",
        "    \n",
        "    if res_table.count() > 0:\n",
        "        print(f\"Data in column {column} is inconsistent\")\n",
        "        res_table.show(10)"
      ],
      "metadata": {
        "id": "ZXrslSsiTZX5"
      },
      "execution_count": 6,
      "outputs": []
    },
    {
      "cell_type": "code",
      "source": [
        "check_array_struct_uniqueness(df_movies, \"production_companies\", \"id\")\n",
        "check_array_struct_uniqueness(df_movies, \"genres\", \"id\")\n",
        "check_array_struct_uniqueness(df_movies, \"spoken_languages\", \"iso_639_1\")\n",
        "check_array_struct_uniqueness(df_movies, \"production_countries\", \"iso_3166_1\")\n",
        "check_array_struct_uniqueness(df_movies, \"genres\", \"id\")\n",
        "check_array_struct_uniqueness(df_series, \"genres\", \"id\")\n",
        "check_array_struct_uniqueness(df_series, \"networks\", \"id\")\n",
        "check_array_struct_uniqueness(df_series, \"production_companies\", \"id\")"
      ],
      "metadata": {
        "colab": {
          "base_uri": "https://localhost:8080/"
        },
        "id": "sllFvvcyUskC",
        "outputId": "43f40610-0ebb-41ce-ba17-d50f824a45fd"
      },
      "execution_count": 7,
      "outputs": [
        {
          "output_type": "stream",
          "name": "stdout",
          "text": [
            "Data in column production_companies is inconsistent\n",
            "+----+-----+\n",
            "|  id|count|\n",
            "+----+-----+\n",
            "| 215|    2|\n",
            "|6689|    2|\n",
            "+----+-----+\n",
            "\n"
          ]
        }
      ]
    },
    {
      "cell_type": "markdown",
      "source": [
        "The result above shows that column of `production_companies` has inconsistencies in two ids. The details are shown in the result below."
      ],
      "metadata": {
        "id": "nIEV1Jr8vN0L"
      }
    },
    {
      "cell_type": "code",
      "source": [
        "df_movies.select(F.explode(\"production_companies\")).select(\"col.*\").where((F.col(\"id\") == 215)).show()\n",
        "df_movies.select(F.explode(\"production_companies\")).select(\"col.*\").where((F.col(\"id\") == 6689)).show()\n",
        "\n",
        "# if we take a look at the below result, it shows that both companies has incosistencies in it's data\n",
        "# for this project, I will just leave warning in pipeline"
      ],
      "metadata": {
        "colab": {
          "base_uri": "https://localhost:8080/"
        },
        "id": "oQ6O7athjIOG",
        "outputId": "8c05d6ec-188e-4a97-9857-94103eda2886"
      },
      "execution_count": 8,
      "outputs": [
        {
          "output_type": "stream",
          "name": "stdout",
          "text": [
            "+---+--------------------+--------------------+--------------+\n",
            "| id|           logo_path|                name|origin_country|\n",
            "+---+--------------------+--------------------+--------------+\n",
            "|215|/tQyeqkCj24krhY2W...|Double Feature Films|            US|\n",
            "|215|/tQyeqkCj24krhY2W...|Double Feature Films|            US|\n",
            "|215|/tQyeqkCj24krhY2W...|Double Feature Films|            US|\n",
            "|215|/tQyeqkCj24krhY2W...|Double Feature Films|            US|\n",
            "|215|/tQyeqkCj24krhY2W...|Double Feature Films|            US|\n",
            "|215|/tQyeqkCj24krhY2W...|Double Feature Films|            US|\n",
            "|215|/tQyeqkCj24krhY2W...|Double Feature Films|            US|\n",
            "|215|/tQyeqkCj24krhY2W...|Double Feature Films|            US|\n",
            "|215|/tQyeqkCj24krhY2W...|Double Feature Films|            US|\n",
            "|215|/tQyeqkCj24krhY2W...|Double Feature Films|            US|\n",
            "|215|/tQyeqkCj24krhY2W...|Double Feature Films|              |\n",
            "|215|/tQyeqkCj24krhY2W...|Double Feature Films|            US|\n",
            "|215|/tQyeqkCj24krhY2W...|Double Feature Films|            US|\n",
            "|215|/tQyeqkCj24krhY2W...|Double Feature Films|            US|\n",
            "|215|/tQyeqkCj24krhY2W...|Double Feature Films|              |\n",
            "|215|/tQyeqkCj24krhY2W...|Double Feature Films|            US|\n",
            "+---+--------------------+--------------------+--------------+\n",
            "\n",
            "+----+--------------------+-----+--------------+\n",
            "|  id|           logo_path| name|origin_country|\n",
            "+----+--------------------+-----+--------------+\n",
            "|6689|/i6J2W84TzUf59PdM...|SHAFT|            JP|\n",
            "|6689|/i6J2W84TzUf59PdM...|SHAFT|            JP|\n",
            "|6689|/vaKMJDLIZCeqhGC5...|SHAFT|            JP|\n",
            "|6689|/i6J2W84TzUf59PdM...|SHAFT|            JP|\n",
            "|6689|/i6J2W84TzUf59PdM...|SHAFT|            JP|\n",
            "|6689|/i6J2W84TzUf59PdM...|SHAFT|            JP|\n",
            "|6689|/i6J2W84TzUf59PdM...|SHAFT|            JP|\n",
            "|6689|/i6J2W84TzUf59PdM...|SHAFT|            JP|\n",
            "|6689|/vaKMJDLIZCeqhGC5...|SHAFT|            JP|\n",
            "|6689|/vaKMJDLIZCeqhGC5...|SHAFT|            JP|\n",
            "|6689|/i6J2W84TzUf59PdM...|SHAFT|            JP|\n",
            "|6689|/i6J2W84TzUf59PdM...|SHAFT|            JP|\n",
            "|6689|/i6J2W84TzUf59PdM...|SHAFT|            JP|\n",
            "|6689|/i6J2W84TzUf59PdM...|SHAFT|            JP|\n",
            "|6689|/i6J2W84TzUf59PdM...|SHAFT|            JP|\n",
            "|6689|/vaKMJDLIZCeqhGC5...|SHAFT|            JP|\n",
            "|6689|/i6J2W84TzUf59PdM...|SHAFT|            JP|\n",
            "|6689|/i6J2W84TzUf59PdM...|SHAFT|            JP|\n",
            "|6689|/vaKMJDLIZCeqhGC5...|SHAFT|            JP|\n",
            "|6689|/vaKMJDLIZCeqhGC5...|SHAFT|            JP|\n",
            "+----+--------------------+-----+--------------+\n",
            "only showing top 20 rows\n",
            "\n"
          ]
        }
      ]
    },
    {
      "cell_type": "markdown",
      "source": [
        "### Common field\n",
        "both series and movies dataset has one same column, `genres` and `production_companies` column. This column has `ArrayType` type consists `Struct`. Yet we are not sure wether those two field has the same `id` and `name`. This part will try to check if `genres` & `production_companies` on both datasets are the same."
      ],
      "metadata": {
        "id": "TXmJrLhjdP-a"
      }
    },
    {
      "cell_type": "markdown",
      "source": [
        "#### Genre Field\n",
        "Comparing `genre` field between `series` and `movies`"
      ],
      "metadata": {
        "id": "-3HIEn0TwewF"
      }
    },
    {
      "cell_type": "code",
      "source": [
        "def explode_and_spread_column(df, column: str):\n",
        "    return df.select(F.explode(F.col(column))).select(F.col(\"col.*\"))\n",
        "\n",
        "\n",
        "def rename_columns(df, current_cols, new_cols):\n",
        "    if len(current_cols) != len(new_cols):\n",
        "        raise Exception()\n",
        "\n",
        "    for i in range(len(current_cols)):\n",
        "        df = df.withColumnRenamed(current_cols[i], new_cols[i])\n",
        "\n",
        "    return df"
      ],
      "metadata": {
        "id": "Lf_Ih5JK15rI"
      },
      "execution_count": 9,
      "outputs": []
    },
    {
      "cell_type": "code",
      "source": [
        "# Comparing genres between two datasets\n",
        "\n",
        "df_series_gen = rename_columns(\n",
        "        explode_and_spread_column(df_series, \"genres\"),\n",
        "        [\"id\", \"name\"], [\"series_id\", \"series_genre\"]\n",
        "    ).distinct()\n",
        "\n",
        "df_movies_gen = rename_columns(\n",
        "        explode_and_spread_column(df_movies, \"genres\"),\n",
        "        [\"id\", \"name\"], [\"movies_id\", \"movies_genre\"]\n",
        "    ).distinct()\n",
        "\n",
        "genre_comparison = df_series_gen \\\n",
        "    .join(df_movies_gen, df_series_gen.series_id == df_movies_gen.movies_id, \"full\")\n",
        "genre_comparison.show(5)\n",
        "\n",
        "# from the result below it seems that the id and genres between two table are the same"
      ],
      "metadata": {
        "colab": {
          "base_uri": "https://localhost:8080/"
        },
        "id": "psGk8ChF9l7W",
        "outputId": "4e756cad-8fcc-46e1-920e-e1effe63ca2e"
      },
      "execution_count": 15,
      "outputs": [
        {
          "output_type": "stream",
          "name": "stdout",
          "text": [
            "+---------+------------+---------+------------+\n",
            "|series_id|series_genre|movies_id|movies_genre|\n",
            "+---------+------------+---------+------------+\n",
            "|       12|   Adventure|       12|   Adventure|\n",
            "|       14|     Fantasy|       14|     Fantasy|\n",
            "|       16|   Animation|       16|   Animation|\n",
            "|       18|       Drama|       18|       Drama|\n",
            "|       22|     Musical|     null|        null|\n",
            "+---------+------------+---------+------------+\n",
            "only showing top 5 rows\n",
            "\n"
          ]
        }
      ]
    },
    {
      "cell_type": "code",
      "source": [
        "# decide to check futher by looking for inequality between series_genre and movies_genre\n",
        "genre_comparison.where(F.col(\"movies_id\").isNotNull() & F.col(\"series_id\").isNotNull() & (F.col(\"movies_genre\") != F.col(\"series_genre\"))).show()"
      ],
      "metadata": {
        "colab": {
          "base_uri": "https://localhost:8080/"
        },
        "id": "_Pt7s5eXB33p",
        "outputId": "b448a246-a48f-4693-b31c-fb40364ec0bb"
      },
      "execution_count": 16,
      "outputs": [
        {
          "output_type": "stream",
          "name": "stdout",
          "text": [
            "+---------+------------+---------+------------+\n",
            "|series_id|series_genre|movies_id|movies_genre|\n",
            "+---------+------------+---------+------------+\n",
            "+---------+------------+---------+------------+\n",
            "\n"
          ]
        }
      ]
    },
    {
      "cell_type": "markdown",
      "source": [
        "The result above shows that there is no differencese between `genre` in `series` and `movies` dataset. So we decide to make dimension table of `genre` to be used both in `series` and `movies`"
      ],
      "metadata": {
        "id": "JlhbmwSwwEHo"
      }
    },
    {
      "cell_type": "code",
      "source": [
        "dwh_genres = genre_comparison \\\n",
        "    .withColumn(\"id\", F.when(F.col(\"series_id\").isNull(), F.col(\"movies_id\")).otherwise(F.col(\"series_id\"))) \\\n",
        "    .withColumn(\"genre\", F.when(F.col(\"series_id\").isNull(), F.col(\"movies_genre\")).otherwise(F.col(\"series_genre\"))) \\\n",
        "    .select([\"id\", \"genre\"])\n",
        "\n",
        "dwh_genres.show(5)\n",
        "\n",
        "# the below table will be used for dimension table"
      ],
      "metadata": {
        "colab": {
          "base_uri": "https://localhost:8080/"
        },
        "id": "rgrYyA6fp4jl",
        "outputId": "be7cee2b-0844-4ed3-d694-fc44860a9afb"
      },
      "execution_count": 17,
      "outputs": [
        {
          "output_type": "stream",
          "name": "stdout",
          "text": [
            "+---+---------+\n",
            "| id|    genre|\n",
            "+---+---------+\n",
            "| 12|Adventure|\n",
            "| 14|  Fantasy|\n",
            "| 16|Animation|\n",
            "| 18|    Drama|\n",
            "| 22|  Musical|\n",
            "+---+---------+\n",
            "only showing top 5 rows\n",
            "\n"
          ]
        }
      ]
    },
    {
      "cell_type": "markdown",
      "source": [
        "#### production_companies Field\n",
        "comparing `production_companies` between `series` and `movies`"
      ],
      "metadata": {
        "id": "1_0xmNnPwj-j"
      }
    },
    {
      "cell_type": "code",
      "source": [
        "# Comparing production_companies between two datasets\n",
        "\n",
        "df_series_com = rename_columns(\n",
        "        explode_and_spread_column(df_series, \"production_companies\"),\n",
        "        [\"id\", \"name\", \"origin_country\"], [\"series_id\", \"series_company\", \"series_origin_country\"]\n",
        "    ).distinct()\n",
        "\n",
        "df_movies_com = rename_columns(\n",
        "        explode_and_spread_column(df_movies, \"production_companies\"),\n",
        "        [\"id\", \"name\", \"origin_country\"], [\"movies_id\", \"movies_company\", \"movies_origin_country\"]\n",
        "    ).distinct()\n",
        "\n",
        "companies_comparison = df_series_com \\\n",
        "    .join(df_movies_com, df_series_com.series_id == df_movies_com.movies_id, \"full\")\n",
        "companies_comparison.show(5)\n",
        "\n",
        "# from the result below it seems that the id and genres between two table are the same"
      ],
      "metadata": {
        "colab": {
          "base_uri": "https://localhost:8080/"
        },
        "id": "I8wd-Lximen9",
        "outputId": "d9e658b2-4a22-4476-d2e7-e4d97fe3f8d1"
      },
      "execution_count": 18,
      "outputs": [
        {
          "output_type": "stream",
          "name": "stdout",
          "text": [
            "+---------+--------------------+-------------------+---------------------+---------+--------------------+-------------------+---------------------+\n",
            "|series_id|           logo_path|     series_company|series_origin_country|movies_id|           logo_path|     movies_company|movies_origin_country|\n",
            "+---------+--------------------+-------------------+---------------------+---------+--------------------+-------------------+---------------------+\n",
            "|        1|/o86DbpburjxrqAzE...|     Lucasfilm Ltd.|                   US|        1|/o86DbpburjxrqAzE...|     Lucasfilm Ltd.|                   US|\n",
            "|        5|/71BqEFAF4V3qjjMP...|  Columbia Pictures|                   US|        5|/71BqEFAF4V3qjjMP...|  Columbia Pictures|                   US|\n",
            "|     null|                null|               null|                 null|        6|/n53F7K9scQWFXYbr...| RKO Radio Pictures|                   US|\n",
            "|        7|/vru2SssLX3FPhnKZ...|DreamWorks Pictures|                   US|        7|/vru2SssLX3FPhnKZ...|DreamWorks Pictures|                   US|\n",
            "|        9|/nda3dTUYdDrJ6rZq...|            Gaumont|                   FR|        9|/nda3dTUYdDrJ6rZq...|            Gaumont|                   FR|\n",
            "+---------+--------------------+-------------------+---------------------+---------+--------------------+-------------------+---------------------+\n",
            "only showing top 5 rows\n",
            "\n"
          ]
        }
      ]
    },
    {
      "cell_type": "code",
      "source": [
        "# decide to check futher by looking for inequality between series_genre and movies_genre\n",
        "companies_comparison \\\n",
        ".where(F.col(\"movies_id\").isNotNull() \\\n",
        "       & F.col(\"series_id\").isNotNull() \\\n",
        "       & (F.col(\"movies_company\") != F.col(\"series_company\")) \\\n",
        "       & (F.col(\"movies_origin_country\") != F.col(\"series_origin_country\"))) \\\n",
        ".show()\n",
        "\n",
        "# the below table will be used for dimension table"
      ],
      "metadata": {
        "colab": {
          "base_uri": "https://localhost:8080/"
        },
        "id": "Au0J9MjCn3n7",
        "outputId": "fafd1b7b-f2ad-4c3a-d915-531128ddcb44"
      },
      "execution_count": 22,
      "outputs": [
        {
          "output_type": "stream",
          "name": "stdout",
          "text": [
            "+---------+--------------+---------------------+---------+--------------+---------------------+\n",
            "|series_id|series_company|series_origin_country|movies_id|movies_company|movies_origin_country|\n",
            "+---------+--------------+---------------------+---------+--------------+---------------------+\n",
            "+---------+--------------+---------------------+---------+--------------+---------------------+\n",
            "\n"
          ]
        }
      ]
    },
    {
      "cell_type": "markdown",
      "source": [
        "The result above shows that there is no differencese between `production_companies` in `series` and `movies` dataset. So we decide to make dimension table of `companies` to be used both in `series` and `movies`"
      ],
      "metadata": {
        "id": "ZQdRhLyPxIKh"
      }
    },
    {
      "cell_type": "code",
      "source": [
        "dwh_companies = companies_comparison \\\n",
        "    .withColumn(\"id\", F.when(F.col(\"series_id\").isNull(), F.col(\"movies_id\")).otherwise(F.col(\"series_id\"))) \\\n",
        "    .withColumn(\"company\", F.when(F.col(\"series_id\").isNull(), F.col(\"movies_company\")).otherwise(F.col(\"series_company\"))) \\\n",
        "    .withColumn(\"origin_country\", F.when(F.col(\"series_id\").isNull(), F.col(\"movies_origin_country\")).otherwise(F.col(\"series_origin_country\"))) \\\n",
        "    .select([\"id\", \"company\", \"origin_country\"]) \\\n",
        "    .where(F.col(\"origin_country\").isNotNull())\n",
        "\n",
        "dwh_companies.show(5)"
      ],
      "metadata": {
        "colab": {
          "base_uri": "https://localhost:8080/"
        },
        "id": "z2fmiIcvpbNv",
        "outputId": "5bf5df44-2a0c-4262-eac0-1c0861e077d1"
      },
      "execution_count": 19,
      "outputs": [
        {
          "output_type": "stream",
          "name": "stdout",
          "text": [
            "+---+-------------------+--------------+\n",
            "| id|            company|origin_country|\n",
            "+---+-------------------+--------------+\n",
            "|  1|     Lucasfilm Ltd.|            US|\n",
            "|  5|  Columbia Pictures|            US|\n",
            "|  6| RKO Radio Pictures|            US|\n",
            "|  7|DreamWorks Pictures|            US|\n",
            "|  9|            Gaumont|            FR|\n",
            "+---+-------------------+--------------+\n",
            "only showing top 5 rows\n",
            "\n"
          ]
        }
      ]
    },
    {
      "cell_type": "markdown",
      "source": [
        "## Transform\n",
        "Transform `series` and `movies` before loaded to data warehouse.\n",
        "I drop `genre` and `production_companies` because we decided to normalize it."
      ],
      "metadata": {
        "id": "Xa2gbBpmaRFp"
      }
    },
    {
      "cell_type": "code",
      "source": [
        "initial_columns = df_movies.schema.names\n",
        "\n",
        "dwh_movies = df_movies \\\n",
        "    .withColumn(\"genre\", F.explode(\"genres\")) \\\n",
        "    .select(*initial_columns, F.col(\"genre.id\").alias(\"genre_id\")) \\\n",
        "    .groupBy(*initial_columns).agg(F.collect_list(\"genre_id\").alias(\"genre_ids\")) \\\n",
        "    .withColumn(\"company\", F.explode(\"production_companies\")) \\\n",
        "    .select(*initial_columns, \"genre_ids\", F.col(\"company.id\").alias(\"company_id\")) \\\n",
        "    .groupBy(*initial_columns, \"genre_ids\").agg(F.collect_list(\"company_id\").alias(\"company_ids\")) \\\n",
        "    .drop(\"genres\", \"production_companies\")\n",
        "    \n",
        "dwh_movies.show(5)"
      ],
      "metadata": {
        "colab": {
          "base_uri": "https://localhost:8080/"
        },
        "id": "6YGEkMrRsd1E",
        "outputId": "a1455af5-6648-4b64-9677-9fb648492892"
      },
      "execution_count": 24,
      "outputs": [
        {
          "output_type": "stream",
          "name": "stdout",
          "text": [
            "+-----+-------------+---------------------+------+--------+------+---------+-----------------+--------------------+--------------------+----------+--------------------+--------------------+------------+-------+-------+----------------+--------+-------+--------------------+-----+------------+----------+---------+-------------+\n",
            "|adult|backdrop_path|belongs_to_collection|budget|homepage|    id|  imdb_id|original_language|      original_title|            overview|popularity|         poster_path|production_countries|release_date|revenue|runtime|spoken_languages|  status|tagline|               title|video|vote_average|vote_count|genre_ids|  company_ids|\n",
            "+-----+-------------+---------------------+------+--------+------+---------+-----------------+--------------------+--------------------+----------+--------------------+--------------------+------------+-------+-------+----------------+--------+-------+--------------------+-----+------------+----------+---------+-------------+\n",
            "|false|         null|                 null|     0|    null|183379|tt0062607|               fr|Les Aventures de ...|                    |     0.699|/4z0BnM3kU9nEF6CO...|[{FR, France}, {D...|  1969-08-29|      0|    128|[{fr, Français}]|Released|       |Adventures of Tom...|false|         8.5|         3|     [12]|[37353, 4606]|\n",
            "|false|         null|                 null|     0|    null|246745|tt0195268|               it|        Skipper (TV)|                    |      1.45|                null|       [{IT, Italy}]|  1984-01-01|      0|   null|[{it, Italiano}]|Released|       |        Skipper (TV)|false|         6.5|         1|     [12]|       [1583]|\n",
            "|false|         null|                 null|     0|    null|269289|tt0053382|               en|  Tumulto de Paixões|A novelist comes ...|       0.6|/zsq6t5AFgp4wuAmF...|[{DE, Germany}, {...|  1959-11-27|      0|    102| [{en, English}]|Released|       |The Witch Beneath...|false|         0.0|         0|     [12]|[78033, 1449]|\n",
            "|false|         null|                 null|     0|    null|276940|tt0063484|               en|Radhapura – Endst...|                    |       0.6|/fUeXJ56bKoh95OMJ...|     [{DE, Germany}]|  1968-07-25|      0|   null|              []|Released|       |Radhapura – Endst...|false|         0.0|         0|     [12]|      [12730]|\n",
            "|false|         null|                 null|     0|    null|284860|tt0272123|               de|  Heinrich der Säger|                    |      0.84|                null|     [{DE, Germany}]|  2001-08-16|      0|   null|              []|Released|       |  Heinrich der Säger|false|         4.3|         2|     [12]|        [201]|\n",
            "+-----+-------------+---------------------+------+--------+------+---------+-----------------+--------------------+--------------------+----------+--------------------+--------------------+------------+-------+-------+----------------+--------+-------+--------------------+-----+------------+----------+---------+-------------+\n",
            "only showing top 5 rows\n",
            "\n"
          ]
        }
      ]
    },
    {
      "cell_type": "code",
      "source": [
        "# drop genre and companies\n",
        "initial_columns = df_series.schema.names\n",
        "\n",
        "dwh_series = df_series \\\n",
        "    .withColumn(\"genre\", F.explode(\"genres\")) \\\n",
        "    .select(*initial_columns, F.col(\"genre.id\").alias(\"genre_id\")) \\\n",
        "    .groupBy(*initial_columns).agg(F.collect_list(\"genre_id\").alias(\"genre_ids\")) \\\n",
        "    .withColumn(\"company\", F.explode(\"production_companies\")) \\\n",
        "    .select(*initial_columns, \"genre_ids\", F.col(\"company.id\").alias(\"company_id\")) \\\n",
        "    .groupBy(*initial_columns, \"genre_ids\").agg(F.collect_list(\"company_id\").alias(\"company_ids\")) \\\n",
        "    .drop(\"genres\", \"production_companies\")\n",
        "\n",
        "dwh_series.show(5)\n",
        "\n",
        "# the table below will be saved to dwh as factual table"
      ],
      "metadata": {
        "colab": {
          "base_uri": "https://localhost:8080/"
        },
        "id": "4450_BF41W5q",
        "outputId": "89820b67-08e1-4c5d-a93d-7745678f1bf0"
      },
      "execution_count": 25,
      "outputs": [
        {
          "output_type": "stream",
          "name": "stdout",
          "text": [
            "+-------------+----------+----------------+--------------+--------------------+------+-------------+---------+-------------+-------------------+-----------------------------------+--------------------+-------------------+------------------+-----------------+--------------+-----------------+-----------------------------------+--------+----------+--------------------+--------------------+-------------+--------+------------+----------+--------------------+--------------+\n",
            "|backdrop_path|created_by|episode_run_time|first_air_date|            homepage|    id|in_production|languages|last_air_date|last_episode_to_air|                               name|            networks|next_episode_to_air|number_of_episodes|number_of_seasons|origin_country|original_language|                      original_name|overview|popularity|         poster_path|             seasons|       status|    type|vote_average|vote_count|           genre_ids|   company_ids|\n",
            "+-------------+----------+----------------+--------------+--------------------+------+-------------+---------+-------------+-------------------+-----------------------------------+--------------------+-------------------+------------------+-----------------+--------------+-----------------+-----------------------------------+--------+----------+--------------------+--------------------+-------------+--------+------------+----------+--------------------+--------------+\n",
            "|         null|        []|              []|          null|                    | 39648|        false|     [en]|         null|               null|                     Slasher School|                  []|               null|                 0|                0|          [US]|               en|                     Slasher School|        |       0.6|/kGwEdp2tYTj5Ylyl...|                  []|        Ended|Scripted|         0.0|         0|                [16]|       [88013]|\n",
            "|         null|        []|              []|          null|http://www.loveli...|103511|         true|     [ja]|         null|               null|ラブライブ! 虹ヶ咲学園スクールア...|                  []|               null|                 1|                1|          [JP]|               ja|ラブライブ! 虹ヶ咲学園スクールア...|        |      0.84|/hi7Fbc229kKKn5UF...|[{null, 1, 151004...|In Production|Scripted|         0.0|         0|                [16]|        [3153]|\n",
            "|         null|        []|              []|          null| https://d4dj-pj.com|102655|         true|     [ja]|         null|               null|                     D4DJ First Mix|                  []|               null|                 1|                1|          [JP]|               ja|                     D4DJ First Mix|        |       0.6|/2D5RCACi5vDMf0Jx...|[{null, 1, 149229...|In Production|Scripted|         0.0|         0|                [16]|       [43363]|\n",
            "|         null|        []|              []|          null|                    | 99772|         true|     [ja]|         null|               null|   ヴァンパイヤ・イン・ザ・ガーデン|[{213, /wwemzKWzj...|               null|                 1|                1|          [JP]|               ja|   ヴァンパイヤ・イン・ザ・ガーデン|        |       0.6|                null|[{null, 1, 143982...|In Production|Scripted|         0.0|         0|            [16, 18]|      [119247]|\n",
            "|         null|        []|              []|          null|http://anime-king...|102871|         true|     [ja]|         null|               null|  キングスレイド 意志を継ぐものたち|                  []|               null|                 1|                1|          [JP]|               ja|  キングスレイド 意志を継ぐものたち|        |     0.804|/xJE2Hl4NTJ4xVZQ3...|[{null, 1, 149623...|In Production|Scripted|         0.0|         0|[16, 18, 10759, 1...|[5372, 131964]|\n",
            "+-------------+----------+----------------+--------------+--------------------+------+-------------+---------+-------------+-------------------+-----------------------------------+--------------------+-------------------+------------------+-----------------+--------------+-----------------+-----------------------------------+--------+----------+--------------------+--------------------+-------------+--------+------------+----------+--------------------+--------------+\n",
            "only showing top 5 rows\n",
            "\n"
          ]
        }
      ]
    },
    {
      "cell_type": "markdown",
      "source": [
        "## Load\n",
        "Load the data to data warehouse"
      ],
      "metadata": {
        "id": "1tk9OODk3EGb"
      }
    },
    {
      "cell_type": "markdown",
      "source": [
        "Save all the tables into parquet format"
      ],
      "metadata": {
        "id": "yOZkU5uyx_gF"
      }
    },
    {
      "cell_type": "code",
      "source": [
        "dwh_series.write.parquet(\"series.parquet\")\n",
        "dwh_movies.write.parquet(\"movies.parquet\")\n",
        "dwh_genres.write.parquet(\"genres.parquet\")\n",
        "dwh_companies.write.parquet(\"companies.parquet\")"
      ],
      "metadata": {
        "id": "-_m5bQjQ4MIT"
      },
      "execution_count": 26,
      "outputs": []
    },
    {
      "cell_type": "markdown",
      "source": [
        "Copy file from local machine to GCS"
      ],
      "metadata": {
        "id": "Q9wo0kw57MAe"
      }
    },
    {
      "cell_type": "code",
      "source": [
        "!gcloud auth login"
      ],
      "metadata": {
        "colab": {
          "base_uri": "https://localhost:8080/"
        },
        "id": "_RSsgtkw5Saa",
        "outputId": "e09eadc9-79a0-465a-8124-710ab6512bcc"
      },
      "execution_count": 27,
      "outputs": [
        {
          "output_type": "stream",
          "name": "stdout",
          "text": [
            "Go to the following link in your browser:\n",
            "\n",
            "    https://accounts.google.com/o/oauth2/auth?response_type=code&client_id=32555940559.apps.googleusercontent.com&redirect_uri=urn%3Aietf%3Awg%3Aoauth%3A2.0%3Aoob&scope=openid+https%3A%2F%2Fwww.googleapis.com%2Fauth%2Fuserinfo.email+https%3A%2F%2Fwww.googleapis.com%2Fauth%2Fcloud-platform+https%3A%2F%2Fwww.googleapis.com%2Fauth%2Fappengine.admin+https%3A%2F%2Fwww.googleapis.com%2Fauth%2Fcompute+https%3A%2F%2Fwww.googleapis.com%2Fauth%2Faccounts.reauth&state=I9wUmk4UBaXzuMwWgUo4LeDLALmp1e&prompt=consent&access_type=offline&code_challenge=1iCecBWVgqwW2d1KI111-GygpEHysI2pZKF3CFzxY_o&code_challenge_method=S256\n",
            "\n",
            "Enter verification code: 4/1AX4XfWgQMV-8TDUh8IV4dw8zgtK_sW2wcnIlju1G36fF7L6dXIAkjnLrjyw\n",
            "\n",
            "You are now logged in as [afahmi13@gmail.com].\n",
            "Your current project is [None].  You can change this setting by running:\n",
            "  $ gcloud config set project PROJECT_ID\n"
          ]
        }
      ]
    },
    {
      "cell_type": "code",
      "source": [
        "!gsutil cp -r ./series.parquet gs://de-porto/qoala/series.parquet"
      ],
      "metadata": {
        "colab": {
          "base_uri": "https://localhost:8080/"
        },
        "id": "_X9tR6Lk5fwz",
        "outputId": "b432129f-39fe-4cb0-a0b8-8e13e9414327"
      },
      "execution_count": 28,
      "outputs": [
        {
          "output_type": "stream",
          "name": "stdout",
          "text": [
            "Copying file://./series.parquet/._SUCCESS.crc [Content-Type=application/octet-stream]...\n",
            "Copying file://./series.parquet/_SUCCESS [Content-Type=application/octet-stream]...\n",
            "Copying file://./series.parquet/.part-00001-6ed1c87f-0825-4639-815d-b35b92850225-c000.snappy.parquet.crc [Content-Type=application/octet-stream]...\n",
            "Copying file://./series.parquet/part-00001-6ed1c87f-0825-4639-815d-b35b92850225-c000.snappy.parquet [Content-Type=application/octet-stream]...\n",
            "\\\n",
            "==> NOTE: You are performing a sequence of gsutil operations that may\n",
            "run significantly faster if you instead use gsutil -m cp ... Please\n",
            "see the -m section under \"gsutil help options\" for further information\n",
            "about when gsutil -m can be advantageous.\n",
            "\n",
            "Copying file://./series.parquet/.part-00000-6ed1c87f-0825-4639-815d-b35b92850225-c000.snappy.parquet.crc [Content-Type=application/octet-stream]...\n",
            "Copying file://./series.parquet/part-00000-6ed1c87f-0825-4639-815d-b35b92850225-c000.snappy.parquet [Content-Type=application/octet-stream]...\n",
            "|\n",
            "Operation completed over 6 objects/11.2 MiB.                                     \n"
          ]
        }
      ]
    },
    {
      "cell_type": "markdown",
      "source": [
        "Then we load the data from Google Cloud Storage to BigQuery data warehouse."
      ],
      "metadata": {
        "id": "eQWsue7NyO7G"
      }
    },
    {
      "cell_type": "code",
      "source": [
        "!pip install -q google-cloud-bigquery google-cloud-storage"
      ],
      "metadata": {
        "id": "wrYE8s4I5ICF"
      },
      "execution_count": 29,
      "outputs": []
    },
    {
      "cell_type": "code",
      "source": [
        "def get_files_in_gcs(bucket: str, prefix: str, extension: str):\n",
        "    from google.cloud import storage\n",
        "    gcs_client = storage.Client.from_service_account_json(\"./de-porto-key.json\")\n",
        "\n",
        "    res = []\n",
        "    for blob in gcs_client.list_blobs(bucket, prefix=prefix, ):\n",
        "        suffix = blob.name.split(\".\")[-1]\n",
        "        if suffix == extension:\n",
        "            res.append(f\"gs://{bucket}/{blob.name}\")\n",
        "        \n",
        "    return res"
      ],
      "metadata": {
        "id": "VSL4bPY5sqlo"
      },
      "execution_count": 30,
      "outputs": []
    },
    {
      "cell_type": "code",
      "source": [
        "files = get_files_in_gcs(\"de-porto\", \"qoala/movies.parquet\", \"parquet\")\n",
        "print(files)"
      ],
      "metadata": {
        "colab": {
          "base_uri": "https://localhost:8080/"
        },
        "id": "j2pg_pmY4RRV",
        "outputId": "e9df569b-c2d0-48fd-81f6-b9b6b636d15f"
      },
      "execution_count": 32,
      "outputs": [
        {
          "output_type": "stream",
          "name": "stdout",
          "text": [
            "['gs://de-porto/qoala/movies.parquet/part-00000-903e7f64-15aa-4cab-8145-1e8f470adf52-c000.snappy.parquet', 'gs://de-porto/qoala/movies.parquet/part-00001-903e7f64-15aa-4cab-8145-1e8f470adf52-c000.snappy.parquet', 'gs://de-porto/qoala/movies.parquet/part-00002-903e7f64-15aa-4cab-8145-1e8f470adf52-c000.snappy.parquet', 'gs://de-porto/qoala/movies.parquet/part-00003-903e7f64-15aa-4cab-8145-1e8f470adf52-c000.snappy.parquet', 'gs://de-porto/qoala/movies.parquet/part-00004-903e7f64-15aa-4cab-8145-1e8f470adf52-c000.snappy.parquet']\n"
          ]
        }
      ]
    },
    {
      "cell_type": "code",
      "source": [
        "# load to bigquery\n",
        "def load_parquet_to_bq(project:str, dataset:str, table:str, *uris):\n",
        "    from google.cloud import bigquery\n",
        "    client = bigquery.Client.from_service_account_json(\"./de-porto-key.json\")\n",
        "\n",
        "    config = bigquery.LoadJobConfig(source_format=bigquery.SourceFormat.PARQUET)\n",
        "    table_id = f\"{project}.{dataset}.{table}\"\n",
        "\n",
        "    for uri in uris:\n",
        "        job = client.load_table_from_uri(uri, table_id, job_config=config)\n",
        "\n",
        "        job.result()"
      ],
      "metadata": {
        "id": "IAyV6S3s50In"
      },
      "execution_count": 33,
      "outputs": []
    },
    {
      "cell_type": "code",
      "source": [
        "load_parquet_to_bq(\"de-porto\", \"de_porto\", \"movie_test\", *files)"
      ],
      "metadata": {
        "id": "4C26QFT852-K"
      },
      "execution_count": 34,
      "outputs": []
    }
  ]
}