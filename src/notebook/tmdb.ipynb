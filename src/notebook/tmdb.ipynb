{
  "nbformat": 4,
  "nbformat_minor": 0,
  "metadata": {
    "colab": {
      "name": "tmdb.ipynb",
      "provenance": [],
      "collapsed_sections": [
        "zfMpK8C66hmx",
        "dihZSxw77vyy",
        "r8Q3ZlDaEIGR",
        "6Q78EKiR-t0g",
        "ufpVtE0j71HS"
      ]
    },
    "kernelspec": {
      "name": "python3",
      "display_name": "Python 3"
    },
    "language_info": {
      "name": "python"
    }
  },
  "cells": [
    {
      "cell_type": "markdown",
      "source": [
        "# Fahmi Abdulaziz - Qoala ETL Pipeline Assingment\n",
        "This is development notebook used for ETL development and prototyping."
      ],
      "metadata": {
        "id": "tI2p1V636MDO"
      }
    },
    {
      "cell_type": "markdown",
      "source": [
        "## Preparing Dependencies"
      ],
      "metadata": {
        "id": "zfMpK8C66hmx"
      }
    },
    {
      "cell_type": "code",
      "execution_count": 1,
      "metadata": {
        "id": "-hlh_UWOgIwM",
        "colab": {
          "base_uri": "https://localhost:8080/"
        },
        "outputId": "955c20b8-2f72-49e8-d50e-ecb42ddabaca"
      },
      "outputs": [
        {
          "output_type": "stream",
          "name": "stdout",
          "text": [
            "\u001b[K     |████████████████████████████████| 281.4 MB 35 kB/s \n",
            "\u001b[K     |████████████████████████████████| 198 kB 58.5 MB/s \n",
            "\u001b[?25h  Building wheel for pyspark (setup.py) ... \u001b[?25l\u001b[?25hdone\n"
          ]
        }
      ],
      "source": [
        "!pip install -q pyspark kaggle"
      ]
    },
    {
      "cell_type": "code",
      "source": [
        "from google.colab import drive\n",
        "drive.mount('/content/drive')"
      ],
      "metadata": {
        "id": "jfvWJ_nOEZkh",
        "colab": {
          "base_uri": "https://localhost:8080/"
        },
        "outputId": "0d58cffd-18cf-4ea6-ee6d-6164e9806957"
      },
      "execution_count": 2,
      "outputs": [
        {
          "output_type": "stream",
          "name": "stdout",
          "text": [
            "Mounted at /content/drive\n"
          ]
        }
      ]
    },
    {
      "cell_type": "markdown",
      "source": [
        "preparing kaggle credential"
      ],
      "metadata": {
        "id": "HVTmU6aK7Pty"
      }
    },
    {
      "cell_type": "code",
      "source": [
        "!mkdir -p ~/.kaggle\n",
        "!cp /content/drive/MyDrive/kaggle.json ~/.kaggle/\n",
        "!chmod 600 ~/.kaggle/kaggle.json"
      ],
      "metadata": {
        "id": "qEDmuxJ_h-e0"
      },
      "execution_count": 3,
      "outputs": []
    },
    {
      "cell_type": "markdown",
      "source": [
        "## Preparing Source File"
      ],
      "metadata": {
        "id": "dihZSxw77vyy"
      }
    },
    {
      "cell_type": "markdown",
      "source": [
        "### Download & unzip tmdb dataset"
      ],
      "metadata": {
        "id": "r8Q3ZlDaEIGR"
      }
    },
    {
      "cell_type": "code",
      "source": [
        "%%bash --err null\n",
        "kaggle datasets download edgartanaka1/tmdb-movies-and-series -p /content\n",
        "unzip /content/tmdb-movies-and-series.zip"
      ],
      "metadata": {
        "id": "r8mLfNiniWkG"
      },
      "execution_count": null,
      "outputs": []
    },
    {
      "cell_type": "markdown",
      "source": [
        "### Combining all the files into one JSON\n",
        "This step is unnecessary, but it would speed up file loading a lot."
      ],
      "metadata": {
        "id": "6Q78EKiR-t0g"
      }
    },
    {
      "cell_type": "code",
      "source": [
        "from os import listdir\n",
        "from os.path import isfile, join\n",
        "import json"
      ],
      "metadata": {
        "id": "e1cWdd0Z6LHg"
      },
      "execution_count": null,
      "outputs": []
    },
    {
      "cell_type": "code",
      "source": [
        "def get_files_in_dir(path: str):\n",
        "    return [f for f in listdir(path) if isfile(join(path, f))]"
      ],
      "metadata": {
        "id": "s0wdyTsS-9kS"
      },
      "execution_count": null,
      "outputs": []
    },
    {
      "cell_type": "code",
      "source": [
        "def combine_all_file(dir: str, out: str):\n",
        "    joined_file = open(out, \"a+\")\n",
        "    file_paths = get_files_in_dir(dir)\n",
        "\n",
        "    for file_path in file_paths:\n",
        "        with open(join(dir, file_path)) as f:\n",
        "            payload = f.read()\n",
        "            joined_file.write(payload+'\\n')\n",
        "\n",
        "    joined_file.close()"
      ],
      "metadata": {
        "id": "K2j8Uqlv_Uap"
      },
      "execution_count": null,
      "outputs": []
    },
    {
      "cell_type": "code",
      "source": [
        "for folder in ['series', 'movies']:\n",
        "    dir = join(\"/content\", folder, folder)\n",
        "    out_file = join(\"/content\", folder+\"_joined.json\")\n",
        "    combine_all_file(dir, out_file)"
      ],
      "metadata": {
        "id": "ONMatepzAdzl"
      },
      "execution_count": null,
      "outputs": []
    },
    {
      "cell_type": "markdown",
      "source": [
        ""
      ],
      "metadata": {
        "id": "n9DjOw9vEQTZ"
      }
    },
    {
      "cell_type": "markdown",
      "source": [
        "## Extract"
      ],
      "metadata": {
        "id": "aL_F489oFVj6"
      }
    },
    {
      "cell_type": "code",
      "source": [
        "from pyspark.sql import SparkSession\n",
        "from pyspark.sql.dataframe import DataFrame\n",
        "import pyspark.sql.functions as F"
      ],
      "metadata": {
        "id": "Bso4EyuTEZN5"
      },
      "execution_count": 4,
      "outputs": []
    },
    {
      "cell_type": "code",
      "source": [
        "spark = SparkSession.builder.appName(\"tmdb\") \\\n",
        "    .config(\"spark.driver.maxResultSize\", \"10g\") \\\n",
        "    .getOrCreate()"
      ],
      "metadata": {
        "id": "VAUJwbyDEivb"
      },
      "execution_count": 5,
      "outputs": []
    },
    {
      "cell_type": "code",
      "source": [
        "df_movies = spark.read.json(\"/content/drive/MyDrive/datasets/tmdb/movies_joined.json\")\n",
        "df_series = spark.read.json(\"/content/drive/MyDrive/datasets/tmdb/series_joined.json\")"
      ],
      "metadata": {
        "id": "jeQqYCkzEtWr"
      },
      "execution_count": 6,
      "outputs": []
    },
    {
      "cell_type": "code",
      "source": [
        "df_movies.printSchema()"
      ],
      "metadata": {
        "colab": {
          "base_uri": "https://localhost:8080/"
        },
        "id": "sXxWSSK_ONtu",
        "outputId": "902f7e92-171d-41f8-9521-8bdeea9c2b7d"
      },
      "execution_count": 7,
      "outputs": [
        {
          "output_type": "stream",
          "name": "stdout",
          "text": [
            "root\n",
            " |-- adult: boolean (nullable = true)\n",
            " |-- backdrop_path: string (nullable = true)\n",
            " |-- belongs_to_collection: struct (nullable = true)\n",
            " |    |-- backdrop_path: string (nullable = true)\n",
            " |    |-- id: long (nullable = true)\n",
            " |    |-- name: string (nullable = true)\n",
            " |    |-- poster_path: string (nullable = true)\n",
            " |-- budget: long (nullable = true)\n",
            " |-- genres: array (nullable = true)\n",
            " |    |-- element: struct (containsNull = true)\n",
            " |    |    |-- id: long (nullable = true)\n",
            " |    |    |-- name: string (nullable = true)\n",
            " |-- homepage: string (nullable = true)\n",
            " |-- id: long (nullable = true)\n",
            " |-- imdb_id: string (nullable = true)\n",
            " |-- original_language: string (nullable = true)\n",
            " |-- original_title: string (nullable = true)\n",
            " |-- overview: string (nullable = true)\n",
            " |-- popularity: double (nullable = true)\n",
            " |-- poster_path: string (nullable = true)\n",
            " |-- production_companies: array (nullable = true)\n",
            " |    |-- element: struct (containsNull = true)\n",
            " |    |    |-- id: long (nullable = true)\n",
            " |    |    |-- logo_path: string (nullable = true)\n",
            " |    |    |-- name: string (nullable = true)\n",
            " |    |    |-- origin_country: string (nullable = true)\n",
            " |-- production_countries: array (nullable = true)\n",
            " |    |-- element: struct (containsNull = true)\n",
            " |    |    |-- iso_3166_1: string (nullable = true)\n",
            " |    |    |-- name: string (nullable = true)\n",
            " |-- release_date: string (nullable = true)\n",
            " |-- revenue: long (nullable = true)\n",
            " |-- runtime: long (nullable = true)\n",
            " |-- spoken_languages: array (nullable = true)\n",
            " |    |-- element: struct (containsNull = true)\n",
            " |    |    |-- iso_639_1: string (nullable = true)\n",
            " |    |    |-- name: string (nullable = true)\n",
            " |-- status: string (nullable = true)\n",
            " |-- tagline: string (nullable = true)\n",
            " |-- title: string (nullable = true)\n",
            " |-- video: boolean (nullable = true)\n",
            " |-- vote_average: double (nullable = true)\n",
            " |-- vote_count: long (nullable = true)\n",
            "\n"
          ]
        }
      ]
    },
    {
      "cell_type": "code",
      "source": [
        "df_series.printSchema()"
      ],
      "metadata": {
        "colab": {
          "base_uri": "https://localhost:8080/"
        },
        "id": "RXfIFmtN78Uf",
        "outputId": "9de0c999-e7ba-4490-e343-80778dfb451b"
      },
      "execution_count": 8,
      "outputs": [
        {
          "output_type": "stream",
          "name": "stdout",
          "text": [
            "root\n",
            " |-- backdrop_path: string (nullable = true)\n",
            " |-- created_by: array (nullable = true)\n",
            " |    |-- element: struct (containsNull = true)\n",
            " |    |    |-- credit_id: string (nullable = true)\n",
            " |    |    |-- gender: long (nullable = true)\n",
            " |    |    |-- id: long (nullable = true)\n",
            " |    |    |-- name: string (nullable = true)\n",
            " |    |    |-- profile_path: string (nullable = true)\n",
            " |-- episode_run_time: array (nullable = true)\n",
            " |    |-- element: long (containsNull = true)\n",
            " |-- first_air_date: string (nullable = true)\n",
            " |-- genres: array (nullable = true)\n",
            " |    |-- element: struct (containsNull = true)\n",
            " |    |    |-- id: long (nullable = true)\n",
            " |    |    |-- name: string (nullable = true)\n",
            " |-- homepage: string (nullable = true)\n",
            " |-- id: long (nullable = true)\n",
            " |-- in_production: boolean (nullable = true)\n",
            " |-- languages: array (nullable = true)\n",
            " |    |-- element: string (containsNull = true)\n",
            " |-- last_air_date: string (nullable = true)\n",
            " |-- last_episode_to_air: struct (nullable = true)\n",
            " |    |-- air_date: string (nullable = true)\n",
            " |    |-- episode_number: long (nullable = true)\n",
            " |    |-- id: long (nullable = true)\n",
            " |    |-- name: string (nullable = true)\n",
            " |    |-- overview: string (nullable = true)\n",
            " |    |-- production_code: string (nullable = true)\n",
            " |    |-- season_number: long (nullable = true)\n",
            " |    |-- show_id: long (nullable = true)\n",
            " |    |-- still_path: string (nullable = true)\n",
            " |    |-- vote_average: double (nullable = true)\n",
            " |    |-- vote_count: long (nullable = true)\n",
            " |-- name: string (nullable = true)\n",
            " |-- networks: array (nullable = true)\n",
            " |    |-- element: struct (containsNull = true)\n",
            " |    |    |-- id: long (nullable = true)\n",
            " |    |    |-- logo_path: string (nullable = true)\n",
            " |    |    |-- name: string (nullable = true)\n",
            " |    |    |-- origin_country: string (nullable = true)\n",
            " |-- next_episode_to_air: struct (nullable = true)\n",
            " |    |-- air_date: string (nullable = true)\n",
            " |    |-- episode_number: long (nullable = true)\n",
            " |    |-- id: long (nullable = true)\n",
            " |    |-- name: string (nullable = true)\n",
            " |    |-- overview: string (nullable = true)\n",
            " |    |-- production_code: string (nullable = true)\n",
            " |    |-- season_number: long (nullable = true)\n",
            " |    |-- show_id: long (nullable = true)\n",
            " |    |-- still_path: string (nullable = true)\n",
            " |    |-- vote_average: double (nullable = true)\n",
            " |    |-- vote_count: long (nullable = true)\n",
            " |-- number_of_episodes: long (nullable = true)\n",
            " |-- number_of_seasons: long (nullable = true)\n",
            " |-- origin_country: array (nullable = true)\n",
            " |    |-- element: string (containsNull = true)\n",
            " |-- original_language: string (nullable = true)\n",
            " |-- original_name: string (nullable = true)\n",
            " |-- overview: string (nullable = true)\n",
            " |-- popularity: double (nullable = true)\n",
            " |-- poster_path: string (nullable = true)\n",
            " |-- production_companies: array (nullable = true)\n",
            " |    |-- element: struct (containsNull = true)\n",
            " |    |    |-- id: long (nullable = true)\n",
            " |    |    |-- logo_path: string (nullable = true)\n",
            " |    |    |-- name: string (nullable = true)\n",
            " |    |    |-- origin_country: string (nullable = true)\n",
            " |-- seasons: array (nullable = true)\n",
            " |    |-- element: struct (containsNull = true)\n",
            " |    |    |-- air_date: string (nullable = true)\n",
            " |    |    |-- episode_count: long (nullable = true)\n",
            " |    |    |-- id: long (nullable = true)\n",
            " |    |    |-- name: string (nullable = true)\n",
            " |    |    |-- overview: string (nullable = true)\n",
            " |    |    |-- poster_path: string (nullable = true)\n",
            " |    |    |-- season_number: long (nullable = true)\n",
            " |-- status: string (nullable = true)\n",
            " |-- type: string (nullable = true)\n",
            " |-- vote_average: double (nullable = true)\n",
            " |-- vote_count: long (nullable = true)\n",
            "\n"
          ]
        }
      ]
    },
    {
      "cell_type": "markdown",
      "source": [
        "## Exploration"
      ],
      "metadata": {
        "id": "8ZbaNrvzdCCO"
      }
    },
    {
      "cell_type": "markdown",
      "source": [
        "### Array struct column type consistency check\n",
        "The repetitive value in `Array - Struct` column type could create inconsistency between data. In this part we will try to check if the data in `Array - Struct` filed is consistent"
      ],
      "metadata": {
        "id": "666i6tWDebFv"
      }
    },
    {
      "cell_type": "code",
      "source": [
        "# utility function\n",
        "def explode_array_column(dataframe: DataFrame, column: str, new_column: str):\n",
        "    return dataframe.select(F.col(column)) \\\n",
        "        .where(F.size(F.col(column)) > 0 ) \\\n",
        "        .withColumn(new_column, F.explode(F.col(column))) \\\n",
        "        .select(F.col(new_column)) \\\n",
        "        \n",
        "\n",
        "\n",
        "def check_array_struct_uniqueness(dataframe: DataFrame, column: str, id_key: str):\n",
        "    res_table = explode_array_column(dataframe, column, \"temp\") \\\n",
        "        .select(F.col(f\"temp.*\")) \\\n",
        "        .distinct() \\\n",
        "        .groupBy(id_key).count() \\\n",
        "        .where(F.col(\"count\") > 1)\n",
        "    \n",
        "    if res_table.count() > 0:\n",
        "        print(f\"Data in column {column} is inconsistent\")\n",
        "        res_table.show(10)"
      ],
      "metadata": {
        "id": "ZXrslSsiTZX5"
      },
      "execution_count": 17,
      "outputs": []
    },
    {
      "cell_type": "code",
      "source": [
        "check_array_struct_uniqueness(df_movies, \"production_companies\", \"id\")\n",
        "check_array_struct_uniqueness(df_movies, \"genres\", \"id\")\n",
        "check_array_struct_uniqueness(df_movies, \"spoken_languages\", \"iso_639_1\")\n",
        "check_array_struct_uniqueness(df_movies, \"production_countries\", \"iso_3166_1\")\n",
        "check_array_struct_uniqueness(df_movies, \"genres\", \"id\")\n",
        "check_array_struct_uniqueness(df_series, \"genres\", \"id\")\n",
        "check_array_struct_uniqueness(df_series, \"networks\", \"id\")\n",
        "check_array_struct_uniqueness(df_series, \"production_companies\", \"id\")"
      ],
      "metadata": {
        "colab": {
          "base_uri": "https://localhost:8080/"
        },
        "id": "sllFvvcyUskC",
        "outputId": "2546301d-9476-454e-a8da-d439f22dc302"
      },
      "execution_count": 19,
      "outputs": [
        {
          "output_type": "stream",
          "name": "stdout",
          "text": [
            "Data in column production_companies is inconsistent\n",
            "+----+-----+\n",
            "|  id|count|\n",
            "+----+-----+\n",
            "| 215|    2|\n",
            "|6689|    2|\n",
            "+----+-----+\n",
            "\n"
          ]
        }
      ]
    },
    {
      "cell_type": "code",
      "source": [
        "df_movies.select(F.explode(\"production_companies\")).select(\"col.*\").where((F.col(\"id\") == 215)).show()\n",
        "df_movies.select(F.explode(\"production_companies\")).select(\"col.*\").where((F.col(\"id\") == 6689)).show()\n",
        "\n",
        "# if we take a look at the below result, it shows that both companies has incosistencies in it's data\n",
        "# for this project, I will just leave warning in pipeline"
      ],
      "metadata": {
        "colab": {
          "base_uri": "https://localhost:8080/"
        },
        "id": "oQ6O7athjIOG",
        "outputId": "743ffdbc-72a5-4baf-9eaa-e5bbf1a978ef"
      },
      "execution_count": 23,
      "outputs": [
        {
          "output_type": "stream",
          "name": "stdout",
          "text": [
            "+---+--------------------+--------------------+--------------+\n",
            "| id|           logo_path|                name|origin_country|\n",
            "+---+--------------------+--------------------+--------------+\n",
            "|215|/tQyeqkCj24krhY2W...|Double Feature Films|            US|\n",
            "|215|/tQyeqkCj24krhY2W...|Double Feature Films|            US|\n",
            "|215|/tQyeqkCj24krhY2W...|Double Feature Films|            US|\n",
            "|215|/tQyeqkCj24krhY2W...|Double Feature Films|            US|\n",
            "|215|/tQyeqkCj24krhY2W...|Double Feature Films|            US|\n",
            "|215|/tQyeqkCj24krhY2W...|Double Feature Films|            US|\n",
            "|215|/tQyeqkCj24krhY2W...|Double Feature Films|            US|\n",
            "|215|/tQyeqkCj24krhY2W...|Double Feature Films|            US|\n",
            "|215|/tQyeqkCj24krhY2W...|Double Feature Films|            US|\n",
            "|215|/tQyeqkCj24krhY2W...|Double Feature Films|            US|\n",
            "|215|/tQyeqkCj24krhY2W...|Double Feature Films|              |\n",
            "|215|/tQyeqkCj24krhY2W...|Double Feature Films|            US|\n",
            "|215|/tQyeqkCj24krhY2W...|Double Feature Films|            US|\n",
            "|215|/tQyeqkCj24krhY2W...|Double Feature Films|            US|\n",
            "|215|/tQyeqkCj24krhY2W...|Double Feature Films|              |\n",
            "|215|/tQyeqkCj24krhY2W...|Double Feature Films|            US|\n",
            "+---+--------------------+--------------------+--------------+\n",
            "\n",
            "+----+--------------------+-----+--------------+\n",
            "|  id|           logo_path| name|origin_country|\n",
            "+----+--------------------+-----+--------------+\n",
            "|6689|/i6J2W84TzUf59PdM...|SHAFT|            JP|\n",
            "|6689|/i6J2W84TzUf59PdM...|SHAFT|            JP|\n",
            "|6689|/vaKMJDLIZCeqhGC5...|SHAFT|            JP|\n",
            "|6689|/i6J2W84TzUf59PdM...|SHAFT|            JP|\n",
            "|6689|/i6J2W84TzUf59PdM...|SHAFT|            JP|\n",
            "|6689|/i6J2W84TzUf59PdM...|SHAFT|            JP|\n",
            "|6689|/i6J2W84TzUf59PdM...|SHAFT|            JP|\n",
            "|6689|/i6J2W84TzUf59PdM...|SHAFT|            JP|\n",
            "|6689|/vaKMJDLIZCeqhGC5...|SHAFT|            JP|\n",
            "|6689|/vaKMJDLIZCeqhGC5...|SHAFT|            JP|\n",
            "|6689|/i6J2W84TzUf59PdM...|SHAFT|            JP|\n",
            "|6689|/i6J2W84TzUf59PdM...|SHAFT|            JP|\n",
            "|6689|/i6J2W84TzUf59PdM...|SHAFT|            JP|\n",
            "|6689|/i6J2W84TzUf59PdM...|SHAFT|            JP|\n",
            "|6689|/i6J2W84TzUf59PdM...|SHAFT|            JP|\n",
            "|6689|/vaKMJDLIZCeqhGC5...|SHAFT|            JP|\n",
            "|6689|/i6J2W84TzUf59PdM...|SHAFT|            JP|\n",
            "|6689|/i6J2W84TzUf59PdM...|SHAFT|            JP|\n",
            "|6689|/vaKMJDLIZCeqhGC5...|SHAFT|            JP|\n",
            "|6689|/vaKMJDLIZCeqhGC5...|SHAFT|            JP|\n",
            "+----+--------------------+-----+--------------+\n",
            "only showing top 20 rows\n",
            "\n"
          ]
        }
      ]
    },
    {
      "cell_type": "code",
      "source": [
        "df_movies.printSchema()"
      ],
      "metadata": {
        "colab": {
          "base_uri": "https://localhost:8080/"
        },
        "id": "nMeq0ZjMiRS8",
        "outputId": "c57e9a1f-5041-4f80-e756-ee6e4615ecab"
      },
      "execution_count": 15,
      "outputs": [
        {
          "output_type": "stream",
          "name": "stdout",
          "text": [
            "root\n",
            " |-- adult: boolean (nullable = true)\n",
            " |-- backdrop_path: string (nullable = true)\n",
            " |-- belongs_to_collection: struct (nullable = true)\n",
            " |    |-- backdrop_path: string (nullable = true)\n",
            " |    |-- id: long (nullable = true)\n",
            " |    |-- name: string (nullable = true)\n",
            " |    |-- poster_path: string (nullable = true)\n",
            " |-- budget: long (nullable = true)\n",
            " |-- genres: array (nullable = true)\n",
            " |    |-- element: struct (containsNull = true)\n",
            " |    |    |-- id: long (nullable = true)\n",
            " |    |    |-- name: string (nullable = true)\n",
            " |-- homepage: string (nullable = true)\n",
            " |-- id: long (nullable = true)\n",
            " |-- imdb_id: string (nullable = true)\n",
            " |-- original_language: string (nullable = true)\n",
            " |-- original_title: string (nullable = true)\n",
            " |-- overview: string (nullable = true)\n",
            " |-- popularity: double (nullable = true)\n",
            " |-- poster_path: string (nullable = true)\n",
            " |-- production_companies: array (nullable = true)\n",
            " |    |-- element: struct (containsNull = true)\n",
            " |    |    |-- id: long (nullable = true)\n",
            " |    |    |-- logo_path: string (nullable = true)\n",
            " |    |    |-- name: string (nullable = true)\n",
            " |    |    |-- origin_country: string (nullable = true)\n",
            " |-- production_countries: array (nullable = true)\n",
            " |    |-- element: struct (containsNull = true)\n",
            " |    |    |-- iso_3166_1: string (nullable = true)\n",
            " |    |    |-- name: string (nullable = true)\n",
            " |-- release_date: string (nullable = true)\n",
            " |-- revenue: long (nullable = true)\n",
            " |-- runtime: long (nullable = true)\n",
            " |-- spoken_languages: array (nullable = true)\n",
            " |    |-- element: struct (containsNull = true)\n",
            " |    |    |-- iso_639_1: string (nullable = true)\n",
            " |    |    |-- name: string (nullable = true)\n",
            " |-- status: string (nullable = true)\n",
            " |-- tagline: string (nullable = true)\n",
            " |-- title: string (nullable = true)\n",
            " |-- video: boolean (nullable = true)\n",
            " |-- vote_average: double (nullable = true)\n",
            " |-- vote_count: long (nullable = true)\n",
            "\n"
          ]
        }
      ]
    },
    {
      "cell_type": "code",
      "source": [
        "df_series.printSchema()"
      ],
      "metadata": {
        "colab": {
          "base_uri": "https://localhost:8080/"
        },
        "id": "hPlDL3E0hwZL",
        "outputId": "5fa68e0c-8e29-4a0f-fdc6-cf72fcc18cf6"
      },
      "execution_count": 14,
      "outputs": [
        {
          "output_type": "stream",
          "name": "stdout",
          "text": [
            "root\n",
            " |-- backdrop_path: string (nullable = true)\n",
            " |-- created_by: array (nullable = true)\n",
            " |    |-- element: struct (containsNull = true)\n",
            " |    |    |-- credit_id: string (nullable = true)\n",
            " |    |    |-- gender: long (nullable = true)\n",
            " |    |    |-- id: long (nullable = true)\n",
            " |    |    |-- name: string (nullable = true)\n",
            " |    |    |-- profile_path: string (nullable = true)\n",
            " |-- episode_run_time: array (nullable = true)\n",
            " |    |-- element: long (containsNull = true)\n",
            " |-- first_air_date: string (nullable = true)\n",
            " |-- genres: array (nullable = true)\n",
            " |    |-- element: struct (containsNull = true)\n",
            " |    |    |-- id: long (nullable = true)\n",
            " |    |    |-- name: string (nullable = true)\n",
            " |-- homepage: string (nullable = true)\n",
            " |-- id: long (nullable = true)\n",
            " |-- in_production: boolean (nullable = true)\n",
            " |-- languages: array (nullable = true)\n",
            " |    |-- element: string (containsNull = true)\n",
            " |-- last_air_date: string (nullable = true)\n",
            " |-- last_episode_to_air: struct (nullable = true)\n",
            " |    |-- air_date: string (nullable = true)\n",
            " |    |-- episode_number: long (nullable = true)\n",
            " |    |-- id: long (nullable = true)\n",
            " |    |-- name: string (nullable = true)\n",
            " |    |-- overview: string (nullable = true)\n",
            " |    |-- production_code: string (nullable = true)\n",
            " |    |-- season_number: long (nullable = true)\n",
            " |    |-- show_id: long (nullable = true)\n",
            " |    |-- still_path: string (nullable = true)\n",
            " |    |-- vote_average: double (nullable = true)\n",
            " |    |-- vote_count: long (nullable = true)\n",
            " |-- name: string (nullable = true)\n",
            " |-- networks: array (nullable = true)\n",
            " |    |-- element: struct (containsNull = true)\n",
            " |    |    |-- id: long (nullable = true)\n",
            " |    |    |-- logo_path: string (nullable = true)\n",
            " |    |    |-- name: string (nullable = true)\n",
            " |    |    |-- origin_country: string (nullable = true)\n",
            " |-- next_episode_to_air: struct (nullable = true)\n",
            " |    |-- air_date: string (nullable = true)\n",
            " |    |-- episode_number: long (nullable = true)\n",
            " |    |-- id: long (nullable = true)\n",
            " |    |-- name: string (nullable = true)\n",
            " |    |-- overview: string (nullable = true)\n",
            " |    |-- production_code: string (nullable = true)\n",
            " |    |-- season_number: long (nullable = true)\n",
            " |    |-- show_id: long (nullable = true)\n",
            " |    |-- still_path: string (nullable = true)\n",
            " |    |-- vote_average: double (nullable = true)\n",
            " |    |-- vote_count: long (nullable = true)\n",
            " |-- number_of_episodes: long (nullable = true)\n",
            " |-- number_of_seasons: long (nullable = true)\n",
            " |-- origin_country: array (nullable = true)\n",
            " |    |-- element: string (containsNull = true)\n",
            " |-- original_language: string (nullable = true)\n",
            " |-- original_name: string (nullable = true)\n",
            " |-- overview: string (nullable = true)\n",
            " |-- popularity: double (nullable = true)\n",
            " |-- poster_path: string (nullable = true)\n",
            " |-- production_companies: array (nullable = true)\n",
            " |    |-- element: struct (containsNull = true)\n",
            " |    |    |-- id: long (nullable = true)\n",
            " |    |    |-- logo_path: string (nullable = true)\n",
            " |    |    |-- name: string (nullable = true)\n",
            " |    |    |-- origin_country: string (nullable = true)\n",
            " |-- seasons: array (nullable = true)\n",
            " |    |-- element: struct (containsNull = true)\n",
            " |    |    |-- air_date: string (nullable = true)\n",
            " |    |    |-- episode_count: long (nullable = true)\n",
            " |    |    |-- id: long (nullable = true)\n",
            " |    |    |-- name: string (nullable = true)\n",
            " |    |    |-- overview: string (nullable = true)\n",
            " |    |    |-- poster_path: string (nullable = true)\n",
            " |    |    |-- season_number: long (nullable = true)\n",
            " |-- status: string (nullable = true)\n",
            " |-- type: string (nullable = true)\n",
            " |-- vote_average: double (nullable = true)\n",
            " |-- vote_count: long (nullable = true)\n",
            "\n"
          ]
        }
      ]
    },
    {
      "cell_type": "markdown",
      "source": [
        "### Common field\n",
        "both series and movies dataset has one same column, `genres` and `production_companies` column. This column has `ArrayType` type consists `Struct`. Yet we are not sure wether those two field has the same `id` and `name`. This part will try to check if `genres` & `production_companies` on both datasets are the same."
      ],
      "metadata": {
        "id": "TXmJrLhjdP-a"
      }
    },
    {
      "cell_type": "code",
      "source": [
        "# Comparing genres between two datasets\n",
        "\n",
        "df_series_gen = df_series.select(F.explode(F.col(\"genres\"))).select(F.col(\"col.*\")) \\\n",
        "    .withColumnRenamed(\"id\", \"series_id\") \\\n",
        "    .withColumnRenamed(\"name\", \"series_genre\") \\\n",
        "    .distinct()\n",
        "df_movies_gen = df_movies.select(F.explode(F.col(\"genres\"))).select(F.col(\"col.*\")) \\\n",
        "    .withColumnRenamed(\"id\", \"movies_id\") \\\n",
        "    .withColumnRenamed(\"name\", \"movies_genre\") \\\n",
        "    .distinct()\n",
        "\n",
        "genre_comparison = df_series_gen \\\n",
        "    .join(df_movies_gen, df_series_gen.series_id == df_movies_gen.movies_id, \"full\")\n",
        "genre_comparison.show(5)\n",
        "\n",
        "# from the result below it seems that the id and genres between two table are the same"
      ],
      "metadata": {
        "colab": {
          "base_uri": "https://localhost:8080/"
        },
        "id": "psGk8ChF9l7W",
        "outputId": "cd518dd8-0c8b-49cd-f6f5-0850d678adae"
      },
      "execution_count": 24,
      "outputs": [
        {
          "output_type": "stream",
          "name": "stdout",
          "text": [
            "+---------+------------+---------+------------+\n",
            "|series_id|series_genre|movies_id|movies_genre|\n",
            "+---------+------------+---------+------------+\n",
            "|       12|   Adventure|       12|   Adventure|\n",
            "|       14|     Fantasy|       14|     Fantasy|\n",
            "|       16|   Animation|       16|   Animation|\n",
            "|       18|       Drama|       18|       Drama|\n",
            "|       22|     Musical|     null|        null|\n",
            "+---------+------------+---------+------------+\n",
            "only showing top 5 rows\n",
            "\n"
          ]
        }
      ]
    },
    {
      "cell_type": "code",
      "source": [
        "# decide to check futher by looking for inequality between series_genre and movies_genre\n",
        "genre_comparison.where(F.col(\"movies_id\").isNotNull() & F.col(\"series_id\").isNotNull() & (F.col(\"movies_genre\") != F.col(\"series_genre\"))).show()\n",
        "\n",
        "# the result below show that between series and movies dataset the genre id are consistent,\n",
        "# hence this lead the decision to normalize genre table"
      ],
      "metadata": {
        "colab": {
          "base_uri": "https://localhost:8080/"
        },
        "id": "_Pt7s5eXB33p",
        "outputId": "065dd645-b55b-4de3-b749-78f9ed4a0980"
      },
      "execution_count": 27,
      "outputs": [
        {
          "output_type": "stream",
          "name": "stdout",
          "text": [
            "+---------+------------+---------+------------+\n",
            "|series_id|series_genre|movies_id|movies_genre|\n",
            "+---------+------------+---------+------------+\n",
            "+---------+------------+---------+------------+\n",
            "\n"
          ]
        }
      ]
    },
    {
      "cell_type": "code",
      "source": [
        "genre_comparison \\\n",
        "    .withColumn(\"id\", F.when(F.col(\"series_id\").isNull(), F.col(\"movies_id\")).otherwise(F.col(\"series_id\"))) \\\n",
        "    .withColumn(\"genre\", F.when(F.col(\"series_id\").isNull(), F.col(\"movies_genre\")).otherwise(F.col(\"series_genre\"))) \\\n",
        "    .select([\"id\", \"genre\"]) \\\n",
        "    .show(5)\n",
        "\n",
        "# the below table will be used for dimension table"
      ],
      "metadata": {
        "colab": {
          "base_uri": "https://localhost:8080/"
        },
        "id": "rgrYyA6fp4jl",
        "outputId": "cfc9c9a0-90ff-416e-e192-3e2bef9a8b30"
      },
      "execution_count": 41,
      "outputs": [
        {
          "output_type": "stream",
          "name": "stdout",
          "text": [
            "+---+---------+\n",
            "| id|    genre|\n",
            "+---+---------+\n",
            "| 12|Adventure|\n",
            "| 14|  Fantasy|\n",
            "| 16|Animation|\n",
            "| 18|    Drama|\n",
            "| 22|  Musical|\n",
            "+---+---------+\n",
            "only showing top 5 rows\n",
            "\n"
          ]
        }
      ]
    },
    {
      "cell_type": "code",
      "source": [
        "# Comparing production_companies between two datasets\n",
        "\n",
        "df_series_com = df_series.select(F.explode(F.col(\"production_companies\"))).select(F.col(\"col.*\")) \\\n",
        "    .select([\"id\", \"name\", \"origin_country\"]) \\\n",
        "    .withColumnRenamed(\"id\", \"series_id\") \\\n",
        "    .withColumnRenamed(\"name\", \"series_company\") \\\n",
        "    .withColumnRenamed(\"origin_country\", \"series_origin_country\") \\\n",
        "    .distinct()\n",
        "df_movies_com = df_movies.select(F.explode(F.col(\"production_companies\"))).select(F.col(\"col.*\")) \\\n",
        "    .select([\"id\", \"name\", \"origin_country\"]) \\\n",
        "    .withColumnRenamed(\"id\", \"movies_id\") \\\n",
        "    .withColumnRenamed(\"name\", \"movies_company\") \\\n",
        "    .withColumnRenamed(\"origin_country\", \"movies_origin_country\") \\\n",
        "    .distinct()\n",
        "\n",
        "companies_comparison = df_series_com \\\n",
        "    .join(df_movies_com, df_series_com.series_id == df_movies_com.movies_id, \"full\")\n",
        "companies_comparison.show(5)\n",
        "\n",
        "# from the result below it seems that the id and genres between two table are the same"
      ],
      "metadata": {
        "colab": {
          "base_uri": "https://localhost:8080/"
        },
        "id": "I8wd-Lximen9",
        "outputId": "0a0e7bf1-a2ab-4606-b0dd-c1cc9b5a766f"
      },
      "execution_count": 29,
      "outputs": [
        {
          "output_type": "stream",
          "name": "stdout",
          "text": [
            "+---------+-------------------+---------------------+---------+-------------------+---------------------+\n",
            "|series_id|     series_company|series_origin_country|movies_id|     movies_company|movies_origin_country|\n",
            "+---------+-------------------+---------------------+---------+-------------------+---------------------+\n",
            "|        1|     Lucasfilm Ltd.|                   US|        1|     Lucasfilm Ltd.|                   US|\n",
            "|        5|  Columbia Pictures|                   US|        5|  Columbia Pictures|                   US|\n",
            "|     null|               null|                 null|        6| RKO Radio Pictures|                   US|\n",
            "|        7|DreamWorks Pictures|                   US|        7|DreamWorks Pictures|                   US|\n",
            "|        9|            Gaumont|                   FR|        9|            Gaumont|                   FR|\n",
            "+---------+-------------------+---------------------+---------+-------------------+---------------------+\n",
            "only showing top 5 rows\n",
            "\n"
          ]
        }
      ]
    },
    {
      "cell_type": "code",
      "source": [
        "# decide to check futher by looking for inequality between series_genre and movies_genre\n",
        "companies_comparison \\\n",
        ".where(F.col(\"movies_id\").isNotNull() \\\n",
        "       & F.col(\"series_id\").isNotNull() \\\n",
        "       & (F.col(\"movies_company\") != F.col(\"series_company\")) \\\n",
        "       & (F.col(\"movies_origin_country\") != F.col(\"series_origin_country\"))) \\\n",
        ".show()\n",
        "\n",
        "# the below table will be used for dimension table"
      ],
      "metadata": {
        "colab": {
          "base_uri": "https://localhost:8080/"
        },
        "id": "Au0J9MjCn3n7",
        "outputId": "841cd070-1727-47c4-ea2d-3a8de963c34e"
      },
      "execution_count": 43,
      "outputs": [
        {
          "output_type": "stream",
          "name": "stdout",
          "text": [
            "+---------+--------------+---------------------+---------+--------------+---------------------+\n",
            "|series_id|series_company|series_origin_country|movies_id|movies_company|movies_origin_country|\n",
            "+---------+--------------+---------------------+---------+--------------+---------------------+\n",
            "+---------+--------------+---------------------+---------+--------------+---------------------+\n",
            "\n"
          ]
        }
      ]
    },
    {
      "cell_type": "code",
      "source": [
        "companies_comparison \\\n",
        "    .withColumn(\"id\", F.when(F.col(\"series_id\").isNull(), F.col(\"movies_id\")).otherwise(F.col(\"series_id\"))) \\\n",
        "    .withColumn(\"company\", F.when(F.col(\"series_id\").isNull(), F.col(\"movies_company\")).otherwise(F.col(\"series_company\"))) \\\n",
        "    .withColumn(\"origin_country\", F.when(F.col(\"series_id\").isNull(), F.col(\"movies_origin_country\")).otherwise(F.col(\"series_origin_country\"))) \\\n",
        "    .select([\"id\", \"company\", \"origin_country\"]) \\\n",
        "    .where(F.col(\"origin_country\").isNotNull()) \\\n",
        "    .show(5)\n",
        "\n",
        "# since there is no inconsistency in this table, we will normalize this table"
      ],
      "metadata": {
        "colab": {
          "base_uri": "https://localhost:8080/"
        },
        "id": "z2fmiIcvpbNv",
        "outputId": "b760127f-14eb-4979-f100-9957d952dc94"
      },
      "execution_count": 47,
      "outputs": [
        {
          "output_type": "stream",
          "name": "stdout",
          "text": [
            "+---+-------------------+--------------+\n",
            "| id|            company|origin_country|\n",
            "+---+-------------------+--------------+\n",
            "|  1|     Lucasfilm Ltd.|            US|\n",
            "|  5|  Columbia Pictures|            US|\n",
            "|  6| RKO Radio Pictures|            US|\n",
            "|  7|DreamWorks Pictures|            US|\n",
            "|  9|            Gaumont|            FR|\n",
            "+---+-------------------+--------------+\n",
            "only showing top 5 rows\n",
            "\n"
          ]
        }
      ]
    },
    {
      "cell_type": "markdown",
      "source": [
        "## Transform"
      ],
      "metadata": {
        "id": "Xa2gbBpmaRFp"
      }
    },
    {
      "cell_type": "code",
      "source": [
        "# drop genre and companies\n",
        "initial_columns = df_movies.schema.names\n",
        "\n",
        "df_movies \\\n",
        "    .withColumn(\"genre\", F.explode(\"genres\")) \\\n",
        "    .select(*initial_columns, F.col(\"genre.id\").alias(\"genre_id\")) \\\n",
        "    .groupBy(*initial_columns).agg(F.collect_list(\"genre_id\").alias(\"genre_ids\")) \\\n",
        "    .withColumn(\"company\", F.explode(\"production_companies\")) \\\n",
        "    .select(*initial_columns, \"genre_ids\", F.col(\"company.id\").alias(\"company_id\")) \\\n",
        "    .groupBy(*initial_columns, \"genre_ids\").agg(F.collect_list(\"company_id\").alias(\"company_ids\")) \\\n",
        "    .drop(\"genres\", \"production_companies\") \\\n",
        "    .orderBy(F.col(\"id\")) \\\n",
        "    .show()\n",
        "\n",
        "# the table below will be saved to dwh as factual table"
      ],
      "metadata": {
        "colab": {
          "base_uri": "https://localhost:8080/"
        },
        "id": "6YGEkMrRsd1E",
        "outputId": "0fdd97eb-f423-447a-ea77-519a8aa3b8fb"
      },
      "execution_count": 69,
      "outputs": [
        {
          "output_type": "stream",
          "name": "stdout",
          "text": [
            "+-----+--------------------+---------------------+---------+--------------------+---+---------+-----------------+--------------------+--------------------+----------+--------------------+--------------------+------------+---------+-------+--------------------+--------+--------------------+--------------------+-----+------------+----------+--------------------+--------------------+\n",
            "|adult|       backdrop_path|belongs_to_collection|   budget|            homepage| id|  imdb_id|original_language|      original_title|            overview|popularity|         poster_path|production_countries|release_date|  revenue|runtime|    spoken_languages|  status|             tagline|               title|video|vote_average|vote_count|           genre_ids|         company_ids|\n",
            "+-----+--------------------+---------------------+---------+--------------------+---+---------+-----------------+--------------------+--------------------+----------+--------------------+--------------------+------------+---------+-------+--------------------+--------+--------------------+--------------------+-----+------------+----------+--------------------+--------------------+\n",
            "|false|/kpuTCMw3v2AuKjqG...|                 null|        0|                    |  2|tt0094675|               fi|               Ariel|Taisto Kasurinen ...|    10.764|/ojDg0PGvs6R9xYFo...|     [{FI, Finland}]|  1988-10-21|        0|     73|[{fi, suomi}, {de...|Released|                    |               Ariel|false|         6.8|       105|        [18, 80, 35]|              [2303]|\n",
            "|false|/jMmHFm0TcjiN9QDI...|                 null|        0|                    |  3|tt0092149|               fi|Varjoja paratiisissa|An episode in the...|      7.47|/nj01hspawPof0mJm...|     [{FI, Finland}]|  1986-10-17|        0|     72|[{en, English}, {...|Released|                    | Shadows in Paradise|false|         7.3|       113|            [18, 35]|              [2303]|\n",
            "|false|/5J9lhMZHVQRfH8BV...|                 null|  4000000|                    |  5|tt0113101|               en|          Four Rooms|It's Ted the Bell...|    13.289|/uZSmxBLIuZ8gpadj...|[{US, United Stat...|  1995-12-09|  4257354|     98|     [{en, English}]|Released|Twelve outrageous...|          Four Rooms|false|         5.9|      1648|            [80, 35]|            [14, 59]|\n",
            "|false|/5aXp2s4l6g5PcMMe...|                 null| 21000000|                    |  6|tt0107286|               en|      Judgment Night|While racing to a...|    11.519|/72gkEGmcQhC8sA2r...|[{JP, Japan}, {US...|  1993-10-15| 12136938|    110|     [{en, English}]|Released|Don't move. Don't...|      Judgment Night|false|         6.4|       151|        [28, 53, 80]|     [33, 1644, 182]|\n",
            "|false|                null|                 null|    42000|http://www.lifein...|  8|tt0825671|               en|Life in Loops (A ...|Timo Novotny labe...|     1.686|                null|     [{AT, Austria}]|  2006-01-01|        0|     80|[{en, English}, {...|Released| A Megacities remix.|Life in Loops (A ...|false|         7.5|        11|                [99]|             [19123]|\n",
            "|false|/zqkmTXzjkAgXmEWL...| {/d8duYyyC9J5T825...| 11000000|http://www.starwa...| 11|tt0076759|               en|           Star Wars|Princess Leia is ...|     63.45|/6FfCtAuVAW8XJjZ7...|[{US, United Stat...|  1977-05-25|775398007|    121|     [{en, English}]|Released|A long time ago i...|           Star Wars|false|         8.2|     13898|       [12, 28, 878]|             [1, 25]|\n",
            "|false|/dFYguAfeVt19qAbz...| {/2hC8HHRUvwRljYK...| 94000000|http://movies.dis...| 12|tt0266543|               en|        Finding Nemo|Nemo, an adventur...|    21.869|/xVNSgrsvpcAHPnyK...|[{US, United Stat...|  2003-05-30|940335536|    100|     [{en, English}]|Released|There are 3.7 tri...|        Finding Nemo|false|         7.8|     13719|         [16, 10751]|                 [3]|\n",
            "|false|/7c9UVPPiTPltouxR...|                 null| 55000000|                    | 13|tt0109830|               en|        Forrest Gump|A man with a low ...|    31.375|/clolk7rB5lAjs41S...|[{US, United Stat...|  1994-07-06|677387716|    142|     [{en, English}]|Released|Life is like a bo...|        Forrest Gump|false|         8.4|     18329|     [35, 18, 10749]|                 [4]|\n",
            "|false|/DztBnZaqmla2sGUW...|                 null| 15000000|                    | 14|tt0169547|               en|     American Beauty|Lester Burnham, a...|     20.56|/wby9315QzVKdW9Bo...|[{US, United Stat...|  1999-09-15|356296601|    122|     [{en, English}]|Released|        Look closer.|     American Beauty|false|         8.0|      8121|                [18]|           [2721, 7]|\n",
            "|false|/apbg31SYrIx7dsTJ...|                 null|   839727|                    | 15|tt0033467|               en|        Citizen Kane|Newspaper magnate...|    17.421|/9s30GrNHVWtqXqyj...|[{US, United Stat...|  1941-04-17| 23217674|    119|     [{en, English}]|Released|      It's terrific!|        Citizen Kane|false|         8.1|      3153|          [9648, 18]|          [6, 11447]|\n",
            "|false|/ikR2qy9xJCHX7M8i...|                 null| 12800000|                    | 16|tt0168629|               en|  Dancer in the Dark|Selma, a Czech im...|    10.249|/9rsivF4sWfmBzrNr...|[{AR, Argentina},...|  2000-05-17| 40031879|    141|     [{en, English}]|Released|You don't need ey...|  Dancer in the Dark|false|         7.9|      1026|            [18, 80]|[53671, 8, 76, 11...|\n",
            "|false|/7PTtdFO5sphcc91e...|                 null|        0|http://www.whatis...| 17|tt0411267|               en|            The Dark|Adèle and her dau...|     7.364|/5DwAoId6cc23wxH3...|[{DE, Germany}, {...|  2005-09-28|        0|     87|[{cy, Cymraeg}, {...|Released|One of the living...|            The Dark|false|         5.9|       168|      [27, 53, 9648]|[47, 248, 2268, 2...|\n",
            "|false|/wgvc3PmjQGtYYDWa...|                 null| 90000000|                    | 18|tt0119116|               en|   The Fifth Element|In 2257, a taxi d...|    31.945|/fPtlCO1yQtnoLHOw...|      [{FR, France}]|  1997-05-02|263920180|    126|[{en, English}, {...|Released|There is no futur...|   The Fifth Element|false|         7.5|      7401|[12, 14, 28, 53, ...|                 [9]|\n",
            "|false|/e5kr5W12zgJneQvO...|                 null|  1300000|                    | 19|tt0017136|               de|          Metropolis|In a futuristic c...|    17.884|/3F5OKhpC6rqq5Kdj...|     [{DE, Germany}]|  1927-01-10|   650422|    153| [{xx, No Language}]|Released|There can be no u...|          Metropolis|false|         8.2|      1517|           [18, 878]|             [12372]|\n",
            "|false|/kZyurQjTMLHalUxs...|                 null|        0|http://www.clubcu...| 20|tt0314412|               en|  My Life Without Me|A fatally ill mot...|     9.584|/9Fa7tCEKIha1llGH...|[{CA, Canada}, {E...|  2003-03-07|  9726954|    106|     [{en, English}]|Released|                    |  My Life Without Me|false|         5.9|       256|         [18, 10749]|            [49, 77]|\n",
            "|false|/bbBHo57EN8yhF6LW...| {/rbeqwDmy0yPMxBq...|        0|                    | 21|tt0060371|               en|  The Endless Summer|Bruce Brown's The...|     5.488|/5W5uaqQ7NZTwoDMK...|[{US, United Stat...|  1966-06-15|        0|     91|     [{en, English}]|Released|The Search for th...|  The Endless Summer|false|         7.8|        54|                [99]|             [13723]|\n",
            "|false|/rtF4NIm1Lv9zjJhC...| {/zJd4E0ImT1U6O8k...|140000000|http://disney.go....| 22|tt0325980|               en|Pirates of the Ca...|Jack Sparrow, a f...|    31.242|/z8onk7LV9Mmw6zKz...|[{US, United Stat...|  2003-07-09|655011224|    143|     [{en, English}]|Released|Prepare to be blo...|Pirates of the Ca...|false|         7.7|     14643|        [12, 14, 28]|            [130, 2]|\n",
            "|false|/iffzIhuLAO38Po6s...| {/oCLKNACMNrEf4T1...| 30000000|http://www.mirama...| 24|tt0266697|               en|   Kill Bill: Vol. 1|An assassin is sh...|    18.914|/v7TaX8kXMXs5yFFG...|[{US, United Stat...|  2003-10-10|180899045|    111|[{en, English}, {...|Released|A roaring rampage...|   Kill Bill: Vol. 1|false|         8.0|     11919|            [28, 80]|     [14, 59, 39121]|\n",
            "|false|/38tSutxTmkWJswHe...| {/ifSnip5tvaHvxLP...| 72000000|                    | 25|tt0418763|               en|             Jarhead|Jarhead is a film...|    12.458|/4rCzaZy5Qkvxh5xa...|[{DE, Germany}, {...|  2005-11-04| 96889998|    123|[{en, English}, {...|Released|Welcome to the suck.|             Jarhead|false|         6.6|      1727|         [18, 10752]|[33, 14440, 1522,...|\n",
            "|false|                null|                 null|  1400000|http://www.walkon...| 26|tt0352994|               he|  LaLehet Al HaMayim|Eyal, an Israeli ...|     3.631|/iJG6gNeEHlgrIvYk...|[{IL, Israel}, {S...|  2004-02-05|        0|    103|[{de, Deutsch}, {...|Released|He was trained to...|       Walk on Water|false|         6.9|        44|                [18]|            [15, 16]|\n",
            "+-----+--------------------+---------------------+---------+--------------------+---+---------+-----------------+--------------------+--------------------+----------+--------------------+--------------------+------------+---------+-------+--------------------+--------+--------------------+--------------------+-----+------------+----------+--------------------+--------------------+\n",
            "only showing top 20 rows\n",
            "\n"
          ]
        }
      ]
    },
    {
      "cell_type": "code",
      "source": [
        "# drop genre and companies\n",
        "initial_columns = df_series.schema.names\n",
        "\n",
        "df_series \\\n",
        "    .withColumn(\"genre\", F.explode(\"genres\")) \\\n",
        "    .select(*initial_columns, F.col(\"genre.id\").alias(\"genre_id\")) \\\n",
        "    .groupBy(*initial_columns).agg(F.collect_list(\"genre_id\").alias(\"genre_ids\")) \\\n",
        "    .withColumn(\"company\", F.explode(\"production_companies\")) \\\n",
        "    .select(*initial_columns, \"genre_ids\", F.col(\"company.id\").alias(\"company_id\")) \\\n",
        "    .groupBy(*initial_columns, \"genre_ids\").agg(F.collect_list(\"company_id\").alias(\"company_ids\")) \\\n",
        "    .drop(\"genres\", \"production_companies\") \\\n",
        "    .orderBy(F.col(\"id\")) \\\n",
        "    .show()\n",
        "\n",
        "# the table below will be saved to dwh as factual table"
      ],
      "metadata": {
        "id": "4450_BF41W5q",
        "outputId": "fd5ed1a1-01d9-46c1-d017-246b72ef7788",
        "colab": {
          "base_uri": "https://localhost:8080/"
        }
      },
      "execution_count": 70,
      "outputs": [
        {
          "output_type": "stream",
          "name": "stdout",
          "text": [
            "+--------------------+--------------------+----------------+--------------+--------------------+---+-------------+---------+-------------+--------------------+--------------------+--------------------+-------------------+------------------+-----------------+--------------+-----------------+--------------------+--------------------+----------+--------------------+--------------------+----------------+-----------+------------+----------+--------------------+--------------------+\n",
            "|       backdrop_path|          created_by|episode_run_time|first_air_date|            homepage| id|in_production|languages|last_air_date| last_episode_to_air|                name|            networks|next_episode_to_air|number_of_episodes|number_of_seasons|origin_country|original_language|       original_name|            overview|popularity|         poster_path|             seasons|          status|       type|vote_average|vote_count|           genre_ids|         company_ids|\n",
            "+--------------------+--------------------+----------------+--------------+--------------------+---+-------------+---------+-------------+--------------------+--------------------+--------------------+-------------------+------------------+-----------------+--------------+-----------------+--------------------+--------------------+----------+--------------------+--------------------+----------------+-----------+------------+----------+--------------------+--------------------+\n",
            "|                null|[{52532e3219c2957...|        [30, 22]|    2000-05-31|                    |  2|        false|     [en]|   2002-12-14|{2002-12-14, 6, 1...|Clerks: The Anima...|[{2, /ndAvF4JLsli...|               null|                 6|                1|          [US]|               en|Clerks: The Anima...|Clerks is an Amer...|     4.983|/xunXvzFlkf1GGgMk...|[{null, 7, 232812...|           Ended|   Scripted|         6.9|        51|            [16, 35]|[1558, 16934, 900...|\n",
            "|/as6DK6A84DHcsnCq...|                  []|    [25, 23, 30]|    2006-02-11|http://www.shurik...| 14|        false|     [en]|   2006-11-11|{2006-11-11, 26, ...|     Shuriken School|[{13, /ikZXxg6Gnw...|               null|                26|                1|      [FR, ES]|               en|     Shuriken School|Shuriken School i...|      4.29|/eJ5AyyzqmBHhxOBQ...|[{2006-08-20, 26,...|           Ended|   Scripted|         5.2|         5|     [35, 16, 10759]|      [75257, 17065]|\n",
            "|/vHjwRJzkzYKECMQL...|[{52532eb819c2957...|        [30, 28]|    1968-02-19|https://www.miste...| 15|        false|     [en]|   2001-08-31|{2001-08-31, 5, 2...|Mister Rogers' Ne...|[{14, /d4OH7tMO4e...|               null|                63|               31|          [US]|               en|Mister Rogers' Ne...|Mister Rogers' Ne...|      2.78|/ja2uJQtBMWaH5d8u...|[{1968-02-19, 25,...|           Ended|   Scripted|         4.9|        49|             [10762]|             [16021]|\n",
            "|                null|[{52532eca19c2957...|            [25]|    1984-07-17|                    | 18|        false|     [en]|         null|                null|         W*A*L*T*E*R|[{16, /nm8d7P7MJN...|               null|                 0|                0|          [US]|               en|         W*A*L*T*E*R|W*A*L*T*E*R is a ...|     1.348|                null|[{1984-07-17, 1, ...|           Ended|   Scripted|         5.5|         2|                [35]|              [1556]|\n",
            "|                null|[{52532ffa19c2957...|        [30, 23]|    1976-01-05|                    | 29|        false|     [en]|   1977-03-10|{1977-03-10, 177,...|Mary Hartman, Mar...|[{184, null, Synd...|               null|               307|                2|          [US]|               en|Mary Hartman, Mar...|Mary Hartman, Mar...|     8.285|/5OjNp3Versofo01e...|[{1976-01-06, 130...|           Ended|   Scripted|         8.0|         3|     [18, 10766, 35]|             [14109]|\n",
            "|                null|[{5a98f5a50e0a260...|            [60]|    1982-10-26|                    | 30|        false|     [en]|   1988-05-25|{1988-05-25, 22, ...|       St. Elsewhere|[{6, /o3OedEP0f9m...|               null|               137|                6|          [US]|               en|       St. Elsewhere|St. Elsewhere is ...|    44.992|/mEfcA56iisaOfnK8...|[{1982-10-26, 22,...|           Ended|   Scripted|         5.5|        41|                [18]|       [1556, 65900]|\n",
            "|/2YT2miEeJyUWad92...|[{5253314119c2957...|            [30]|    2002-09-20|                    | 33|        false|     [en]|   2006-03-24|{2006-03-24, 18, ...|What I Like About...|[{21, /9GlDHjQj9c...|               null|                87|                4|          [US]|               en|What I Like About...|Valerie Tyler is ...|    17.115|/gT0c8WpU010QqAOW...|[{2002-09-20, 23,...|           Ended|   Scripted|         5.8|        27|                [35]|        [1957, 2184]|\n",
            "|/dUhx116NRLdduV8B...|[{5253317819c2957...|            [30]|    1990-10-29|                    | 34|        false| [en, pl]|   1995-11-05|{1995-11-05, 10, ...|Keeping Up Appear...|[{4, /mVn7xESaTNm...|               null|                40|                5|          [GB]|               en|Keeping Up Appear...|Keeping Up Appear...|      8.37|/cdZZKNSvNYF4XJeq...|[{1991-12-25, 14,...|           Ended|   Scripted|         7.6|        61|                [35]|              [3324]|\n",
            "|/1G4E2Q15Z6Ujf6ky...|[{5921af469251414...|            [60]|    1993-09-27|                    | 35|        false|     [en]|   1995-11-27|{1995-11-27, 7, 7...|             Cracker|[{9, /5Rmw4ViYcjW...|               null|                24|                4|          [GB]|               en|             Cracker|The wise-cracking...|     7.874|/6TafPjjdnquokIOx...|[{1996-10-28, 3, ...|           Ended|   Scripted|         6.2|        39|            [80, 18]|             [14063]|\n",
            "|/jqUgrSO7U3ILxEig...|[{5253325019c2957...|        [60, 45]|    2005-01-03|http://cbs.com/sh...| 36|        false|     [en]|   2011-01-21|{2011-01-21, 13, ...|              Medium|[{6, /o3OedEP0f9m...|               null|               130|                7|          [US]|               en|              Medium|Allison Dubois wo...|    24.239|/aqawO5mYblDRwEmH...|[{2005-11-21, 30,...|           Ended|   Scripted|         7.0|       149|[80, 18, 9648, 10...|[55015, 19364, 55...|\n",
            "|/dpkuoYHx30upqQji...|[{5253328a19c2957...|            [60]|    1987-09-27|                    | 41|        false|     [en]|   1988-05-10|{1988-05-10, 22, ...|               Dolly|[{2, /ndAvF4JLsli...|               null|                22|                1|          [US]|               en|               Dolly|Dolly is a televi...|     2.257|/4VbhTN56P4EMHsWA...|[{1987-09-27, 22,...|           Ended|   Scripted|         0.0|         0|                [35]|              [5842]|\n",
            "|                null|[{56d60a929251413...|            [30]|    2003-03-15|http://www.31minu...| 43|        false|     [es]|   2014-12-27|{2014-12-27, 12, ...|          31 Minutos|[{25, /qTSv2HzTql...|               null|                68|                4|          [CL]|               es|          31 Minutos|Chilean televisio...|     4.078|/gKbhADGjtMB1Mxir...|[{2003-11-22, 2, ...|           Ended|   Scripted|         8.8|         4|  [35, 10762, 10751]|             [86971]|\n",
            "|/A4Ab2l6v5Y4eFp4h...|                  []|            [22]|    1993-09-06|                    | 44|        false|     [it]|   1993-12-03|{1993-12-03, 3, 1...|Adventures of Son...|[{26, /hbifXPpM55...|               null|                65|                4|          [US]|               en|Adventures of Son...|Adventures of Son...|      5.72|/274NPhGUlqrrsyjr...|[{1993-09-06, 19,...|           Ended|   Scripted|         5.9|        30|[16, 10765, 10759...|       [96345, 5370]|\n",
            "|/o8IhJLFGLhqhpgKf...|[{5681665fc3a3682...|            [60]|    2002-10-20|http://www.bbc.co...| 45|         true|     [en]|   2020-03-01|{2020-03-01, 6, 2...|            Top Gear|[{332, /bfAVKGrJG...|               null|               195|               28|          [GB]|               en|            Top Gear|The hosts talk ab...|    32.435|/aqM6QnuhSXzjHlKb...|[{2003-07-27, 76,...|Returning Series|Documentary|         7.4|       385|                [99]|              [3324]|\n",
            "|/aICnmyMz6xKcWbe0...|[{5253330b19c2957...|            [23]|    1972-04-09|http://chespirito...| 47|        false| [es, pt]|   1980-07-21|{1980-07-21, 50, ...|   El Chavo del Ocho|[{58, /3vFK8I1mW1...|               null|               543|                8|          [MX]|               es|   El Chavo del Ocho|The mishaps of Ch...|    22.097|/lQFO5cPoYfKrACay...|[{1973-07-23, 9, ...|           Ended|   Scripted|         8.4|        45|         [35, 10751]|             [58400]|\n",
            "|                null|[{5253334e19c2957...|        [45, 60]|    1987-03-11|                    | 51|        false|     [en]|   1988-06-07|{1988-06-07, 22, ...|     Houston Knights|[{16, /nm8d7P7MJN...|               null|                31|                2|          [US]|               en|     Houston Knights|Houston Knights i...|     4.004|                null|[{1987-03-11, 9, ...|           Ended|   Scripted|         0.0|         0|            [18, 80]|              [3614]|\n",
            "|/g8ISMv5NA3VCStfu...|[{525333e819c2957...|            [25]|    1998-08-23|http://www.that70...| 52|        false| [es, en]|   2006-05-18|{2006-05-18, 22, ...|      That '70s Show|[{19, /1DSpHrWyOO...|               null|               200|                8|          [US]|               en|      That '70s Show|Crank up the 8-tr...|    40.386|/tVTXH2wfHlKDM3D0...|[{2002-04-30, 12,...|           Ended|   Scripted|         7.7|       547|         [35, 10751]|              [3215]|\n",
            "|                null|                  []|        [30, 23]|    2003-08-19|                    | 56|        false|     [en]|   2005-03-30|{2005-03-30, 10, ...|Newlyweds: Nick a...|[{33, /e9GMyvaguU...|               null|                41|                3|          [US]|               en|Newlyweds: Nick a...|Newlyweds: Nick a...|     3.149|                null|[{2004-11-17, 4, ...|           Ended|    Reality|         7.4|         7|             [10764]|             [11534]|\n",
            "|/5h7NKTKhp46uRQh2...|[{589f43a89251411...|        [60, 42]|    2006-07-16|                    | 57|        false|     [en]|   2006-10-15|{2006-10-15, 13, ...|       Angela's Eyes|[{34, /kEeaVLcJ6L...|               null|                13|                1|          [US]|               en|       Angela's Eyes|FBI agent Angela ...|     3.717|/o5jgPizvKMRYKUB2...|[{2006-07-16, 13,...|           Ended|   Scripted|         7.0|         1|         [18, 10759]|[86426, 86425, 26...|\n",
            "|/utbjIns51NGDogte...|[{525334c119c2957...|            [90]|    2004-02-11|                    | 59|        false|     [tr]|   2009-06-24|{2009-06-24, 28, ...|   The European Side|[{36, /qCnMXkdER5...|               null|               191|                6|          [TR]|               tr|       Avrupa Yakası|Avrupa Yakası (en...|      5.35|/7yCbsCn9aqRBcc9R...|[{2004-02-11, 35,...|           Ended|   Scripted|         8.3|        23|         [10751, 35]|             [70695]|\n",
            "+--------------------+--------------------+----------------+--------------+--------------------+---+-------------+---------+-------------+--------------------+--------------------+--------------------+-------------------+------------------+-----------------+--------------+-----------------+--------------------+--------------------+----------+--------------------+--------------------+----------------+-----------+------------+----------+--------------------+--------------------+\n",
            "only showing top 20 rows\n",
            "\n"
          ]
        }
      ]
    },
    {
      "cell_type": "code",
      "source": [
        "explode_array_column(df_movies, \"production_companies\", \"companies\") \\\n",
        "    .select(\"companies.*\").where(F.col(\"id\") == 6689).show()"
      ],
      "metadata": {
        "colab": {
          "base_uri": "https://localhost:8080/"
        },
        "id": "OjSJQoGzXufn",
        "outputId": "c2076825-93fb-4afc-ede1-2bd763974222"
      },
      "execution_count": null,
      "outputs": [
        {
          "output_type": "stream",
          "name": "stdout",
          "text": [
            "+----+--------------------+-----+--------------+\n",
            "|  id|           logo_path| name|origin_country|\n",
            "+----+--------------------+-----+--------------+\n",
            "|6689|/i6J2W84TzUf59PdM...|SHAFT|            JP|\n",
            "|6689|/i6J2W84TzUf59PdM...|SHAFT|            JP|\n",
            "|6689|/vaKMJDLIZCeqhGC5...|SHAFT|            JP|\n",
            "|6689|/i6J2W84TzUf59PdM...|SHAFT|            JP|\n",
            "|6689|/i6J2W84TzUf59PdM...|SHAFT|            JP|\n",
            "|6689|/i6J2W84TzUf59PdM...|SHAFT|            JP|\n",
            "|6689|/i6J2W84TzUf59PdM...|SHAFT|            JP|\n",
            "|6689|/i6J2W84TzUf59PdM...|SHAFT|            JP|\n",
            "|6689|/vaKMJDLIZCeqhGC5...|SHAFT|            JP|\n",
            "|6689|/vaKMJDLIZCeqhGC5...|SHAFT|            JP|\n",
            "|6689|/i6J2W84TzUf59PdM...|SHAFT|            JP|\n",
            "|6689|/i6J2W84TzUf59PdM...|SHAFT|            JP|\n",
            "|6689|/i6J2W84TzUf59PdM...|SHAFT|            JP|\n",
            "|6689|/i6J2W84TzUf59PdM...|SHAFT|            JP|\n",
            "|6689|/i6J2W84TzUf59PdM...|SHAFT|            JP|\n",
            "|6689|/vaKMJDLIZCeqhGC5...|SHAFT|            JP|\n",
            "|6689|/i6J2W84TzUf59PdM...|SHAFT|            JP|\n",
            "|6689|/i6J2W84TzUf59PdM...|SHAFT|            JP|\n",
            "|6689|/vaKMJDLIZCeqhGC5...|SHAFT|            JP|\n",
            "|6689|/vaKMJDLIZCeqhGC5...|SHAFT|            JP|\n",
            "+----+--------------------+-----+--------------+\n",
            "only showing top 20 rows\n",
            "\n"
          ]
        }
      ]
    },
    {
      "cell_type": "code",
      "source": [
        "df_movies.write.parquet(\"./movies.parquet\")"
      ],
      "metadata": {
        "id": "NOkwb_R3m5jF"
      },
      "execution_count": null,
      "outputs": []
    },
    {
      "cell_type": "code",
      "source": [
        "!gcloud auth login"
      ],
      "metadata": {
        "colab": {
          "base_uri": "https://localhost:8080/"
        },
        "id": "mUXzZV6QnlEk",
        "outputId": "deb06fda-a70f-458d-af56-0785e88020e8"
      },
      "execution_count": null,
      "outputs": [
        {
          "output_type": "stream",
          "name": "stdout",
          "text": [
            "Go to the following link in your browser:\n",
            "\n",
            "    https://accounts.google.com/o/oauth2/auth?response_type=code&client_id=32555940559.apps.googleusercontent.com&redirect_uri=urn%3Aietf%3Awg%3Aoauth%3A2.0%3Aoob&scope=openid+https%3A%2F%2Fwww.googleapis.com%2Fauth%2Fuserinfo.email+https%3A%2F%2Fwww.googleapis.com%2Fauth%2Fcloud-platform+https%3A%2F%2Fwww.googleapis.com%2Fauth%2Fappengine.admin+https%3A%2F%2Fwww.googleapis.com%2Fauth%2Fcompute+https%3A%2F%2Fwww.googleapis.com%2Fauth%2Faccounts.reauth&state=4Tbew4LMS0L3dkpjqYrIjjWYCLVBQQ&prompt=consent&access_type=offline&code_challenge=c3f2wKUyJK1GdLANq2XODdOsKCTldS5K05RLPYPNZXQ&code_challenge_method=S256\n",
            "\n",
            "Enter verification code: 4/1AX4XfWhhfNtJr-J3TI6gYQMA-WYXNplsSCNm58EIrsTGx0mAJU5eT1-d5hc\n",
            "\n",
            "You are now logged in as [afahmi13@gmail.com].\n",
            "Your current project is [None].  You can change this setting by running:\n",
            "  $ gcloud config set project PROJECT_ID\n"
          ]
        }
      ]
    },
    {
      "cell_type": "code",
      "source": [
        "!gsutil -m cp -r ./movies.parquet gs://de-porto/qoala"
      ],
      "metadata": {
        "colab": {
          "base_uri": "https://localhost:8080/"
        },
        "id": "xgJdPdNqnnI8",
        "outputId": "d3660d25-6fa4-43e1-fabd-52d3c576fd45"
      },
      "execution_count": null,
      "outputs": [
        {
          "output_type": "stream",
          "name": "stdout",
          "text": [
            "Copying file://./movies.parquet/.part-00002-c0f48c51-29e2-4949-92fb-1f353658cae7-c000.snappy.parquet.crc [Content-Type=application/octet-stream]...\n",
            "Copying file://./movies.parquet/part-00000-c0f48c51-29e2-4949-92fb-1f353658cae7-c000.snappy.parquet [Content-Type=application/octet-stream]...\n",
            "/ [0/10 files][    0.0 B/142.0 MiB]   0% Done                                   \r/ [0/10 files][    0.0 B/142.0 MiB]   0% Done                                   \rCopying file://./movies.parquet/.part-00001-c0f48c51-29e2-4949-92fb-1f353658cae7-c000.snappy.parquet.crc [Content-Type=application/octet-stream]...\n",
            "/ [0/10 files][    0.0 B/142.0 MiB]   0% Done                                   \rCopying file://./movies.parquet/_SUCCESS [Content-Type=application/octet-stream]...\n",
            "Copying file://./movies.parquet/.part-00000-c0f48c51-29e2-4949-92fb-1f353658cae7-c000.snappy.parquet.crc [Content-Type=application/octet-stream]...\n",
            "/ [0/10 files][    0.0 B/142.0 MiB]   0% Done                                   \rCopying file://./movies.parquet/.part-00003-c0f48c51-29e2-4949-92fb-1f353658cae7-c000.snappy.parquet.crc [Content-Type=application/octet-stream]...\n",
            "/ [0/10 files][    0.0 B/142.0 MiB]   0% Done                                   \r/ [0/10 files][    0.0 B/142.0 MiB]   0% Done                                   \rCopying file://./movies.parquet/part-00001-c0f48c51-29e2-4949-92fb-1f353658cae7-c000.snappy.parquet [Content-Type=application/octet-stream]...\n",
            "/ [0/10 files][    0.0 B/142.0 MiB]   0% Done                                   \rCopying file://./movies.parquet/part-00003-c0f48c51-29e2-4949-92fb-1f353658cae7-c000.snappy.parquet [Content-Type=application/octet-stream]...\n",
            "/ [0/10 files][    0.0 B/142.0 MiB]   0% Done                                   \rCopying file://./movies.parquet/._SUCCESS.crc [Content-Type=application/octet-stream]...\n",
            "Copying file://./movies.parquet/part-00002-c0f48c51-29e2-4949-92fb-1f353658cae7-c000.snappy.parquet [Content-Type=application/octet-stream]...\n",
            "|\n",
            "Operation completed over 10 objects/142.0 MiB.                                   \n"
          ]
        }
      ]
    },
    {
      "cell_type": "markdown",
      "source": [
        "### Join files to singe file"
      ],
      "metadata": {
        "id": "ufpVtE0j71HS"
      }
    },
    {
      "cell_type": "code",
      "source": [
        "from os import listdir\n",
        "from os.path import isfile, join\n",
        "import json"
      ],
      "metadata": {
        "id": "eQk3A-xH70Sw"
      },
      "execution_count": null,
      "outputs": []
    },
    {
      "cell_type": "code",
      "source": [
        "series_path=\"/content/series/series\"\n",
        "series_files = [f for f in listdir(series_path) if isfile(join(series_path, f))]"
      ],
      "metadata": {
        "id": "gmcxQ_1P8Hcm"
      },
      "execution_count": null,
      "outputs": []
    },
    {
      "cell_type": "code",
      "source": [
        "join_series_file=open(\"/content/series_joined.json\", \"a+\")\n",
        "for series_file in series_files:\n",
        "    with open(join(series_path, series_file)) as sf:\n",
        "        payload = sf.read()\n",
        "        join_series_file.write(payload+'\\n')\n",
        "join_series_file.close()"
      ],
      "metadata": {
        "id": "4LqEzJiz8S8d"
      },
      "execution_count": null,
      "outputs": []
    },
    {
      "cell_type": "code",
      "source": [
        "movies_path=\"/content/movies/movies\"\n",
        "movies_files = [f for f in listdir(movies_path) if isfile(join(movies_path, f))]"
      ],
      "metadata": {
        "id": "Au1AAitZ-W3h"
      },
      "execution_count": null,
      "outputs": []
    },
    {
      "cell_type": "code",
      "source": [
        "join_movies_file=open(\"/content/movies_joined.json\", \"a+\")\n",
        "for movies_file in movies_files:\n",
        "    with open(join(movies_path, movies_file)) as sf:\n",
        "        payload = sf.read()\n",
        "        join_movies_file.write(payload+'\\n')\n",
        "join_movies_file.close()"
      ],
      "metadata": {
        "id": "5_Q6sPkJ-mac"
      },
      "execution_count": null,
      "outputs": []
    },
    {
      "cell_type": "code",
      "source": [
        "!cp /content/movies_joined.json /content/drive/MyDrive/datasets/tmdb/\n",
        "!cp /content/series_joined.json /content/drive/MyDrive/datasets/tmdb/"
      ],
      "metadata": {
        "id": "gqM-8fIh_GAV"
      },
      "execution_count": null,
      "outputs": []
    },
    {
      "cell_type": "code",
      "source": [
        "!ls -l /content"
      ],
      "metadata": {
        "colab": {
          "base_uri": "https://localhost:8080/"
        },
        "id": "mlMiN_5O_-VE",
        "outputId": "ca57f89b-da39-4970-9d43-d8f67afad85e"
      },
      "execution_count": null,
      "outputs": [
        {
          "output_type": "stream",
          "name": "stdout",
          "text": [
            "total 594384\n",
            "drwx------ 5 root root      4096 Feb 10 07:18 drive\n",
            "drwxr-xr-x 3 root root      4096 Feb 10 07:38 movies\n",
            "-rw-r--r-- 1 root root 475254159 Feb 10 09:38 movies_joined.json\n",
            "drwxr-xr-x 1 root root      4096 Feb  1 14:32 sample_data\n",
            "drwxr-xr-x 3 root root      4096 Feb 10 07:40 series\n",
            "-rw-r--r-- 1 root root 133373315 Feb 10 09:32 series_joined.json\n"
          ]
        }
      ]
    },
    {
      "cell_type": "code",
      "source": [
        "!gcloud auth login"
      ],
      "metadata": {
        "colab": {
          "base_uri": "https://localhost:8080/"
        },
        "id": "JIsP13OiEyLy",
        "outputId": "4269a285-c136-4419-e828-80f4bb9576fb"
      },
      "execution_count": null,
      "outputs": [
        {
          "output_type": "stream",
          "name": "stdout",
          "text": [
            "Go to the following link in your browser:\n",
            "\n",
            "    https://accounts.google.com/o/oauth2/auth?response_type=code&client_id=32555940559.apps.googleusercontent.com&redirect_uri=urn%3Aietf%3Awg%3Aoauth%3A2.0%3Aoob&scope=openid+https%3A%2F%2Fwww.googleapis.com%2Fauth%2Fuserinfo.email+https%3A%2F%2Fwww.googleapis.com%2Fauth%2Fcloud-platform+https%3A%2F%2Fwww.googleapis.com%2Fauth%2Fappengine.admin+https%3A%2F%2Fwww.googleapis.com%2Fauth%2Fcompute+https%3A%2F%2Fwww.googleapis.com%2Fauth%2Faccounts.reauth&state=oI9FufrvgWrWQTQR0EoT05d98K6H5g&prompt=consent&access_type=offline&code_challenge=1hheCwrBwkB2CuyrgqMsR_gyJ2Nr0DoakmJ5GDlLx04&code_challenge_method=S256\n",
            "\n",
            "Enter verification code: 4/1AX4XfWjKdS2_A24yIYy5Xa3MsNI-a2FOhEHoeZ4pacruHlzHnt0OaZf9vjM\n",
            "\n",
            "You are now logged in as [afahmi13@gmail.com].\n",
            "Your current project is [None].  You can change this setting by running:\n",
            "  $ gcloud config set project PROJECT_ID\n"
          ]
        }
      ]
    },
    {
      "cell_type": "code",
      "source": [
        "!gsutil cp /content/movies_joined.json gs://de-porto/qoala/raw_data"
      ],
      "metadata": {
        "colab": {
          "base_uri": "https://localhost:8080/"
        },
        "id": "IcNveO2hEb_E",
        "outputId": "e1e3982b-2b05-488a-c9bc-6ccb7230b389"
      },
      "execution_count": null,
      "outputs": [
        {
          "output_type": "stream",
          "name": "stdout",
          "text": [
            "Copying file:///content/movies_joined.json [Content-Type=application/json]...\n",
            "/ [0 files][    0.0 B/453.2 MiB]                                                \r==> NOTE: You are uploading one or more large file(s), which would run\n",
            "significantly faster if you enable parallel composite uploads. This\n",
            "feature can be enabled by editing the\n",
            "\"parallel_composite_upload_threshold\" value in your .boto\n",
            "configuration file. However, note that if you do this large files will\n",
            "be uploaded as `composite objects\n",
            "<https://cloud.google.com/storage/docs/composite-objects>`_,which\n",
            "means that any user who downloads such objects will need to have a\n",
            "compiled crcmod installed (see \"gsutil help crcmod\"). This is because\n",
            "without a compiled crcmod, computing checksums on composite objects is\n",
            "so slow that gsutil disables downloads of composite objects.\n",
            "\n",
            "-\n",
            "Operation completed over 1 objects/453.2 MiB.                                    \n"
          ]
        }
      ]
    },
    {
      "cell_type": "code",
      "source": [
        "!gsutil cp /content/series_joined.json gs://de-porto/qoala/raw_data"
      ],
      "metadata": {
        "colab": {
          "base_uri": "https://localhost:8080/"
        },
        "id": "TR95HTqIFA2G",
        "outputId": "801429e0-16d1-4b61-ee01-ee2cf3417ad1"
      },
      "execution_count": null,
      "outputs": [
        {
          "output_type": "stream",
          "name": "stdout",
          "text": [
            "Copying file:///content/series_joined.json [Content-Type=application/json]...\n",
            "/\n",
            "Operation completed over 1 objects/127.2 MiB.                                    \n"
          ]
        }
      ]
    },
    {
      "cell_type": "code",
      "source": [
        "from google.colab import drive\n",
        "drive.mount('/content/drive', force_remount=True)"
      ],
      "metadata": {
        "colab": {
          "base_uri": "https://localhost:8080/",
          "height": 624
        },
        "id": "MshH4ltYjeqy",
        "outputId": "68264b2e-d051-4191-ca97-69eeb54ba8aa"
      },
      "execution_count": null,
      "outputs": [
        {
          "output_type": "error",
          "ename": "TIMEOUT",
          "evalue": "ignored",
          "traceback": [
            "\u001b[0;31m---------------------------------------------------------------------------\u001b[0m",
            "\u001b[0;31mTIMEOUT\u001b[0m                                   Traceback (most recent call last)",
            "\u001b[0;32m<ipython-input-51-a145c0899d7d>\u001b[0m in \u001b[0;36m<module>\u001b[0;34m()\u001b[0m\n\u001b[1;32m      1\u001b[0m \u001b[0;32mfrom\u001b[0m \u001b[0mgoogle\u001b[0m\u001b[0;34m.\u001b[0m\u001b[0mcolab\u001b[0m \u001b[0;32mimport\u001b[0m \u001b[0mdrive\u001b[0m\u001b[0;34m\u001b[0m\u001b[0;34m\u001b[0m\u001b[0m\n\u001b[0;32m----> 2\u001b[0;31m \u001b[0mdrive\u001b[0m\u001b[0;34m.\u001b[0m\u001b[0mmount\u001b[0m\u001b[0;34m(\u001b[0m\u001b[0;34m'/content/drive'\u001b[0m\u001b[0;34m,\u001b[0m \u001b[0mforce_remount\u001b[0m\u001b[0;34m=\u001b[0m\u001b[0;32mTrue\u001b[0m\u001b[0;34m)\u001b[0m\u001b[0;34m\u001b[0m\u001b[0;34m\u001b[0m\u001b[0m\n\u001b[0m",
            "\u001b[0;32m/usr/local/lib/python3.7/dist-packages/google/colab/drive.py\u001b[0m in \u001b[0;36mmount\u001b[0;34m(mountpoint, force_remount, timeout_ms, use_metadata_server)\u001b[0m\n\u001b[1;32m    111\u001b[0m       \u001b[0mtimeout_ms\u001b[0m\u001b[0;34m=\u001b[0m\u001b[0mtimeout_ms\u001b[0m\u001b[0;34m,\u001b[0m\u001b[0;34m\u001b[0m\u001b[0;34m\u001b[0m\u001b[0m\n\u001b[1;32m    112\u001b[0m       \u001b[0muse_metadata_server\u001b[0m\u001b[0;34m=\u001b[0m\u001b[0muse_metadata_server\u001b[0m\u001b[0;34m,\u001b[0m\u001b[0;34m\u001b[0m\u001b[0;34m\u001b[0m\u001b[0m\n\u001b[0;32m--> 113\u001b[0;31m       ephemeral=ephemeral)\n\u001b[0m\u001b[1;32m    114\u001b[0m \u001b[0;34m\u001b[0m\u001b[0m\n\u001b[1;32m    115\u001b[0m \u001b[0;34m\u001b[0m\u001b[0m\n",
            "\u001b[0;32m/usr/local/lib/python3.7/dist-packages/google/colab/drive.py\u001b[0m in \u001b[0;36m_mount\u001b[0;34m(mountpoint, force_remount, timeout_ms, use_metadata_server, ephemeral)\u001b[0m\n\u001b[1;32m    272\u001b[0m         \u001b[0mdrive_exited\u001b[0m\u001b[0;34m,\u001b[0m\u001b[0;34m\u001b[0m\u001b[0;34m\u001b[0m\u001b[0m\n\u001b[1;32m    273\u001b[0m         \u001b[0moauth_failed\u001b[0m\u001b[0;34m,\u001b[0m\u001b[0;34m\u001b[0m\u001b[0;34m\u001b[0m\u001b[0m\n\u001b[0;32m--> 274\u001b[0;31m         \u001b[0mdomain_disabled_drivefs\u001b[0m\u001b[0;34m,\u001b[0m\u001b[0;34m\u001b[0m\u001b[0;34m\u001b[0m\u001b[0m\n\u001b[0m\u001b[1;32m    275\u001b[0m     ])\n\u001b[1;32m    276\u001b[0m     \u001b[0;32mif\u001b[0m \u001b[0mcase\u001b[0m \u001b[0;34m==\u001b[0m \u001b[0;36m0\u001b[0m\u001b[0;34m:\u001b[0m\u001b[0;34m\u001b[0m\u001b[0;34m\u001b[0m\u001b[0m\n",
            "\u001b[0;32m/usr/local/lib/python3.7/dist-packages/pexpect/spawnbase.py\u001b[0m in \u001b[0;36mexpect\u001b[0;34m(self, pattern, timeout, searchwindowsize, async_, **kw)\u001b[0m\n\u001b[1;32m    342\u001b[0m         \u001b[0mcompiled_pattern_list\u001b[0m \u001b[0;34m=\u001b[0m \u001b[0mself\u001b[0m\u001b[0;34m.\u001b[0m\u001b[0mcompile_pattern_list\u001b[0m\u001b[0;34m(\u001b[0m\u001b[0mpattern\u001b[0m\u001b[0;34m)\u001b[0m\u001b[0;34m\u001b[0m\u001b[0;34m\u001b[0m\u001b[0m\n\u001b[1;32m    343\u001b[0m         return self.expect_list(compiled_pattern_list,\n\u001b[0;32m--> 344\u001b[0;31m                 timeout, searchwindowsize, async_)\n\u001b[0m\u001b[1;32m    345\u001b[0m \u001b[0;34m\u001b[0m\u001b[0m\n\u001b[1;32m    346\u001b[0m     def expect_list(self, pattern_list, timeout=-1, searchwindowsize=-1,\n",
            "\u001b[0;32m/usr/local/lib/python3.7/dist-packages/pexpect/spawnbase.py\u001b[0m in \u001b[0;36mexpect_list\u001b[0;34m(self, pattern_list, timeout, searchwindowsize, async_, **kw)\u001b[0m\n\u001b[1;32m    370\u001b[0m             \u001b[0;32mreturn\u001b[0m \u001b[0mexpect_async\u001b[0m\u001b[0;34m(\u001b[0m\u001b[0mexp\u001b[0m\u001b[0;34m,\u001b[0m \u001b[0mtimeout\u001b[0m\u001b[0;34m)\u001b[0m\u001b[0;34m\u001b[0m\u001b[0;34m\u001b[0m\u001b[0m\n\u001b[1;32m    371\u001b[0m         \u001b[0;32melse\u001b[0m\u001b[0;34m:\u001b[0m\u001b[0;34m\u001b[0m\u001b[0;34m\u001b[0m\u001b[0m\n\u001b[0;32m--> 372\u001b[0;31m             \u001b[0;32mreturn\u001b[0m \u001b[0mexp\u001b[0m\u001b[0;34m.\u001b[0m\u001b[0mexpect_loop\u001b[0m\u001b[0;34m(\u001b[0m\u001b[0mtimeout\u001b[0m\u001b[0;34m)\u001b[0m\u001b[0;34m\u001b[0m\u001b[0;34m\u001b[0m\u001b[0m\n\u001b[0m\u001b[1;32m    373\u001b[0m \u001b[0;34m\u001b[0m\u001b[0m\n\u001b[1;32m    374\u001b[0m     def expect_exact(self, pattern_list, timeout=-1, searchwindowsize=-1,\n",
            "\u001b[0;32m/usr/local/lib/python3.7/dist-packages/pexpect/expect.py\u001b[0m in \u001b[0;36mexpect_loop\u001b[0;34m(self, timeout)\u001b[0m\n\u001b[1;32m    179\u001b[0m             \u001b[0;32mreturn\u001b[0m \u001b[0mself\u001b[0m\u001b[0;34m.\u001b[0m\u001b[0meof\u001b[0m\u001b[0;34m(\u001b[0m\u001b[0me\u001b[0m\u001b[0;34m)\u001b[0m\u001b[0;34m\u001b[0m\u001b[0;34m\u001b[0m\u001b[0m\n\u001b[1;32m    180\u001b[0m         \u001b[0;32mexcept\u001b[0m \u001b[0mTIMEOUT\u001b[0m \u001b[0;32mas\u001b[0m \u001b[0me\u001b[0m\u001b[0;34m:\u001b[0m\u001b[0;34m\u001b[0m\u001b[0;34m\u001b[0m\u001b[0m\n\u001b[0;32m--> 181\u001b[0;31m             \u001b[0;32mreturn\u001b[0m \u001b[0mself\u001b[0m\u001b[0;34m.\u001b[0m\u001b[0mtimeout\u001b[0m\u001b[0;34m(\u001b[0m\u001b[0me\u001b[0m\u001b[0;34m)\u001b[0m\u001b[0;34m\u001b[0m\u001b[0;34m\u001b[0m\u001b[0m\n\u001b[0m\u001b[1;32m    182\u001b[0m         \u001b[0;32mexcept\u001b[0m\u001b[0;34m:\u001b[0m\u001b[0;34m\u001b[0m\u001b[0;34m\u001b[0m\u001b[0m\n\u001b[1;32m    183\u001b[0m             \u001b[0mself\u001b[0m\u001b[0;34m.\u001b[0m\u001b[0merrored\u001b[0m\u001b[0;34m(\u001b[0m\u001b[0;34m)\u001b[0m\u001b[0;34m\u001b[0m\u001b[0;34m\u001b[0m\u001b[0m\n",
            "\u001b[0;32m/usr/local/lib/python3.7/dist-packages/pexpect/expect.py\u001b[0m in \u001b[0;36mtimeout\u001b[0;34m(self, err)\u001b[0m\n\u001b[1;32m    142\u001b[0m             \u001b[0mexc\u001b[0m \u001b[0;34m=\u001b[0m \u001b[0mTIMEOUT\u001b[0m\u001b[0;34m(\u001b[0m\u001b[0mmsg\u001b[0m\u001b[0;34m)\u001b[0m\u001b[0;34m\u001b[0m\u001b[0;34m\u001b[0m\u001b[0m\n\u001b[1;32m    143\u001b[0m             \u001b[0mexc\u001b[0m\u001b[0;34m.\u001b[0m\u001b[0m__cause__\u001b[0m \u001b[0;34m=\u001b[0m \u001b[0;32mNone\u001b[0m    \u001b[0;31m# in Python 3.x we can use \"raise exc from None\"\u001b[0m\u001b[0;34m\u001b[0m\u001b[0;34m\u001b[0m\u001b[0m\n\u001b[0;32m--> 144\u001b[0;31m             \u001b[0;32mraise\u001b[0m \u001b[0mexc\u001b[0m\u001b[0;34m\u001b[0m\u001b[0;34m\u001b[0m\u001b[0m\n\u001b[0m\u001b[1;32m    145\u001b[0m \u001b[0;34m\u001b[0m\u001b[0m\n\u001b[1;32m    146\u001b[0m     \u001b[0;32mdef\u001b[0m \u001b[0merrored\u001b[0m\u001b[0;34m(\u001b[0m\u001b[0mself\u001b[0m\u001b[0;34m)\u001b[0m\u001b[0;34m:\u001b[0m\u001b[0;34m\u001b[0m\u001b[0;34m\u001b[0m\u001b[0m\n",
            "\u001b[0;31mTIMEOUT\u001b[0m: <pexpect.popen_spawn.PopenSpawn object at 0x7f8fc63a8d90>\nsearcher: searcher_re:\n    0: re.compile('google.colab.drive MOUNTED')\n    1: re.compile('root@575cf2e9cb10-83ce35f8426248dc9bda0b764b3701cb: ')\n    2: re.compile('(Go to this URL in a browser: https://.*)$')\n    3: re.compile('Drive File Stream encountered a problem and has stopped')\n    4: re.compile('drive EXITED')\n    5: re.compile('Authorization failed')\n    6: re.compile('The domain policy has disabled Drive File Stream')\n<pexpect.popen_spawn.PopenSpawn object at 0x7f8fc63a8d90>\nsearcher: searcher_re:\n    0: re.compile('google.colab.drive MOUNTED')\n    1: re.compile('root@575cf2e9cb10-83ce35f8426248dc9bda0b764b3701cb: ')\n    2: re.compile('(Go to this URL in a browser: https://.*)$')\n    3: re.compile('Drive File Stream encountered a problem and has stopped')\n    4: re.compile('drive EXITED')\n    5: re.compile('Authorization failed')\n    6: re.compile('The domain policy has disabled Drive File Stream')"
          ]
        }
      ]
    },
    {
      "cell_type": "code",
      "source": [
        "from pyspark.sql import SparkSession\n",
        "from pyspark.sql.types import StructType, StructField, IntegerType, StringType, DateType, FloatType, TimestampType"
      ],
      "metadata": {
        "id": "iM3S9pawgq_8"
      },
      "execution_count": null,
      "outputs": []
    },
    {
      "cell_type": "code",
      "source": [
        "spark = SparkSession.builder.appName(\"relearn\") \\\n",
        "    .config(\"spark.driver.maxResultSize\", \"4g\") \\\n",
        "    .getOrCreate()"
      ],
      "metadata": {
        "id": "_RviHweujCcN"
      },
      "execution_count": null,
      "outputs": []
    },
    {
      "cell_type": "code",
      "source": [
        "df_eq = spark.read.parquet(\"/content/drive/MyDrive/datasets/relearn_spark/equipment.parquet\")"
      ],
      "metadata": {
        "id": "siXu69Nfk3JA"
      },
      "execution_count": null,
      "outputs": []
    },
    {
      "cell_type": "code",
      "source": [
        "df_eq.show(5)"
      ],
      "metadata": {
        "colab": {
          "base_uri": "https://localhost:8080/"
        },
        "id": "MDuc5_2MlNEd",
        "outputId": "fe40d87a-71fe-4051-9728-0115a6d11477"
      },
      "execution_count": null,
      "outputs": [
        {
          "output_type": "stream",
          "name": "stdout",
          "text": [
            "+---+---------+-----------+----+\n",
            "| id|     type|      brand|year|\n",
            "+---+---------+-----------+----+\n",
            "|  2|Bulldozer|       Sany|2016|\n",
            "|  4|Bulldozer|      Volvo|2019|\n",
            "|  1|Bulldozer|    Komatsu|2018|\n",
            "|  5|Bulldozer|    Komatsu|2019|\n",
            "|  3|Bulldozer|Caterpillar|2018|\n",
            "+---+---------+-----------+----+\n",
            "only showing top 5 rows\n",
            "\n"
          ]
        }
      ]
    },
    {
      "cell_type": "code",
      "source": [
        "schema = StructType([\n",
        "    StructField(\"timestamp\", TimestampType(), False),\n",
        "    StructField(\"id\", IntegerType(), False),\n",
        "    StructField(\"type\", StringType(), False),\n",
        "    StructField(\"brand\", StringType(), False),\n",
        "    StructField(\"year\", DateType(), False),\n",
        "    StructField(\"location\", StringType(), False),\n",
        "    StructField(\"fuel_level\", FloatType(), False)\n",
        "])\n",
        "df_iot = spark.read.csv(\"/content/drive/MyDrive/datasets/relearn_spark/iot.csv\", header=True, schema=schema)"
      ],
      "metadata": {
        "id": "pLPnJyxOoGvq"
      },
      "execution_count": null,
      "outputs": []
    },
    {
      "cell_type": "code",
      "source": [
        "df_iot.printSchema()\n",
        "df_iot.show(5)"
      ],
      "metadata": {
        "colab": {
          "base_uri": "https://localhost:8080/"
        },
        "id": "a9IIHjuZpoKU",
        "outputId": "eb3ed7bb-92b6-4f20-d3b6-6c51dce6d75b"
      },
      "execution_count": null,
      "outputs": [
        {
          "output_type": "stream",
          "name": "stdout",
          "text": [
            "root\n",
            " |-- timestamp: timestamp (nullable = true)\n",
            " |-- id: integer (nullable = true)\n",
            " |-- type: string (nullable = true)\n",
            " |-- brand: string (nullable = true)\n",
            " |-- year: date (nullable = true)\n",
            " |-- location: string (nullable = true)\n",
            " |-- fuel_level: float (nullable = true)\n",
            "\n",
            "+-------------------+---+----------+-----------+----------+--------------------+----------+\n",
            "|          timestamp| id|      type|      brand|      year|            location|fuel_level|\n",
            "+-------------------+---+----------+-----------+----------+--------------------+----------+\n",
            "|2022-01-25 13:15:29| 13|Dump Truck|       Hino|2017-01-01|POINT(107.3225083...|  99.31521|\n",
            "|2022-01-25 13:16:26| 16|Dump Truck|       Fuso|2018-01-01|POINT(107.3192117...|  98.88088|\n",
            "|2022-01-25 13:15:29| 12|Dump Truck|       Fuso|2018-01-01|POINT(107.3213810...|  99.57359|\n",
            "|2022-01-25 13:18:10| 11|Dump Truck|       Hino|2015-01-01|POINT(107.3152080...|  96.41994|\n",
            "|2022-01-25 13:16:44|  7| Excavator|Caterpillar|2015-01-01|POINT(107.3199178...|  97.59215|\n",
            "+-------------------+---+----------+-----------+----------+--------------------+----------+\n",
            "only showing top 5 rows\n",
            "\n"
          ]
        }
      ]
    }
  ]
}